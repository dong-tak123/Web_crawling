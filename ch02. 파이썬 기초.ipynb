{
 "cells": [
  {
   "cell_type": "markdown",
   "id": "b9cc5fb1",
   "metadata": {},
   "source": [
    "###클래스와 객체"
   ]
  },
  {
   "cell_type": "code",
   "execution_count": 4,
   "id": "c1b46acf",
   "metadata": {},
   "outputs": [],
   "source": [
    "class Human:\n",
    "    def __init__(self, blood, hobby):\n",
    "        self.blood = blood\n",
    "        self.hobby = hobby\n",
    "    \n",
    "    def running(self, time):\n",
    "        print(time, \"초 동안 달린다.\")"
   ]
  },
  {
   "cell_type": "code",
   "execution_count": 5,
   "id": "640a672e",
   "metadata": {},
   "outputs": [],
   "source": [
    "dongtak = Human(\"O\", \"football\")"
   ]
  },
  {
   "cell_type": "code",
   "execution_count": 6,
   "id": "7c0fdbeb",
   "metadata": {},
   "outputs": [
    {
     "name": "stdout",
     "output_type": "stream",
     "text": [
      "10 초 동안 달린다.\n"
     ]
    }
   ],
   "source": [
    "dongtak.running(10)"
   ]
  },
  {
   "cell_type": "code",
   "execution_count": 7,
   "id": "9298008b",
   "metadata": {},
   "outputs": [
    {
     "name": "stdout",
     "output_type": "stream",
     "text": [
      "O football\n"
     ]
    }
   ],
   "source": [
    "print(dongtak.blood, dongtak.hobby)"
   ]
  },
  {
   "cell_type": "code",
   "execution_count": 8,
   "id": "694c0acf",
   "metadata": {},
   "outputs": [],
   "source": [
    "# 객체 삭제\n",
    "del dongtak"
   ]
  },
  {
   "cell_type": "code",
   "execution_count": 9,
   "id": "d7ca6c55",
   "metadata": {},
   "outputs": [
    {
     "ename": "NameError",
     "evalue": "name 'dongtak' is not defined",
     "output_type": "error",
     "traceback": [
      "\u001b[1;31m---------------------------------------------------------------------------\u001b[0m",
      "\u001b[1;31mNameError\u001b[0m                                 Traceback (most recent call last)",
      "Input \u001b[1;32mIn [9]\u001b[0m, in \u001b[0;36m<cell line: 1>\u001b[1;34m()\u001b[0m\n\u001b[1;32m----> 1\u001b[0m \u001b[38;5;28mprint\u001b[39m(\u001b[43mdongtak\u001b[49m)\n",
      "\u001b[1;31mNameError\u001b[0m: name 'dongtak' is not defined"
     ]
    }
   ],
   "source": [
    "print(dongtak)"
   ]
  },
  {
   "cell_type": "code",
   "execution_count": null,
   "id": "0959cccc",
   "metadata": {},
   "outputs": [],
   "source": []
  }
 ],
 "metadata": {
  "kernelspec": {
   "display_name": "web_crawling",
   "language": "python",
   "name": "py3_8_5"
  },
  "language_info": {
   "codemirror_mode": {
    "name": "ipython",
    "version": 3
   },
   "file_extension": ".py",
   "mimetype": "text/x-python",
   "name": "python",
   "nbconvert_exporter": "python",
   "pygments_lexer": "ipython3",
   "version": "3.8.5"
  }
 },
 "nbformat": 4,
 "nbformat_minor": 5
}
