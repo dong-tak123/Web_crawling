{
 "cells": [
  {
   "cell_type": "markdown",
   "id": "30dae8ea",
   "metadata": {},
   "source": [
    "#웹 크롤링의 기본 과정"
   ]
  },
  {
   "cell_type": "markdown",
   "id": "63a2ae78",
   "metadata": {},
   "source": [
    "1. 웹 사이트에 접속해서 웹 페이지를 확인\n",
    "2. F12를 눌러서 원하는 정보의 위치를 확인 및 분석\n",
    "3. 파이썬 코드를 작성해 접속한 웹 페이지의 html코드를 불러오기\n",
    "4. 불러온 데이터에서 원하는 정보를 가공 후 추출\n",
    "5. 추출 데이터를 CSV나 DB등 다양한 형태로 저장 및 가공, 시각화"
   ]
  },
  {
   "cell_type": "markdown",
   "id": "79829c45",
   "metadata": {},
   "source": [
    "#BeautifulSoup"
   ]
  },
  {
   "cell_type": "markdown",
   "id": "dccefaba",
   "metadata": {},
   "source": [
    "##BeautifulSoup 다루기 1"
   ]
  },
  {
   "cell_type": "code",
   "execution_count": 1,
   "id": "d97bba90",
   "metadata": {},
   "outputs": [],
   "source": [
    "from bs4 import BeautifulSoup"
   ]
  },
  {
   "cell_type": "code",
   "execution_count": 2,
   "id": "b51899fc",
   "metadata": {},
   "outputs": [],
   "source": [
    "# html 문서 전체를 하나의 문자열로 만듦\n",
    "\n",
    "html_doc = \"\"\"\n",
    "<!doctype html>\n",
    "<html>\n",
    "<head>\n",
    "<title> 기초 크롤링 </title>\n",
    "</head>\n",
    "<body>\n",
    "크롤링을 해봅시다.\n",
    "</body>\n",
    "</html>\n",
    "\"\"\""
   ]
  },
  {
   "cell_type": "code",
   "execution_count": 3,
   "id": "20bb2a6e",
   "metadata": {},
   "outputs": [
    {
     "name": "stdout",
     "output_type": "stream",
     "text": [
      "<head>\n",
      "<title> 기초 크롤링 </title>\n",
      "</head>\n"
     ]
    }
   ],
   "source": [
    "# BeautifulSoup를 이용해서 html_doc을 파싱.. with html,parser\n",
    "bs_obj = BeautifulSoup(html_doc, \"html.parser\")\n",
    "\n",
    "# <head> 태그만을 찾음\n",
    "head = bs_obj.find(\"head\")\n",
    "print(head)"
   ]
  },
  {
   "cell_type": "code",
   "execution_count": 4,
   "id": "32a473f9",
   "metadata": {},
   "outputs": [
    {
     "name": "stdout",
     "output_type": "stream",
     "text": [
      "<body>\n",
      "크롤링을 해봅시다.\n",
      "</body>\n"
     ]
    }
   ],
   "source": [
    "body = bs_obj.find(\"body\")\n",
    "print(body)"
   ]
  },
  {
   "cell_type": "markdown",
   "id": "ec43d55b",
   "metadata": {},
   "source": [
    "##BeautifulSoup 다루기 2"
   ]
  },
  {
   "cell_type": "code",
   "execution_count": 5,
   "id": "c66ef27b",
   "metadata": {},
   "outputs": [],
   "source": [
    "html_doc = \"\"\"\n",
    "<!doctype html>\n",
    "<html>\n",
    "<head>\n",
    "기초 웹 크롤링 따라하기\n",
    "</head>\n",
    "<body>\n",
    "<div> 첫 번째 부분 </div>\n",
    "<div> 두 번째 부분 </div>\n",
    "</body>\n",
    "</html>\n",
    "\"\"\""
   ]
  },
  {
   "cell_type": "code",
   "execution_count": 6,
   "id": "a8e42c98",
   "metadata": {},
   "outputs": [
    {
     "name": "stdout",
     "output_type": "stream",
     "text": [
      "<body>\n",
      "<div> 첫 번째 부분 </div>\n",
      "<div> 두 번째 부분 </div>\n",
      "</body>\n"
     ]
    }
   ],
   "source": [
    "bs_obj = BeautifulSoup(html_doc, \"html.parser\")\n",
    "\n",
    "# <body> 태그만을 찾음\n",
    "head = bs_obj.find(\"body\")\n",
    "print(head)"
   ]
  },
  {
   "cell_type": "code",
   "execution_count": 7,
   "id": "15b15732",
   "metadata": {},
   "outputs": [
    {
     "name": "stdout",
     "output_type": "stream",
     "text": [
      "<div> 첫 번째 부분 </div>\n"
     ]
    }
   ],
   "source": [
    "div1 = bs_obj.find(\"div\")\n",
    "print(div1)"
   ]
  },
  {
   "cell_type": "code",
   "execution_count": 8,
   "id": "a3da22be",
   "metadata": {},
   "outputs": [
    {
     "name": "stdout",
     "output_type": "stream",
     "text": [
      "[<div> 첫 번째 부분 </div>, <div> 두 번째 부분 </div>]\n"
     ]
    }
   ],
   "source": [
    "# 리스트 형태로 모두 받아옴\n",
    "div_total = bs_obj.find_all(\"div\")\n",
    "print(div_total)"
   ]
  },
  {
   "cell_type": "code",
   "execution_count": 9,
   "id": "dd580d3a",
   "metadata": {},
   "outputs": [
    {
     "name": "stdout",
     "output_type": "stream",
     "text": [
      "<div> 두 번째 부분 </div>\n"
     ]
    }
   ],
   "source": [
    "div2 = div_total[1]\n",
    "\n",
    "print(div2)"
   ]
  },
  {
   "cell_type": "code",
   "execution_count": 10,
   "id": "224a0a4e",
   "metadata": {},
   "outputs": [
    {
     "name": "stdout",
     "output_type": "stream",
     "text": [
      " 두 번째 부분 \n"
     ]
    }
   ],
   "source": [
    "# 태그 내의 텍스트만 추출\n",
    "\n",
    "print(div2.text)"
   ]
  },
  {
   "cell_type": "markdown",
   "id": "b2e63f6f",
   "metadata": {},
   "source": [
    "##BeautifulSoup 다루기 3"
   ]
  },
  {
   "cell_type": "code",
   "execution_count": 11,
   "id": "92332078",
   "metadata": {},
   "outputs": [],
   "source": [
    "html_doc = \"\"\"\n",
    "<!doctype html>\n",
    "<html>\n",
    "<head>\n",
    "<title> 기초 크롤링 </title>\n",
    "</head>\n",
    "<body>\n",
    "<table border=\"1\">\n",
    "<caption> 과일 가격 </caption>\n",
    "<tr>\n",
    "<th> 상품 </th>\n",
    "<th> 가격 </th>\n",
    "</tr>\n",
    "<tr>\n",
    "<td> 오렌지 </td>\n",
    "<td> 100 </td>\n",
    "</tr>\n",
    "<tr>\n",
    "<th> 사과 </th>\n",
    "<th> 150 </th>\n",
    "</tr>\n",
    "</table>\n",
    "\n",
    "<table border=\"2\">\n",
    "<caption> 의류 가격 </caption>\n",
    "<tr>\n",
    "<th> 상품 </th>\n",
    "<th> 가격 </th>\n",
    "</tr>\n",
    "<tr>\n",
    "<td> 셔츠 </td>\n",
    "<td> 30000 </td>\n",
    "</tr>\n",
    "<tr>\n",
    "<th> 바지 </th>\n",
    "<th> 50000 </th>\n",
    "</tr>\n",
    "</table>\n",
    "\n",
    "</body>\n",
    "</html>\n",
    "\"\"\""
   ]
  },
  {
   "cell_type": "code",
   "execution_count": 12,
   "id": "e232d6a8",
   "metadata": {},
   "outputs": [
    {
     "name": "stdout",
     "output_type": "stream",
     "text": [
      "[<table border=\"2\">\n",
      "<caption> 의류 가격 </caption>\n",
      "<tr>\n",
      "<th> 상품 </th>\n",
      "<th> 가격 </th>\n",
      "</tr>\n",
      "<tr>\n",
      "<td> 셔츠 </td>\n",
      "<td> 30000 </td>\n",
      "</tr>\n",
      "<tr>\n",
      "<th> 바지 </th>\n",
      "<th> 50000 </th>\n",
      "</tr>\n",
      "</table>]\n"
     ]
    }
   ],
   "source": [
    "bs_obj = BeautifulSoup(html_doc, \"html.parser\")\n",
    "clothes = bs_obj.find_all(\"table\", {\"border\":\"2\"})\n",
    "print(clothes)"
   ]
  },
  {
   "cell_type": "markdown",
   "id": "29f85de3",
   "metadata": {},
   "source": [
    "#실습1"
   ]
  },
  {
   "cell_type": "markdown",
   "id": "a7cc6815",
   "metadata": {},
   "source": [
    "웹 페이지에서 HTML 소스코드 불러오기"
   ]
  },
  {
   "cell_type": "code",
   "execution_count": 13,
   "id": "4069e1f2",
   "metadata": {},
   "outputs": [
    {
     "name": "stdout",
     "output_type": "stream",
     "text": [
      "b'<!doctype html>\\n<html lang=\"ko\">\\n<head>\\n<link rel=\"stylesheet\" type=\"text/css\" href=\"https://t1.daumcdn.net/tistory_admin/lib/lightbox/css/lightbox.min.css\" /><link rel=\"stylesheet\" type=\"text/css\" href=\"https://t1.daumcdn.net/tistory_admin/assets/blog/tistory-aeb0c47c1569c26b1cf1f1a17b335722b1e6836f/blogs/style/content/font.css?_version_=tistory-aeb0c47c1569c26b1cf1f1a17b335722b1e6836f\" /><link rel=\"stylesheet\" type=\"text/css\" href=\"https://t1.daumcdn.net/tistory_admin/assets/blog/tistory-aeb0c47c1569c26b1cf1f1a17b335722b1e6836f/blogs/style/content/content.css?_version_=tistory-aeb0c47c1569c26b1cf1f1a17b335722b1e6836f\" /><!--[if lt IE 9]><script src=\"https://t1.daumcdn.net/tistory_admin/lib/jquery/jquery-1.12.4.min.js\"></script><![endif]--><!--[if gte IE 9]>\\n<!--><script src=\"https://t1.daumcdn.net/tistory_admin/lib/jquery/jquery-3.2.1.min.js\"></script><!--<![endif]-->\\n<script src=\"https://t1.daumcdn.net/tistory_admin/lib/lightbox/js/lightbox-plus-jquery.min.js\"></script>\\n<script>\\nlightbox.options.fadeDuration = 200;\\nlightbox.options.resizeDuration = 200;\\nlightbox.options.wrapAround = false;\\nlightbox.options.albumLabel = \"%1 / %2\";\\n</script>\\n<script>var tjQuery = jQuery.noConflict(true);</script><style type=\"text/css\">.tt_article_useless_p_margin p {padding-top:0 !important;padding-bottom:0 !important;margin-top:0 !important;margin-bottom:0 !important;}</style><meta name=\"referrer\" content=\"always\"><link rel=\"icon\" href=\"//t1.daumcdn.net/tistory_admin/static/top/favicon_0630.ico\" /><link rel=\"apple-touch-icon\" href=\"//img1.daumcdn.net/thumb/C180x180/?fname=https%3A%2F%2Ft1.daumcdn.net%2Fcfile%2Ftistory%2F241F093D5701E73803\">\\n<link rel=\"apple-touch-icon\" sizes=\"76x76\" href=\"//img1.daumcdn.net/thumb/C76x76/?fname=https%3A%2F%2Ft1.daumcdn.net%2Fcfile%2Ftistory%2F241F093D5701E73803\">\\n<link rel=\"apple-touch-icon\" sizes=\"120x120\" href=\"//img1.daumcdn.net/thumb/C120x120/?fname=https%3A%2F%2Ft1.daumcdn.net%2Fcfile%2Ftistory%2F241F093D5701E73803\">\\n<link rel=\"apple-touch-icon\" sizes=\"152x152\" href=\"//img1.daumcdn.net/thumb/C152x152/?fname=https%3A%2F%2Ft1.daumcdn.net%2Fcfile%2Ftistory%2F241F093D5701E73803\">\\n<meta name=\"google-adsense-platform-account\" content=\"ca-host-pub-9691043933427338\">\\n<meta name=\"google-adsense-platform-domain\" content=\"tistory.com\">\\n<meta name=\"description\" content=\"Hello, world!\">\\r\\n\\r\\n<!-- BEGIN OPENGRAPH -->\\r\\n<link rel=\"canonical\" href=\"https://ai-dev.tistory.com/1\" /><meta property=\"og:type\" content=\"article\"><meta property=\"og:url\" content=\"https://ai-dev.tistory.com/1\" ><meta property=\"og:article:author\" content=\"\\xeb\\xa1\\x9c\\xec\\x8a\\xa4\\xec\\xb9\\xb4\\xec\\xb8\\xa0\" ><meta property=\"og:site_name\" content=\"\\xec\\x9d\\xb8\\xea\\xb3\\xb5\\xec\\xa7\\x80\\xeb\\x8a\\xa5 \\xea\\xb0\\x9c\\xeb\\xb0\\x9c\\xec\\x9d\\x98 \\xeb\\xaa\\xa8\\xeb\\x93\\xa0 \\xea\\xb2\\x83\" ><meta property=\"og:title\" content=\"\\xed\\x81\\xac\\xeb\\xa1\\xa4\\xeb\\xa7\\x81\\xec\\x9d\\x98 \\xec\\x84\\xb8\\xea\\xb3\\x84\\xec\\x97\\x90 \\xec\\x98\\xa4\\xec\\x8b\\xa0 \\xea\\xb2\\x83\\xec\\x9d\\x84 \\xed\\x99\\x98\\xec\\x98\\x81\\xed\\x95\\xa9\\xeb\\x8b\\x88\\xeb\\x8b\\xa4.\" ><meta name=\"by\" content=\"\\xeb\\xa1\\x9c\\xec\\x8a\\xa4\\xec\\xb9\\xb4\\xec\\xb8\\xa0\" ><meta property=\"og:description\" content=\"Hello, world!\" ><meta property=\"og:image\" content=\"https://t1.daumcdn.net/tistory_admin/static/images/openGraph/opengraph.png\" >\\r\\n<!-- END OPENGRAPH -->\\r\\n\\r\\n\\r\\n\\r\\n<!-- BEGIN TWITTERCARD -->\\r\\n<meta name=\"twitter:card\" content=\"summary_large_image\"><meta name=\"twitter:site\" content=\"@TISTORY\"><meta name=\"twitter:title\" content=\"\\xed\\x81\\xac\\xeb\\xa1\\xa4\\xeb\\xa7\\x81\\xec\\x9d\\x98 \\xec\\x84\\xb8\\xea\\xb3\\x84\\xec\\x97\\x90 \\xec\\x98\\xa4\\xec\\x8b\\xa0 \\xea\\xb2\\x83\\xec\\x9d\\x84 \\xed\\x99\\x98\\xec\\x98\\x81\\xed\\x95\\xa9\\xeb\\x8b\\x88\\xeb\\x8b\\xa4.\" ><meta name=\"twitter:description\" content=\"Hello, world!\" ><meta property=\"twitter:image\" content=\"https://t1.daumcdn.net/tistory_admin/static/images/openGraph/opengraph.png\" >\\r\\n<!-- END TWITTERCARD -->\\r\\n\\r\\n\\r\\n\\r\\n<!-- BEGIN DAUMAPP -->\\r\\n<meta property=\"dg:plink\" content=\"https://ai-dev.tistory.com/1\" ><meta name=\"plink\" content=\"https://ai-dev.tistory.com/1\" ><meta name=\"title\" content=\"\\xed\\x81\\xac\\xeb\\xa1\\xa4\\xeb\\xa7\\x81\\xec\\x9d\\x98 \\xec\\x84\\xb8\\xea\\xb3\\x84\\xec\\x97\\x90 \\xec\\x98\\xa4\\xec\\x8b\\xa0 \\xea\\xb2\\x83\\xec\\x9d\\x84 \\xed\\x99\\x98\\xec\\x98\\x81\\xed\\x95\\xa9\\xeb\\x8b\\x88\\xeb\\x8b\\xa4.\" ><meta name=\"article:media_name\" content=\"\\xec\\x9d\\xb8\\xea\\xb3\\xb5\\xec\\xa7\\x80\\xeb\\x8a\\xa5 \\xea\\xb0\\x9c\\xeb\\xb0\\x9c\\xec\\x9d\\x98 \\xeb\\xaa\\xa8\\xeb\\x93\\xa0 \\xea\\xb2\\x83\" ><meta property=\"article:mobile_url\" content=\"https://ai-dev.tistory.com/m/1\" ><meta property=\"article:pc_url\" content=\"https://ai-dev.tistory.com/1\" ><meta property=\"article:mobile_view_url\" content=\"https://ai-dev.tistory.com/m/1\" ><meta property=\"article:pc_view_url\" content=\"https://ai-dev.tistory.com/1\" ><meta property=\"article:talk_channel_view_url\" content=\"https://ai-dev.tistory.com/m/1\" ><meta property=\"article:pc_service_home\" content=\"https://www.tistory.com\" ><meta property=\"article:mobile_service_home\" content=\"https://www.tistory.com/m\" ><meta property=\"article:txid\" content=\"4442027_1\" /><meta property=\"article:published_time\" content=\"2021-01-21T14:06:56+09:00\" ><meta property=\"og:regDate\" content=\"20210121140656\" ><meta property=\"article:modified_time\" content=\"2021-01-21T14:06:56+09:00\" >\\r\\n<!-- END DAUMAPP -->\\r\\n\\r\\n\\r\\n\\r\\n<!-- BEGIN STRUCTURED_DATA -->\\r\\n<script type=\"application/ld+json\">{\"@context\":\"http:\\\\/\\\\/schema.org\",\"@type\":\"BlogPosting\",\"mainEntityOfPage\":{\"@id\":\"https:\\\\/\\\\/ai-dev.tistory.com\\\\/1\"},\"url\":\"https:\\\\/\\\\/ai-dev.tistory.com\\\\/1\",\"headline\":\"\\\\ud06c\\\\ub864\\\\ub9c1\\\\uc758 \\\\uc138\\\\uacc4\\\\uc5d0 \\\\uc624\\\\uc2e0 \\\\uac83\\\\uc744 \\\\ud658\\\\uc601\\\\ud569\\\\ub2c8\\\\ub2e4.\",\"description\":\"Hello, world!\",\"author\":{\"@type\":\"Person\",\"name\":\"\\\\ub85c\\\\uc2a4\\\\uce74\\\\uce20\"},\"image\":{\"@type\":\"ImageObject\",\"url\":\"https:\\\\/\\\\/t1.daumcdn.net\\\\/tistory_admin\\\\/static\\\\/images\\\\/openGraph\\\\/opengraph.png\",\"width\":\"800px\",\"height\":\"800px\"},\"datePublished\":\"20210121T14:06:56+09:00\",\"dateModified\":\"20210121T14:06:56+09:00\",\"publisher\":{\"@type\":\"Organization\",\"name\":\"TISTORY\",\"logo\":{\"@type\":\"ImageObject\",\"url\":\"https:\\\\/\\\\/t1.daumcdn.net\\\\/tistory_admin\\\\/static\\\\/images\\\\/openGraph\\\\/opengraph.png\",\"width\":\"800px\",\"height\":\"800px\"}}}</script><meta name=\"robots\" content=\"max-image-preview:large\">\\r\\n<!-- END STRUCTURED_DATA -->\\r\\n\\r\\n\\n<meta charset=\"UTF-8\">\\n<meta name=\"viewport\" content=\"user-scalable=no, initial-scale=1.0, maximum-scale=1.0, minimum-scale=1.0, width=device-width\">\\n<title>\\xed\\x81\\xac\\xeb\\xa1\\xa4\\xeb\\xa7\\x81\\xec\\x9d\\x98 \\xec\\x84\\xb8\\xea\\xb3\\x84\\xec\\x97\\x90 \\xec\\x98\\xa4\\xec\\x8b\\xa0 \\xea\\xb2\\x83\\xec\\x9d\\x84 \\xed\\x99\\x98\\xec\\x98\\x81\\xed\\x95\\xa9\\xeb\\x8b\\x88\\xeb\\x8b\\xa4.</title>\\n<link rel=\"stylesheet\" href=\"https://tistory2.daumcdn.net/tistory/0/pg_Poster/style.css\">\\n<script src=\"//t1.daumcdn.net/tistory_admin/lib/jquery/jquery-1.12.4.min.js\"></script>\\n\\r\\n<style type=\"text/css\">\\n\\t\\t#daumSearchBox {\\n\\t\\t\\theight: 21px;\\n\\t\\t\\tbackground-image : url(//i1.daumcdn.net/imgsrc.search/search_all/show/tistory/plugin/bg_search2_2.gif);\\n\\t\\t\\tmargin: 5px auto ;\\n\\t\\t\\tpadding: 0;\\n\\t\\t}\\n\\t\\t#daumSearchBox input {\\n\\t\\t\\tbackground: none;\\n\\t\\t\\tmargin : 0;\\n\\t\\t\\tpadding : 0;\\n\\t\\t\\tborder : 0;\\n\\t\\t}\\n\\t\\t#daumSearchBox #daumLogo {\\n\\t\\t\\twidth: 34px;\\n\\t\\t\\theight: 21px;\\n\\t\\t\\tfloat: left;\\n\\t\\t\\tmargin-right: 5px;\\n\\t\\t\\tbackground-image : url(//i1.daumcdn.net/img-media/tistory/img/bg_search1_2_2010ci.gif);\\n\\t\\t}\\n\\t\\t#daumSearchBox #show_q {\\n\\t\\t\\tbackground-color: transparent;\\n\\t\\t\\tborder: none;\\n\\t\\t\\tfont: 12px Gulim, Sans-serif;\\n\\t\\t\\tcolor: #555;\\n\\t\\t\\tmargin-top: 4px;\\n\\t\\t\\tmargin-right: 15px;\\n\\t\\t\\tfloat: left;\\n\\t\\t}\\n\\n\\t\\t#daumSearchBox #show_btn {\\n\\t\\t\\tbackground-image : url(//i1.daumcdn.net/imgsrc.search/search_all/show/tistory/plugin/bt_search_2.gif);\\n\\t\\t\\twidth: 37px;\\n\\t\\t\\theight: 21px;\\n\\t\\t\\tfloat: left;\\n\\t\\t\\tmargin:0;\\n\\t\\t\\tcursor:pointer;\\n\\t\\t\\ttext-indent:-1000em;\\n\\t\\t}\\n\\t</style>\\r\\n<link rel=\"stylesheet\" type=\"text/css\" href=\"https://t1.daumcdn.net/tistory_admin/assets/blog/tistory-aeb0c47c1569c26b1cf1f1a17b335722b1e6836f/blogs/plugins/TistoryProfileLayer/style.css?_version_=tistory-aeb0c47c1569c26b1cf1f1a17b335722b1e6836f\" />\\r\\n<script type=\"text/javascript\" src=\"https://t1.daumcdn.net/tistory_admin/assets/blog/tistory-aeb0c47c1569c26b1cf1f1a17b335722b1e6836f/blogs/plugins/TistoryProfileLayer/profile.js?_version_=tistory-aeb0c47c1569c26b1cf1f1a17b335722b1e6836f\"></script>\\r\\n\\t<style type=\"text/css\">\\n\\t\\t.another_category { border: 1px solid #E5E5E5; padding: 10px 10px 5px; margin:10px 0; clear: both; }\\n\\t\\t.another_category h4 { font-size: 12px !important; margin: 0 !important; border-bottom: 1px solid #E5E5E5 !important; padding: 2px 0 6px !important; }\\n\\t\\t.another_category h4 a { font-weight: bold !important; }\\n\\t\\t.another_category table { table-layout: fixed; border-collapse: collapse; width: 100% !important; margin-top: 10px !important; }\\n\\t\\t* html .another_category table { width: auto !important; }\\n\\t\\t*:first-child+html .another_category table { width: auto !important; }\\n\\t\\t.another_category th, .another_category td { padding: 0 0 4px !important; }\\n\\t\\t.another_category th { text-align: left; font-size: 12px !important; font-weight: normal;  word-break: break-all; overflow: hidden; line-height: 1.5; }\\n\\t\\t.another_category td { text-align: right; width: 80px; font-size: 11px; }\\n\\t\\t.another_category th a { font-weight: normal; text-decoration: none; border: none !important; }\\n\\t\\t.another_category th a.current{ font-weight: bold; text-decoration: none !important; border-bottom: 1px solid !important; }\\n\\t\\t.another_category th span { font-weight: normal; text-decoration: none; font: 10px Tahoma, Sans-serif; border: none !important; }\\n\\n\\t\\t.another_category_color_gray, .another_category_color_gray h4 { border-color: #E5E5E5 !important; }\\n\\t\\t.another_category_color_gray * { color: #909090 !important; }\\n\\t\\t.another_category_color_gray th a.current{border-color:#909090 !important;}\\n\\t\\t.another_category_color_gray h4, .another_category_color_gray h4 a { color: #737373 !important; }\\n\\n\\n\\t\\t.another_category_color_red, .another_category_color_red h4 { border-color: #F6D4D3 !important;  }\\n\\t\\t.another_category_color_red * { color: #E86869 !important; }\\n\\t\\t.another_category_color_red th a.current{border-color:#E86869 !important;}\\n\\t\\t.another_category_color_red h4, .another_category_color_red h4 a { color: #ED0908 !important; }\\n\\n\\n\\t\\t.another_category_color_green, .another_category_color_green h4 { border-color: #CCE7C8 !important; }\\n\\t\\t.another_category_color_green * { color: #64C05B !important; }\\n\\t\\t.another_category_color_green th a.current{border-color:#64C05B !important;}\\n\\t\\t.another_category_color_green h4, .another_category_color_green h4 a { color: #3EA731 !important; }\\n\\n\\n\\t\\t.another_category_color_blue, .another_category_color_blue h4 { border-color: #C8DAF2 !important; }\\n\\t\\t.another_category_color_blue * { color: #477FD6 !important; }\\n\\t\\t.another_category_color_blue th a.current{border-color:#477FD6 !important;}\\n\\t\\t.another_category_color_blue h4, .another_category_color_blue h4 a { color: #1960CA !important; }\\n\\n\\n\\t\\t.another_category_color_violet, .another_category_color_violet h4 { border-color: #E1CEEC !important;  }\\n\\t\\t.another_category_color_violet * { color:#9D64C5 !important; }\\n\\t\\t.another_category_color_violet th a.current{border-color:#9D64C5 !important;}\\n\\t\\t.another_category_color_violet h4, .another_category_color_violet h4 a { color: #7E2CB5 !important; }\\n\\t</style>\\n<script type=\"text/javascript\">\\n        \\n        window.TistoryBlog = {\\n            basePath: \"\",\\n            url: \"https://ai-dev.tistory.com\",\\n            tistoryUrl: \"https://ai-dev.tistory.com\",\\n\\t\\t\\tmanageUrl: \\'https://ai-dev.tistory.com/manage\\',\\n            token: \\'IZvVevqCyDb9UNyFpJpVNg==\\'\\n        };\\n        var servicePath = \"\";\\n        var blogURL = \"\";\\n    </script>\\n\\n\\t<script> (function() { window.orgjQuery = window.jQuery; window.jQuery = tjQuery })()</script>\\n    <script type=\"text/javascript\" defer src=https://t1.daumcdn.net/tistory_admin/assets/blog/tistory-aeb0c47c1569c26b1cf1f1a17b335722b1e6836f/blogs/script/reaction/reaction-button-container.min.js?_version_=tistory-aeb0c47c1569c26b1cf1f1a17b335722b1e6836f></script>\\n    <script> (function() { window.jQuery = window.orgjQuery; delete window.orgjQuery })()</script>\\n        <script type=\"text/javascript\" src=\"https://t1.daumcdn.net/tistory_admin/assets/blog/tistory-aeb0c47c1569c26b1cf1f1a17b335722b1e6836f/blogs/script/_/base.js?_version_=tistory-aeb0c47c1569c26b1cf1f1a17b335722b1e6836f\"></script>\\n        <link rel=\"stylesheet\" type=\"text/css\" href=\"https://t1.daumcdn.net/tistory_admin/assets/blog/tistory-aeb0c47c1569c26b1cf1f1a17b335722b1e6836f/blogs/style/dialog.css?_version_=tistory-aeb0c47c1569c26b1cf1f1a17b335722b1e6836f\"/>\\n            <link rel=\"stylesheet\" type=\"text/css\" href=\"//t1.daumcdn.net/tistory_admin/www/style/top/font.css\">\\n    <link rel=\"stylesheet\" type=\"text/css\" href=\"https://t1.daumcdn.net/tistory_admin/assets/blog/tistory-aeb0c47c1569c26b1cf1f1a17b335722b1e6836f/blogs/style/postBtn.css?_version_=tistory-aeb0c47c1569c26b1cf1f1a17b335722b1e6836f\"/>\\n        <link rel=\"stylesheet\" type=\"text/css\" href=\"https://t1.daumcdn.net/tistory_admin/assets/blog/tistory-aeb0c47c1569c26b1cf1f1a17b335722b1e6836f/blogs/style/component/tistory.css?_version_=tistory-aeb0c47c1569c26b1cf1f1a17b335722b1e6836f\" />\\n        <script type=\"text/javascript\" src=\"//developers.kakao.com/sdk/js/kakao.min.js\"></script></head>\\n<body id=\"tt-body-page\" class=\"color-gray post-type-text paging-view-more\">\\n<script type=\"text/javascript\">\\n\\t(function() {\\n\\t\\tif (!window.T) {\\n\\t\\t\\twindow.T = {}\\n\\t\\t}\\n\\t\\twindow.T.config = {\"TOP_SSL_URL\":\"https:\\\\/\\\\/www.tistory.com\",\"PREVIEW\":false,\"ROLE\":\"guest\",\"PREV_PAGE\":\"\\\\/2\",\"NEXT_PAGE\":\"\",\"BLOG\":{\"isDormancy\":false,\"title\":\"\\\\uc778\\\\uacf5\\\\uc9c0\\\\ub2a5 \\\\uac1c\\\\ubc1c\\\\uc758 \\\\ubaa8\\\\ub4e0 \\\\uac83\"},\"NEED_COMMENT_LOGIN\":false,\"COMMENT_LOGIN_CONFIRM_MESSAGE\":\"\",\"LOGIN_URL\":\"https:\\\\/\\\\/www.tistory.com\\\\/auth\\\\/login\\\\/?redirectUrl=http%3A%2F%2Fai-dev.tistory.com%2F1\",\"DEFAULT_URL\":\"https:\\\\/\\\\/ai-dev.tistory.com\",\"USER\":{\"name\":null,\"homepage\":null},\"ROLE_GROUP\":\"visitor\",\"SUBSCRIPTION\":{\"status\":\"none\",\"isConnected\":false,\"isProcessing\":false,\"isPending\":false,\"isWait\":false,\"isNone\":true},\"IS_LOGIN\":false,\"HAS_BLOG\":false,\"TOP_URL\":\"https:\\\\/\\\\/www.tistory.com\",\"JOIN_URL\":\"https:\\\\/\\\\/www.tistory.com\\\\/member\\\\/join\"};\\n\\t\\twindow.appInfo = {\"domain\":\"tistory.com\",\"topUrl\":\"https:\\\\/\\\\/www.tistory.com\",\"loginUrl\":\"https:\\\\/\\\\/www.tistory.com\\\\/auth\\\\/login\",\"logoutUrl\":\"https:\\\\/\\\\/www.tistory.com\\\\/auth\\\\/logout\"};\\n\\n        window.initData = {};\\n        \\n\\t})();\\n</script>\\n\\n<script type=\"text/javascript\" src=\"https://t1.daumcdn.net/tistory_admin/assets/blog/tistory-aeb0c47c1569c26b1cf1f1a17b335722b1e6836f/blogs/script/blog/common.js?_version_=tistory-aeb0c47c1569c26b1cf1f1a17b335722b1e6836f\"></script>\\n<div style=\"margin:0; padding:0; border:none; background:none; float:none; clear:none; z-index:0\"></div>\\n<div id=\"acc-nav\">\\n\\t<a href=\"#content\">\\xeb\\xb3\\xb8\\xeb\\xac\\xb8 \\xeb\\xb0\\x94\\xeb\\xa1\\x9c\\xea\\xb0\\x80\\xea\\xb8\\xb0</a>\\n</div>\\n<div id=\"wrap\">\\n\\t<header id=\"header\">\\n\\t\\t<h1><a href=\"/\">\\xec\\x9d\\xb8\\xea\\xb3\\xb5\\xec\\xa7\\x80\\xeb\\x8a\\xa5 \\xea\\xb0\\x9c\\xeb\\xb0\\x9c\\xec\\x9d\\x98 \\xeb\\xaa\\xa8\\xeb\\x93\\xa0 \\xea\\xb2\\x83</a></h1>\\n\\t\\t<button type=\"button\" class=\"mobile-menu\"><span>\\xeb\\xa9\\x94\\xeb\\x89\\xb4</span></button>\\n\\t\\t<div class=\"menu\">\\n\\t\\t\\t<nav id=\"gnb\">\\n\\t\\t\\t\\t<ul class=\"tt_category\">\\n\\t<li class=\"\">\\n\\t\\t<a class=\"link_tit\" href=\"/category\">\\n\\t\\t\\t\\xeb\\xb6\\x84\\xeb\\xa5\\x98 \\xec\\xa0\\x84\\xec\\xb2\\xb4\\xeb\\xb3\\xb4\\xea\\xb8\\xb0\\t\\t\\t\\t\\t\\t\\t<span class=\"c_cnt\">(2)</span>\\n\\t\\t\\t\\n\\t\\t\\t\\t\\t</a>\\n\\n\\t\\t\\t\\t<ul class=\"category_list\">\\n\\t\\t\\t\\t\\t\\t\\t<li class=\"\">\\n\\t\\t\\t\\t\\t<a class=\"link_item\" href=\"/category/%ED%81%AC%EB%A1%A4%EB%A7%81\">\\n\\t\\t\\t\\t\\t\\t\\xed\\x81\\xac\\xeb\\xa1\\xa4\\xeb\\xa7\\x81\\t\\t\\t\\t\\t\\t\\t\\t\\t\\t\\t\\t\\t<span class=\"c_cnt\">(2)</span>\\n\\t\\t\\t\\t\\t\\t\\n\\t\\t\\t\\t\\t\\t\\t\\t\\t\\t\\t</a>\\n\\n\\t\\t\\t\\t\\t\\n\\t\\t\\t\\t</li>\\n\\t\\t\\t\\t\\t</ul>\\n\\t\\t\\t</li>\\n</ul>\\n\\t\\t\\t</nav>\\n\\t\\t\\t<div class=\"social-link\">\\n\\t\\t\\t\\t\\n\\t\\t\\t\\t\\n\\t\\t\\t\\t\\n\\t\\t\\t\\t\\n\\t\\t\\t</div>\\n\\t\\t\\t<p>POWERED BY TISTORY</p>\\n\\t\\t</div>\\n\\t\\t<div class=\"search\">\\n\\t\\t\\t\\n\\t\\t\\t\\t\\t<input type=\"text\" name=\"search\" value=\"\" placeholder=\"\\xea\\xb2\\x80\\xec\\x83\\x89\\xeb\\x82\\xb4\\xec\\x9a\\xa9\\xec\\x9d\\x84 \\xec\\x9e\\x85\\xeb\\xa0\\xa5\\xed\\x95\\x98\\xec\\x84\\xb8\\xec\\x9a\\x94.\" onkeypress=\"if (event.keyCode == 13) { try{window.location.href=\\'/search/\\'+looseURIEncode(document.getElementsByName(\\'search\\')[0].value);document.getElementsByName(\\'search\\')[0].value=\\'\\';return false;}catch(e){} }\">\\n\\t\\t\\t\\t\\t<button type=\"submit\" onclick=\"try{window.location.href=\\'/search/\\'+looseURIEncode(document.getElementsByName(\\'search\\')[0].value);document.getElementsByName(\\'search\\')[0].value=\\'\\';return false;}catch(e){}\">\\xea\\xb2\\x80\\xec\\x83\\x89</button>\\n\\t\\t\\t\\t\\n\\t\\t</div>\\n\\t</header>\\n\\t<hr>\\n\\t<section class=\"container\">\\n\\t\\t\\n\\t\\t<article id=\"content\">\\n\\t\\t\\t\\n\\n\\t\\t\\t\\n\\n\\t\\t\\t\\n\\n\\t\\t\\t\\n\\n\\t\\t\\t<div class=\"inner\">\\n\\t\\t\\t\\t\\n\\n\\t\\t\\t\\t\\n\\t\\t\\t\\t\\t\\n\\t\\t\\t\\t\\t\\n\\t\\t\\t\\t\\t\\t<div class=\"hgroup\">\\n\\t\\t\\t\\t\\t\\t\\t<div class=\"category\">\\xed\\x81\\xac\\xeb\\xa1\\xa4\\xeb\\xa7\\x81</div>\\n\\t\\t\\t\\t\\t\\t\\t<h1>\\xed\\x81\\xac\\xeb\\xa1\\xa4\\xeb\\xa7\\x81\\xec\\x9d\\x98 \\xec\\x84\\xb8\\xea\\xb3\\x84\\xec\\x97\\x90 \\xec\\x98\\xa4\\xec\\x8b\\xa0 \\xea\\xb2\\x83\\xec\\x9d\\x84 \\xed\\x99\\x98\\xec\\x98\\x81\\xed\\x95\\xa9\\xeb\\x8b\\x88\\xeb\\x8b\\xa4. </h1>\\n\\t\\t\\t\\t\\t\\t\\t<div class=\"post-meta\">\\n\\t\\t\\t\\t\\t\\t\\t\\t<span class=\"author\">\\xeb\\xa1\\x9c\\xec\\x8a\\xa4\\xec\\xb9\\xb4\\xec\\xb8\\xa0</span>\\n\\t\\t\\t\\t\\t\\t\\t\\t<span class=\"date\">2021. 1. 21. 14:06</span>\\n\\t\\t\\t\\t\\t\\t\\t\\t\\n\\t\\t\\t\\t\\t\\t\\t</div>\\n\\t\\t\\t\\t\\t\\t</div>\\n\\t\\t\\t\\t\\t\\t<div class=\"entry-content\">\\n\\t\\t\\t\\t\\t\\t\\t<div class=\"tt_article_useless_p_margin contents_style\"><p>Hello, world!</p><div class=\"container_postbtn #post_button_group\">\\n    <div class=\"postbtn_like\">\\n        \\n<script>\\n    window.ReactionButtonType = \\'reaction\\';\\n    window.ReactionApiUrl = \\'//ai-dev.tistory.com/reaction\\';\\n    window.ReactionReqBody = {\\n        entryId: 1    }\\n</script>\\n<div class=\"wrap_btn\" id=reaction-1></div>\\n<script src=https://t1.daumcdn.net/tistory_admin/assets/blog/tistory-aeb0c47c1569c26b1cf1f1a17b335722b1e6836f/blogs/script/reaction/reaction-button-container.min.js?_version_=tistory-aeb0c47c1569c26b1cf1f1a17b335722b1e6836f></script>\\n        <div class=\"wrap_btn wrap_btn_share\">\\n    <button type=\"button\" class=\"btn_post sns_btn btn_share\" data-thumbnail-url=\"https://t1.daumcdn.net/tistory_admin/static/images/openGraph/opengraph.png\" data-title=\"\\xed\\x81\\xac\\xeb\\xa1\\xa4\\xeb\\xa7\\x81\\xec\\x9d\\x98 \\xec\\x84\\xb8\\xea\\xb3\\x84\\xec\\x97\\x90 \\xec\\x98\\xa4\\xec\\x8b\\xa0 \\xea\\xb2\\x83\\xec\\x9d\\x84 \\xed\\x99\\x98\\xec\\x98\\x81\\xed\\x95\\xa9\\xeb\\x8b\\x88\\xeb\\x8b\\xa4.\" data-description=\"Hello, world!\" data-profile-image=\"https://t1.daumcdn.net/tistory_admin/static/manage/images/r3/default_L.png\" data-profile-name=\"\\xeb\\xa1\\x9c\\xec\\x8a\\xa4\\xec\\xb9\\xb4\\xec\\xb8\\xa0\" data-pc-url=\"https://ai-dev.tistory.com/1\" data-relative-pc-url=\"/1\" data-blog-title=\"\\xec\\x9d\\xb8\\xea\\xb3\\xb5\\xec\\xa7\\x80\\xeb\\x8a\\xa5 \\xea\\xb0\\x9c\\xeb\\xb0\\x9c\\xec\\x9d\\x98 \\xeb\\xaa\\xa8\\xeb\\x93\\xa0 \\xea\\xb2\\x83\">\\n        <span class=\"ico_postbtn ico_share\">\\xea\\xb3\\xb5\\xec\\x9c\\xa0\\xed\\x95\\x98\\xea\\xb8\\xb0</span>\\n    </button>\\n</div>\\n                <div class=\"wrap_btn wrap_btn_etc\" data-entry-id=\"1\" data-entry-visibility=\"public\" data-category-visibility=\"public\">\\n    <button type=\"button\" class=\"btn_post btn_etc2\"><span class=\"ico_postbtn ico_etc\">\\xea\\xb8\\x80 \\xec\\x9a\\x94\\xec\\x86\\x8c</span></button>\\n</div>\\n    </div>\\n    <button type=\"button\" class=\"btn_menu_toolbar btn_subscription  #subscribe\" data-blog-id=\"4442027\" data-url=\"https://ai-dev.tistory.com/1\" data-device=\"web_pc\">\\n    <em class=\"txt_state\">\\xea\\xb5\\xac\\xeb\\x8f\\x85\\xed\\x95\\x98\\xea\\xb8\\xb0</em>\\n    <strong class=\"txt_tool_id\">\\xec\\x9d\\xb8\\xea\\xb3\\xb5\\xec\\xa7\\x80\\xeb\\x8a\\xa5 \\xea\\xb0\\x9c\\xeb\\xb0\\x9c\\xec\\x9d\\x98 \\xeb\\xaa\\xa8\\xeb\\x93\\xa0 \\xea\\xb2\\x83</strong>\\n    <span class=\"img_common_tistory ico_check_type1\"></span>\\n</button>\\n    <div class=\"postbtn_ccl\" data-ccl-type=\"\">\\n    <a href=\"https://creativecommons.org/licenses//4.0/deed.ko\" target=\"_blank\" class=\"link_ccl\" rel=\"license\">\\n        <span class=\"bundle_ccl\">\\n                    </span>\\n    </a>\\n</div>\\n    <!--\\n<rdf:RDF xmlns=\"http://web.resource.org/cc/\" xmlns:dc=\"http://purl.org/dc/elements/1.1/\" xmlns:rdf=\"http://www.w3.org/1999/02/22-rdf-syntax-ns#\">\\n    <Work rdf:about=\"\">\\n        <license rdf:resource=\"http://creativecommons.org/licenses/by-/2.0/kr/\" />\\n    </Work>\\n    <License rdf:about=\"http://creativecommons.org/licenses/by-/\">\\n        <permits rdf:resource=\"http://web.resource.org/cc/Reproduction\"/>\\n        <permits rdf:resource=\"http://web.resource.org/cc/Distribution\"/>\\n        <requires rdf:resource=\"http://web.resource.org/cc/Notice\"/>\\n        <requires rdf:resource=\"http://web.resource.org/cc/Attribution\"/>\\n                    </License>\\n</rdf:RDF>\\n-->\\n</div><div class=\"another_category another_category_color_gray\">\\r\\n<h4>\\'<a href=\"/category/\\xed\\x81\\xac\\xeb\\xa1\\xa4\\xeb\\xa7\\x81\">\\xed\\x81\\xac\\xeb\\xa1\\xa4\\xeb\\xa7\\x81</a>\\' \\xec\\xb9\\xb4\\xed\\x85\\x8c\\xea\\xb3\\xa0\\xeb\\xa6\\xac\\xec\\x9d\\x98 \\xeb\\x8b\\xa4\\xeb\\xa5\\xb8 \\xea\\xb8\\x80</h4>\\r\\n<table>\\r\\n<tr>\\r\\n<th>\\r\\n<a href=\"/2?category=836119\" >\\xed\\x81\\xac\\xeb\\xa1\\xa4\\xeb\\xa7\\x81 \\xec\\x98\\x88\\xec\\xa0\\x9c \\xed\\x8e\\x98\\xec\\x9d\\xb4\\xec\\xa7\\x80 - 02</a>&nbsp;&nbsp;<span>(0)</span>\\r\\n</th>\\r\\n<td>\\r\\n2021.08.08</td>\\r\\n</tr>\\r\\n<tr>\\r\\n<th>\\r\\n<a href=\"/1?category=836119\"  class =\"current\" >\\xed\\x81\\xac\\xeb\\xa1\\xa4\\xeb\\xa7\\x81\\xec\\x9d\\x98 \\xec\\x84\\xb8\\xea\\xb3\\x84\\xec\\x97\\x90 \\xec\\x98\\xa4\\xec\\x8b\\xa0 \\xea\\xb2\\x83\\xec\\x9d\\x84 \\xed\\x99\\x98\\xec\\x98\\x81\\xed\\x95\\xa9\\xeb\\x8b\\x88\\xeb\\x8b\\xa4.</a>&nbsp;&nbsp;<span>(0)</span>\\r\\n</th>\\r\\n<td>\\r\\n2021.01.21</td>\\r\\n</tr>\\r\\n</table></div></div>\\n\\t\\t\\t\\t\\t\\t</div>\\n\\t\\t\\t\\t\\t\\t\\n\\n\\t\\t\\t\\t\\t\\t\\n\\t\\t\\t\\t\\t\\t\\t<div class=\"related-articles\">\\n\\t\\t\\t\\t\\t\\t\\t\\t<h2><strong>\\'\\xed\\x81\\xac\\xeb\\xa1\\xa4\\xeb\\xa7\\x81\\'</strong> Related Articles</h2>\\n\\t\\t\\t\\t\\t\\t\\t\\t<ul>\\n\\t\\t\\t\\t\\t\\t\\t\\t\\t\\n\\t\\t\\t\\t\\t\\t\\t\\t\\t\\t<li>\\n\\t\\t\\t\\t\\t\\t\\t\\t\\t\\t\\t<a href=\"/2?category=836119\">\\n\\t\\t\\t\\t\\t\\t\\t\\t\\t\\t\\t\\t<span class=\"thum\">\\n\\t\\t\\t\\t\\t\\t\\t\\t\\t\\t\\t\\t\\t\\n\\t\\t\\t\\t\\t\\t\\t\\t\\t\\t\\t\\t</span>\\n\\t\\t\\t\\t\\t\\t\\t\\t\\t\\t\\t\\t<span class=\"title\">\\xed\\x81\\xac\\xeb\\xa1\\xa4\\xeb\\xa7\\x81 \\xec\\x98\\x88\\xec\\xa0\\x9c \\xed\\x8e\\x98\\xec\\x9d\\xb4\\xec\\xa7\\x80 - 02</span>\\n\\t\\t\\t\\t\\t\\t\\t\\t\\t\\t\\t</a>\\n\\t\\t\\t\\t\\t\\t\\t\\t\\t\\t</li>\\n\\t\\t\\t\\t\\t\\t\\t\\t\\t\\n\\t\\t\\t\\t\\t\\t\\t\\t</ul>\\n\\t\\t\\t\\t\\t\\t\\t</div>\\n\\t\\t\\t\\t\\t\\t\\n\\n\\t\\t\\t\\t\\t\\t<div id=\"entry1Comment\">\\n\\t\\t\\t\\t\\t\\t\\t<div class=\"comments\">\\n\\t\\t\\t\\t\\t\\t\\t\\t\\n\\n\\t\\t\\t\\t\\t\\t\\t\\t<form method=\"post\" action=\"/comment/add/1\" onsubmit=\"return false\" style=\"margin: 0\">\\n\\t\\t\\t\\t\\t\\t\\t\\t\\t<div class=\"comment-form\">\\n\\t\\t\\t\\t\\t\\t\\t\\t\\t\\t\\n\\t\\t\\t\\t\\t\\t\\t\\t\\t\\t\\t<div class=\"field\">\\n\\t\\t\\t\\t\\t\\t\\t\\t\\t\\t\\t\\t\\n\\t\\t\\t\\t\\t\\t\\t\\t\\t\\t\\t\\t\\t<input type=\"text\" name=\"name\" value=\"\" placeholder=\"\\xec\\x9d\\xb4\\xeb\\xa6\\x84\">\\n\\t\\t\\t\\t\\t\\t\\t\\t\\t\\t\\t\\t\\t<input type=\"password\" name=\"password\" value=\"\" placeholder=\"\\xec\\x95\\x94\\xed\\x98\\xb8\">\\n\\t\\t\\t\\t\\t\\t\\t\\t\\t\\t\\t\\t\\n\\t\\t\\t\\t\\t\\t\\t\\t\\t\\t\\t\\t<div class=\"secret\">\\n\\t\\t\\t\\t\\t\\t\\t\\t\\t\\t\\t\\t\\t<input type=\"checkbox\" name=\"secret\" id=\"secret\">\\n\\t\\t\\t\\t\\t\\t\\t\\t\\t\\t\\t\\t\\t<label for=\"secret\" tabindex=\"0\">Secret</label>\\n\\t\\t\\t\\t\\t\\t\\t\\t\\t\\t\\t\\t</div>\\n\\t\\t\\t\\t\\t\\t\\t\\t\\t\\t\\t</div>\\n\\t\\t\\t\\t\\t\\t\\t\\t\\t\\t\\n\\t\\t\\t\\t\\t\\t\\t\\t\\t\\t<textarea name=\"comment\" cols=\"\" rows=\"4\" placeholder=\"\\xec\\x97\\xac\\xeb\\x9f\\xac\\xeb\\xb6\\x84\\xec\\x9d\\x98 \\xec\\x86\\x8c\\xec\\xa4\\x91\\xed\\x95\\x9c \\xeb\\x8c\\x93\\xea\\xb8\\x80\\xec\\x9d\\x84 \\xec\\x9e\\x85\\xeb\\xa0\\xa5\\xed\\x95\\xb4\\xec\\xa3\\xbc\\xec\\x84\\xb8\\xec\\x9a\\x94.\"></textarea>\\n\\t\\t\\t\\t\\t\\t\\t\\t\\t\\t<div class=\"submit\">\\n\\t\\t\\t\\t\\t\\t\\t\\t\\t\\t\\t<button type=\"submit\" class=\"btn\" onclick=\"addComment(this, 1); return false;\">\\xeb\\x8c\\x93\\xea\\xb8\\x80\\xeb\\x8b\\xac\\xea\\xb8\\xb0</button>\\n\\t\\t\\t\\t\\t\\t\\t\\t\\t\\t</div>\\n\\t\\t\\t\\t\\t\\t\\t\\t</div>\\n\\t\\t\\t\\t\\t\\t\\t\\t</form>\\n\\t\\t\\t\\t\\t\\t\\t</div>\\n\\t\\t\\t\\t\\t\\t</div><script type=\"text/javascript\">loadedComments[1]=true;findFragmentAndHighlight(1)</script>\\n\\n\\t\\t\\t\\t\\t\\n\\t\\t\\t\\t\\n\\t\\t\\t</div>\\n\\n\\t\\t\\t\\n\\n\\t\\t\\t\\n\\n\\t\\t\\t\\n\\t\\t\\t\\t<div class=\"pagination\">\\n\\t\\t\\t\\t\\t<a  href=\\'/2\\' class=\"prev \">\\xec\\x9d\\xb4\\xec\\xa0\\x84</a>\\n\\t\\t\\t\\t\\t\\n\\t\\t\\t\\t\\t\\t<a  href=\\'/2\\'><span >1</span></a>\\n\\t\\t\\t\\t\\t\\n\\t\\t\\t\\t\\t\\t<a ><span class=\"selected\">2</span></a>\\n\\t\\t\\t\\t\\t\\n\\t\\t\\t\\t\\t<a  class=\"next no-more-next\">\\xeb\\x8b\\xa4\\xec\\x9d\\x8c</a>\\n\\t\\t\\t\\t</div>\\n\\t\\t\\t\\n\\n\\t\\t</article>\\n\\t</section>\\n\\t<hr>\\n\\t\\n\\t<footer id=\"footer\">\\n\\t\\t<p class=\"copyright\">DESIGN BY <a href=\"#\">TISTORY</a> <a href=\"https://ai-dev.tistory.com/manage\" class=\"admin\">\\xea\\xb4\\x80\\xeb\\xa6\\xac\\xec\\x9e\\x90</a></p>\\n\\t</footer>\\n</div>\\n<script src=\"https://tistory2.daumcdn.net/tistory/0/pg_Poster/images/script.js\"></script>\\n\\n<script src=\"//search1.daumcdn.net/search/statics/common/js/g/search_dragselection.min.js\"></script>\\r\\n\\n\\t<script>\\n\\t    lightbox.option({\\n\\t\\t\\t\"fadeDuration\": 200,\\n\\t\\t    \"resizeDuration\": 200,\\n\\t\\t    \"wrapAround\": false,\\n\\t\\t\\t\"albumLabel\": \"%1 / %2\",\\n\\t\\t\\t\"fitImagesInViewport\":true ,\\n\\t\\t\\t\"stopEvent\": false\\n\\t    })\\n\\t</script>            <script type=\"text/javascript\" src=\"//t1.daumcdn.net/tiara/js/v1/tiara.min.js\"></script>\\n            <script type=\"text/javascript\">window.tiara = {\"svcDomain\":\"user.tistory.com\",\"section\":\"\\\\uae00\\\\ubdf0\",\"trackPage\":\"\\\\uae00\\\\ubdf0_\\\\ubcf4\\\\uae30\",\"page\":\"\\\\uae00\\\\ubdf0\",\"key\":\"4442027-1\",\"customProps\":{\"userId\":0,\"blogId\":\"4442027\",\"role\":\"guest\",\"filterTarget\":false,\"trackPage\":\"\\\\uae00\\\\ubdf0_\\\\ubcf4\\\\uae30\",\"entryId\":\"1\"},\"entry\":{\"entryId\":\"1\",\"categoryName\":\"\\\\ud06c\\\\ub864\\\\ub9c1\",\"categoryId\":\"836119\",\"author\":\"4727327\",\"authorId\":\"4727327\",\"image\":\"4727327\",\"plink\":\"\\\\/1\",\"tags\":[],\"key\":\"4442027-1\"},\"sentryDsn\":\"https:\\\\/\\\\/a53520229cd744e798d42900d76b0e2a@aem-collector.daumkakao.io\\\\/713\",\"kakaoAppKey\":\"b8aef3eeb03fa312b81795386484f051\",\"appUserId\":null};</script>\\n            <script type=\"text/javascript\" src=\"https://t1.daumcdn.net/tistory_admin/assets/blog/tistory-aeb0c47c1569c26b1cf1f1a17b335722b1e6836f/blogs/script/tiara/tiara.min.js?_version_=tistory-aeb0c47c1569c26b1cf1f1a17b335722b1e6836f\" defer></script>\\n                        <script type=\"text/javascript\">\\n                window.roosevelt_params_queue = window.roosevelt_params_queue || [{channel_id: \\'dk\\', channel_label: \\'tistory\\'}];\\n            </script>\\n            <script type=\"text/javascript\" src=\"//t1.daumcdn.net/midas/rt/dk_bt/roosevelt_dk_bt.js\" async></script><script type=\"text/javascript\">if(window.console!=undefined){setTimeout(console.log.bind(console,\"%cTISTORY\",\"font:8em Arial;color:#EC6521;font-weight:bold\"),0);setTimeout(console.log.bind(console,\"%c  \\xeb\\x82\\x98\\xeb\\xa5\\xbc \\xed\\x91\\x9c\\xed\\x98\\x84\\xed\\x95\\x98\\xeb\\x8a\\x94 \\xeb\\xb8\\x94\\xeb\\xa1\\x9c\\xea\\xb7\\xb8\",\"font:2em sans-serif;color:#333;\"),0);}</script><iframe style=\"position:absolute;width:1px;height:1px;left:-100px;top:-100px\" src=\"//ai-dev.tistory.com/api\" id=\"editEntry\"></iframe><div id=\"tistoryEtcLayer\" class=\"layer_post\"></div><div id=\"tistorySnsLayer\" class=\"layer_post\"></div></body>\\n</html>\\n'\n"
     ]
    }
   ],
   "source": [
    "from urllib.request import urlopen\n",
    "\n",
    "url = \"https://ai-dev.tistory.com/1\"\n",
    "html = urlopen(url)\n",
    "print(html.read())"
   ]
  },
  {
   "cell_type": "code",
   "execution_count": 14,
   "id": "a8efca8c",
   "metadata": {},
   "outputs": [
    {
     "data": {
      "text/plain": [
       "<http.client.HTTPResponse at 0x1c06570bbe0>"
      ]
     },
     "execution_count": 14,
     "metadata": {},
     "output_type": "execute_result"
    }
   ],
   "source": [
    "# 여기서는 되는데 따로 bs_obj를 만들려고 하면 null이 나온다..\n",
    "# 더 알아봐야함..\n",
    "\n",
    "html"
   ]
  },
  {
   "cell_type": "markdown",
   "id": "3fbe21ee",
   "metadata": {},
   "source": [
    "**제목과 본문 정보 웹 크롤링**\n",
    "\n",
    "- F12를 누르고 네모에 화살표 칸을 누르고 원하는 정보가 어떤 태그에 속해있는지 확인한다\n",
    "- 여기서는 \"크롤링의 세계에 오신 것을 환영합니다.\"는 h1 태그에 속해있었다."
   ]
  },
  {
   "cell_type": "code",
   "execution_count": 15,
   "id": "2aec0f15",
   "metadata": {},
   "outputs": [
    {
     "name": "stdout",
     "output_type": "stream",
     "text": [
      "<!DOCTYPE html>\n",
      "\n",
      "<html lang=\"ko\">\n",
      "<head>\n",
      "<link href=\"https://t1.daumcdn.net/tistory_admin/lib/lightbox/css/lightbox.min.css\" rel=\"stylesheet\" type=\"text/css\"/><link href=\"https://t1.daumcdn.net/tistory_admin/assets/blog/tistory-aeb0c47c1569c26b1cf1f1a17b335722b1e6836f/blogs/style/content/font.css?_version_=tistory-aeb0c47c1569c26b1cf1f1a17b335722b1e6836f\" rel=\"stylesheet\" type=\"text/css\"/><link href=\"https://t1.daumcdn.net/tistory_admin/assets/blog/tistory-aeb0c47c1569c26b1cf1f1a17b335722b1e6836f/blogs/style/content/content.css?_version_=tistory-aeb0c47c1569c26b1cf1f1a17b335722b1e6836f\" rel=\"stylesheet\" type=\"text/css\"/><!--[if lt IE 9]><script src=\"https://t1.daumcdn.net/tistory_admin/lib/jquery/jquery-1.12.4.min.js\"></script><![endif]--><!--[if gte IE 9]>\n",
      "<!--><script src=\"https://t1.daumcdn.net/tistory_admin/lib/jquery/jquery-3.2.1.min.js\"></script><!--<![endif]-->\n",
      "<script src=\"https://t1.daumcdn.net/tistory_admin/lib/lightbox/js/lightbox-plus-jquery.min.js\"></script>\n",
      "<script>\n",
      "lightbox.options.fadeDuration = 200;\n",
      "lightbox.options.resizeDuration = 200;\n",
      "lightbox.options.wrapAround = false;\n",
      "lightbox.options.albumLabel = \"%1 / %2\";\n",
      "</script>\n",
      "<script>var tjQuery = jQuery.noConflict(true);</script><style type=\"text/css\">.tt_article_useless_p_margin p {padding-top:0 !important;padding-bottom:0 !important;margin-top:0 !important;margin-bottom:0 !important;}</style><meta content=\"always\" name=\"referrer\"/><link href=\"//t1.daumcdn.net/tistory_admin/static/top/favicon_0630.ico\" rel=\"icon\"/><link href=\"//img1.daumcdn.net/thumb/C180x180/?fname=https%3A%2F%2Ft1.daumcdn.net%2Fcfile%2Ftistory%2F241F093D5701E73803\" rel=\"apple-touch-icon\"/>\n",
      "<link href=\"//img1.daumcdn.net/thumb/C76x76/?fname=https%3A%2F%2Ft1.daumcdn.net%2Fcfile%2Ftistory%2F241F093D5701E73803\" rel=\"apple-touch-icon\" sizes=\"76x76\"/>\n",
      "<link href=\"//img1.daumcdn.net/thumb/C120x120/?fname=https%3A%2F%2Ft1.daumcdn.net%2Fcfile%2Ftistory%2F241F093D5701E73803\" rel=\"apple-touch-icon\" sizes=\"120x120\"/>\n",
      "<link href=\"//img1.daumcdn.net/thumb/C152x152/?fname=https%3A%2F%2Ft1.daumcdn.net%2Fcfile%2Ftistory%2F241F093D5701E73803\" rel=\"apple-touch-icon\" sizes=\"152x152\"/>\n",
      "<meta content=\"ca-host-pub-9691043933427338\" name=\"google-adsense-platform-account\"/>\n",
      "<meta content=\"tistory.com\" name=\"google-adsense-platform-domain\"/>\n",
      "<meta content=\"Hello, world!\" name=\"description\"/>\n",
      "<!-- BEGIN OPENGRAPH -->\n",
      "<link href=\"https://ai-dev.tistory.com/1\" rel=\"canonical\"><meta content=\"article\" property=\"og:type\"/><meta content=\"https://ai-dev.tistory.com/1\" property=\"og:url\"/><meta content=\"로스카츠\" property=\"og:article:author\"/><meta content=\"인공지능 개발의 모든 것\" property=\"og:site_name\"/><meta content=\"크롤링의 세계에 오신 것을 환영합니다.\" property=\"og:title\"/><meta content=\"로스카츠\" name=\"by\"/><meta content=\"Hello, world!\" property=\"og:description\"/><meta content=\"https://t1.daumcdn.net/tistory_admin/static/images/openGraph/opengraph.png\" property=\"og:image\"/>\n",
      "<!-- END OPENGRAPH -->\n",
      "<!-- BEGIN TWITTERCARD -->\n",
      "<meta content=\"summary_large_image\" name=\"twitter:card\"/><meta content=\"@TISTORY\" name=\"twitter:site\"/><meta content=\"크롤링의 세계에 오신 것을 환영합니다.\" name=\"twitter:title\"/><meta content=\"Hello, world!\" name=\"twitter:description\"/><meta content=\"https://t1.daumcdn.net/tistory_admin/static/images/openGraph/opengraph.png\" property=\"twitter:image\"/>\n",
      "<!-- END TWITTERCARD -->\n",
      "<!-- BEGIN DAUMAPP -->\n",
      "<meta content=\"https://ai-dev.tistory.com/1\" property=\"dg:plink\"/><meta content=\"https://ai-dev.tistory.com/1\" name=\"plink\"/><meta content=\"크롤링의 세계에 오신 것을 환영합니다.\" name=\"title\"/><meta content=\"인공지능 개발의 모든 것\" name=\"article:media_name\"/><meta content=\"https://ai-dev.tistory.com/m/1\" property=\"article:mobile_url\"/><meta content=\"https://ai-dev.tistory.com/1\" property=\"article:pc_url\"/><meta content=\"https://ai-dev.tistory.com/m/1\" property=\"article:mobile_view_url\"/><meta content=\"https://ai-dev.tistory.com/1\" property=\"article:pc_view_url\"/><meta content=\"https://ai-dev.tistory.com/m/1\" property=\"article:talk_channel_view_url\"/><meta content=\"https://www.tistory.com\" property=\"article:pc_service_home\"/><meta content=\"https://www.tistory.com/m\" property=\"article:mobile_service_home\"/><meta content=\"4442027_1\" property=\"article:txid\"><meta content=\"2021-01-21T14:06:56+09:00\" property=\"article:published_time\"/><meta content=\"20210121140656\" property=\"og:regDate\"/><meta content=\"2021-01-21T14:06:56+09:00\" property=\"article:modified_time\"/>\n",
      "<!-- END DAUMAPP -->\n",
      "<!-- BEGIN STRUCTURED_DATA -->\n",
      "<script type=\"application/ld+json\">{\"@context\":\"http:\\/\\/schema.org\",\"@type\":\"BlogPosting\",\"mainEntityOfPage\":{\"@id\":\"https:\\/\\/ai-dev.tistory.com\\/1\"},\"url\":\"https:\\/\\/ai-dev.tistory.com\\/1\",\"headline\":\"\\ud06c\\ub864\\ub9c1\\uc758 \\uc138\\uacc4\\uc5d0 \\uc624\\uc2e0 \\uac83\\uc744 \\ud658\\uc601\\ud569\\ub2c8\\ub2e4.\",\"description\":\"Hello, world!\",\"author\":{\"@type\":\"Person\",\"name\":\"\\ub85c\\uc2a4\\uce74\\uce20\"},\"image\":{\"@type\":\"ImageObject\",\"url\":\"https:\\/\\/t1.daumcdn.net\\/tistory_admin\\/static\\/images\\/openGraph\\/opengraph.png\",\"width\":\"800px\",\"height\":\"800px\"},\"datePublished\":\"20210121T14:06:56+09:00\",\"dateModified\":\"20210121T14:06:56+09:00\",\"publisher\":{\"@type\":\"Organization\",\"name\":\"TISTORY\",\"logo\":{\"@type\":\"ImageObject\",\"url\":\"https:\\/\\/t1.daumcdn.net\\/tistory_admin\\/static\\/images\\/openGraph\\/opengraph.png\",\"width\":\"800px\",\"height\":\"800px\"}}}</script><meta content=\"max-image-preview:large\" name=\"robots\"/>\n",
      "<!-- END STRUCTURED_DATA -->\n",
      "<meta charset=\"utf-8\"/>\n",
      "<meta content=\"user-scalable=no, initial-scale=1.0, maximum-scale=1.0, minimum-scale=1.0, width=device-width\" name=\"viewport\"/>\n",
      "<title>크롤링의 세계에 오신 것을 환영합니다.</title>\n",
      "<link href=\"https://tistory2.daumcdn.net/tistory/0/pg_Poster/style.css\" rel=\"stylesheet\"/>\n",
      "<script src=\"//t1.daumcdn.net/tistory_admin/lib/jquery/jquery-1.12.4.min.js\"></script>\n",
      "<style type=\"text/css\">\n",
      "\t\t#daumSearchBox {\n",
      "\t\t\theight: 21px;\n",
      "\t\t\tbackground-image : url(//i1.daumcdn.net/imgsrc.search/search_all/show/tistory/plugin/bg_search2_2.gif);\n",
      "\t\t\tmargin: 5px auto ;\n",
      "\t\t\tpadding: 0;\n",
      "\t\t}\n",
      "\t\t#daumSearchBox input {\n",
      "\t\t\tbackground: none;\n",
      "\t\t\tmargin : 0;\n",
      "\t\t\tpadding : 0;\n",
      "\t\t\tborder : 0;\n",
      "\t\t}\n",
      "\t\t#daumSearchBox #daumLogo {\n",
      "\t\t\twidth: 34px;\n",
      "\t\t\theight: 21px;\n",
      "\t\t\tfloat: left;\n",
      "\t\t\tmargin-right: 5px;\n",
      "\t\t\tbackground-image : url(//i1.daumcdn.net/img-media/tistory/img/bg_search1_2_2010ci.gif);\n",
      "\t\t}\n",
      "\t\t#daumSearchBox #show_q {\n",
      "\t\t\tbackground-color: transparent;\n",
      "\t\t\tborder: none;\n",
      "\t\t\tfont: 12px Gulim, Sans-serif;\n",
      "\t\t\tcolor: #555;\n",
      "\t\t\tmargin-top: 4px;\n",
      "\t\t\tmargin-right: 15px;\n",
      "\t\t\tfloat: left;\n",
      "\t\t}\n",
      "\n",
      "\t\t#daumSearchBox #show_btn {\n",
      "\t\t\tbackground-image : url(//i1.daumcdn.net/imgsrc.search/search_all/show/tistory/plugin/bt_search_2.gif);\n",
      "\t\t\twidth: 37px;\n",
      "\t\t\theight: 21px;\n",
      "\t\t\tfloat: left;\n",
      "\t\t\tmargin:0;\n",
      "\t\t\tcursor:pointer;\n",
      "\t\t\ttext-indent:-1000em;\n",
      "\t\t}\n",
      "\t</style>\n",
      "<link href=\"https://t1.daumcdn.net/tistory_admin/assets/blog/tistory-aeb0c47c1569c26b1cf1f1a17b335722b1e6836f/blogs/plugins/TistoryProfileLayer/style.css?_version_=tistory-aeb0c47c1569c26b1cf1f1a17b335722b1e6836f\" rel=\"stylesheet\" type=\"text/css\">\n",
      "<script src=\"https://t1.daumcdn.net/tistory_admin/assets/blog/tistory-aeb0c47c1569c26b1cf1f1a17b335722b1e6836f/blogs/plugins/TistoryProfileLayer/profile.js?_version_=tistory-aeb0c47c1569c26b1cf1f1a17b335722b1e6836f\" type=\"text/javascript\"></script>\n",
      "<style type=\"text/css\">\n",
      "\t\t.another_category { border: 1px solid #E5E5E5; padding: 10px 10px 5px; margin:10px 0; clear: both; }\n",
      "\t\t.another_category h4 { font-size: 12px !important; margin: 0 !important; border-bottom: 1px solid #E5E5E5 !important; padding: 2px 0 6px !important; }\n",
      "\t\t.another_category h4 a { font-weight: bold !important; }\n",
      "\t\t.another_category table { table-layout: fixed; border-collapse: collapse; width: 100% !important; margin-top: 10px !important; }\n",
      "\t\t* html .another_category table { width: auto !important; }\n",
      "\t\t*:first-child+html .another_category table { width: auto !important; }\n",
      "\t\t.another_category th, .another_category td { padding: 0 0 4px !important; }\n",
      "\t\t.another_category th { text-align: left; font-size: 12px !important; font-weight: normal;  word-break: break-all; overflow: hidden; line-height: 1.5; }\n",
      "\t\t.another_category td { text-align: right; width: 80px; font-size: 11px; }\n",
      "\t\t.another_category th a { font-weight: normal; text-decoration: none; border: none !important; }\n",
      "\t\t.another_category th a.current{ font-weight: bold; text-decoration: none !important; border-bottom: 1px solid !important; }\n",
      "\t\t.another_category th span { font-weight: normal; text-decoration: none; font: 10px Tahoma, Sans-serif; border: none !important; }\n",
      "\n",
      "\t\t.another_category_color_gray, .another_category_color_gray h4 { border-color: #E5E5E5 !important; }\n",
      "\t\t.another_category_color_gray * { color: #909090 !important; }\n",
      "\t\t.another_category_color_gray th a.current{border-color:#909090 !important;}\n",
      "\t\t.another_category_color_gray h4, .another_category_color_gray h4 a { color: #737373 !important; }\n",
      "\n",
      "\n",
      "\t\t.another_category_color_red, .another_category_color_red h4 { border-color: #F6D4D3 !important;  }\n",
      "\t\t.another_category_color_red * { color: #E86869 !important; }\n",
      "\t\t.another_category_color_red th a.current{border-color:#E86869 !important;}\n",
      "\t\t.another_category_color_red h4, .another_category_color_red h4 a { color: #ED0908 !important; }\n",
      "\n",
      "\n",
      "\t\t.another_category_color_green, .another_category_color_green h4 { border-color: #CCE7C8 !important; }\n",
      "\t\t.another_category_color_green * { color: #64C05B !important; }\n",
      "\t\t.another_category_color_green th a.current{border-color:#64C05B !important;}\n",
      "\t\t.another_category_color_green h4, .another_category_color_green h4 a { color: #3EA731 !important; }\n",
      "\n",
      "\n",
      "\t\t.another_category_color_blue, .another_category_color_blue h4 { border-color: #C8DAF2 !important; }\n",
      "\t\t.another_category_color_blue * { color: #477FD6 !important; }\n",
      "\t\t.another_category_color_blue th a.current{border-color:#477FD6 !important;}\n",
      "\t\t.another_category_color_blue h4, .another_category_color_blue h4 a { color: #1960CA !important; }\n",
      "\n",
      "\n",
      "\t\t.another_category_color_violet, .another_category_color_violet h4 { border-color: #E1CEEC !important;  }\n",
      "\t\t.another_category_color_violet * { color:#9D64C5 !important; }\n",
      "\t\t.another_category_color_violet th a.current{border-color:#9D64C5 !important;}\n",
      "\t\t.another_category_color_violet h4, .another_category_color_violet h4 a { color: #7E2CB5 !important; }\n",
      "\t</style>\n",
      "<script type=\"text/javascript\">\n",
      "        \n",
      "        window.TistoryBlog = {\n",
      "            basePath: \"\",\n",
      "            url: \"https://ai-dev.tistory.com\",\n",
      "            tistoryUrl: \"https://ai-dev.tistory.com\",\n",
      "\t\t\tmanageUrl: 'https://ai-dev.tistory.com/manage',\n",
      "            token: 'IZvVevqCyDb9UNyFpJpVNg=='\n",
      "        };\n",
      "        var servicePath = \"\";\n",
      "        var blogURL = \"\";\n",
      "    </script>\n",
      "<script> (function() { window.orgjQuery = window.jQuery; window.jQuery = tjQuery })()</script>\n",
      "<script defer=\"\" src=\"https://t1.daumcdn.net/tistory_admin/assets/blog/tistory-aeb0c47c1569c26b1cf1f1a17b335722b1e6836f/blogs/script/reaction/reaction-button-container.min.js?_version_=tistory-aeb0c47c1569c26b1cf1f1a17b335722b1e6836f\" type=\"text/javascript\"></script>\n",
      "<script> (function() { window.jQuery = window.orgjQuery; delete window.orgjQuery })()</script>\n",
      "<script src=\"https://t1.daumcdn.net/tistory_admin/assets/blog/tistory-aeb0c47c1569c26b1cf1f1a17b335722b1e6836f/blogs/script/_/base.js?_version_=tistory-aeb0c47c1569c26b1cf1f1a17b335722b1e6836f\" type=\"text/javascript\"></script>\n",
      "<link href=\"https://t1.daumcdn.net/tistory_admin/assets/blog/tistory-aeb0c47c1569c26b1cf1f1a17b335722b1e6836f/blogs/style/dialog.css?_version_=tistory-aeb0c47c1569c26b1cf1f1a17b335722b1e6836f\" rel=\"stylesheet\" type=\"text/css\">\n",
      "<link href=\"//t1.daumcdn.net/tistory_admin/www/style/top/font.css\" rel=\"stylesheet\" type=\"text/css\"/>\n",
      "<link href=\"https://t1.daumcdn.net/tistory_admin/assets/blog/tistory-aeb0c47c1569c26b1cf1f1a17b335722b1e6836f/blogs/style/postBtn.css?_version_=tistory-aeb0c47c1569c26b1cf1f1a17b335722b1e6836f\" rel=\"stylesheet\" type=\"text/css\">\n",
      "<link href=\"https://t1.daumcdn.net/tistory_admin/assets/blog/tistory-aeb0c47c1569c26b1cf1f1a17b335722b1e6836f/blogs/style/component/tistory.css?_version_=tistory-aeb0c47c1569c26b1cf1f1a17b335722b1e6836f\" rel=\"stylesheet\" type=\"text/css\">\n",
      "<script src=\"//developers.kakao.com/sdk/js/kakao.min.js\" type=\"text/javascript\"></script></link></link></link></link></meta></link></head>\n",
      "<body class=\"color-gray post-type-text paging-view-more\" id=\"tt-body-page\">\n",
      "<script type=\"text/javascript\">\n",
      "\t(function() {\n",
      "\t\tif (!window.T) {\n",
      "\t\t\twindow.T = {}\n",
      "\t\t}\n",
      "\t\twindow.T.config = {\"TOP_SSL_URL\":\"https:\\/\\/www.tistory.com\",\"PREVIEW\":false,\"ROLE\":\"guest\",\"PREV_PAGE\":\"\\/2\",\"NEXT_PAGE\":\"\",\"BLOG\":{\"isDormancy\":false,\"title\":\"\\uc778\\uacf5\\uc9c0\\ub2a5 \\uac1c\\ubc1c\\uc758 \\ubaa8\\ub4e0 \\uac83\"},\"NEED_COMMENT_LOGIN\":false,\"COMMENT_LOGIN_CONFIRM_MESSAGE\":\"\",\"LOGIN_URL\":\"https:\\/\\/www.tistory.com\\/auth\\/login\\/?redirectUrl=http%3A%2F%2Fai-dev.tistory.com%2F1\",\"DEFAULT_URL\":\"https:\\/\\/ai-dev.tistory.com\",\"USER\":{\"name\":null,\"homepage\":null},\"ROLE_GROUP\":\"visitor\",\"SUBSCRIPTION\":{\"status\":\"none\",\"isConnected\":false,\"isProcessing\":false,\"isPending\":false,\"isWait\":false,\"isNone\":true},\"IS_LOGIN\":false,\"HAS_BLOG\":false,\"TOP_URL\":\"https:\\/\\/www.tistory.com\",\"JOIN_URL\":\"https:\\/\\/www.tistory.com\\/member\\/join\"};\n",
      "\t\twindow.appInfo = {\"domain\":\"tistory.com\",\"topUrl\":\"https:\\/\\/www.tistory.com\",\"loginUrl\":\"https:\\/\\/www.tistory.com\\/auth\\/login\",\"logoutUrl\":\"https:\\/\\/www.tistory.com\\/auth\\/logout\"};\n",
      "\n",
      "        window.initData = {};\n",
      "        \n",
      "\t})();\n",
      "</script>\n",
      "<script src=\"https://t1.daumcdn.net/tistory_admin/assets/blog/tistory-aeb0c47c1569c26b1cf1f1a17b335722b1e6836f/blogs/script/blog/common.js?_version_=tistory-aeb0c47c1569c26b1cf1f1a17b335722b1e6836f\" type=\"text/javascript\"></script>\n",
      "<div style=\"margin:0; padding:0; border:none; background:none; float:none; clear:none; z-index:0\"></div>\n",
      "<div id=\"acc-nav\">\n",
      "<a href=\"#content\">본문 바로가기</a>\n",
      "</div>\n",
      "<div id=\"wrap\">\n",
      "<header id=\"header\">\n",
      "<h1><a href=\"/\">인공지능 개발의 모든 것</a></h1>\n",
      "<button class=\"mobile-menu\" type=\"button\"><span>메뉴</span></button>\n",
      "<div class=\"menu\">\n",
      "<nav id=\"gnb\">\n",
      "<ul class=\"tt_category\">\n",
      "<li class=\"\">\n",
      "<a class=\"link_tit\" href=\"/category\">\n",
      "\t\t\t분류 전체보기\t\t\t\t\t\t\t<span class=\"c_cnt\">(2)</span>\n",
      "</a>\n",
      "<ul class=\"category_list\">\n",
      "<li class=\"\">\n",
      "<a class=\"link_item\" href=\"/category/%ED%81%AC%EB%A1%A4%EB%A7%81\">\n",
      "\t\t\t\t\t\t크롤링\t\t\t\t\t\t\t\t\t\t\t\t\t<span class=\"c_cnt\">(2)</span>\n",
      "</a>\n",
      "</li>\n",
      "</ul>\n",
      "</li>\n",
      "</ul>\n",
      "</nav>\n",
      "<div class=\"social-link\">\n",
      "</div>\n",
      "<p>POWERED BY TISTORY</p>\n",
      "</div>\n",
      "<div class=\"search\">\n",
      "<input name=\"search\" onkeypress=\"if (event.keyCode == 13) { try{window.location.href='/search/'+looseURIEncode(document.getElementsByName('search')[0].value);document.getElementsByName('search')[0].value='';return false;}catch(e){} }\" placeholder=\"검색내용을 입력하세요.\" type=\"text\" value=\"\"/>\n",
      "<button onclick=\"try{window.location.href='/search/'+looseURIEncode(document.getElementsByName('search')[0].value);document.getElementsByName('search')[0].value='';return false;}catch(e){}\" type=\"submit\">검색</button>\n",
      "</div>\n",
      "</header>\n",
      "<hr/>\n",
      "<section class=\"container\">\n",
      "<article id=\"content\">\n",
      "<div class=\"inner\">\n",
      "<div class=\"hgroup\">\n",
      "<div class=\"category\">크롤링</div>\n",
      "<h1>크롤링의 세계에 오신 것을 환영합니다. </h1>\n",
      "<div class=\"post-meta\">\n",
      "<span class=\"author\">로스카츠</span>\n",
      "<span class=\"date\">2021. 1. 21. 14:06</span>\n",
      "</div>\n",
      "</div>\n",
      "<div class=\"entry-content\">\n",
      "<div class=\"tt_article_useless_p_margin contents_style\"><p>Hello, world!</p><div class=\"container_postbtn #post_button_group\">\n",
      "<div class=\"postbtn_like\">\n",
      "<script>\n",
      "    window.ReactionButtonType = 'reaction';\n",
      "    window.ReactionApiUrl = '//ai-dev.tistory.com/reaction';\n",
      "    window.ReactionReqBody = {\n",
      "        entryId: 1    }\n",
      "</script>\n",
      "<div class=\"wrap_btn\" id=\"reaction-1\"></div>\n",
      "<script src=\"https://t1.daumcdn.net/tistory_admin/assets/blog/tistory-aeb0c47c1569c26b1cf1f1a17b335722b1e6836f/blogs/script/reaction/reaction-button-container.min.js?_version_=tistory-aeb0c47c1569c26b1cf1f1a17b335722b1e6836f\"></script>\n",
      "<div class=\"wrap_btn wrap_btn_share\">\n",
      "<button class=\"btn_post sns_btn btn_share\" data-blog-title=\"인공지능 개발의 모든 것\" data-description=\"Hello, world!\" data-pc-url=\"https://ai-dev.tistory.com/1\" data-profile-image=\"https://t1.daumcdn.net/tistory_admin/static/manage/images/r3/default_L.png\" data-profile-name=\"로스카츠\" data-relative-pc-url=\"/1\" data-thumbnail-url=\"https://t1.daumcdn.net/tistory_admin/static/images/openGraph/opengraph.png\" data-title=\"크롤링의 세계에 오신 것을 환영합니다.\" type=\"button\">\n",
      "<span class=\"ico_postbtn ico_share\">공유하기</span>\n",
      "</button>\n",
      "</div>\n",
      "<div class=\"wrap_btn wrap_btn_etc\" data-category-visibility=\"public\" data-entry-id=\"1\" data-entry-visibility=\"public\">\n",
      "<button class=\"btn_post btn_etc2\" type=\"button\"><span class=\"ico_postbtn ico_etc\">글 요소</span></button>\n",
      "</div>\n",
      "</div>\n",
      "<button class=\"btn_menu_toolbar btn_subscription #subscribe\" data-blog-id=\"4442027\" data-device=\"web_pc\" data-url=\"https://ai-dev.tistory.com/1\" type=\"button\">\n",
      "<em class=\"txt_state\">구독하기</em>\n",
      "<strong class=\"txt_tool_id\">인공지능 개발의 모든 것</strong>\n",
      "<span class=\"img_common_tistory ico_check_type1\"></span>\n",
      "</button>\n",
      "<div class=\"postbtn_ccl\" data-ccl-type=\"\">\n",
      "<a class=\"link_ccl\" href=\"https://creativecommons.org/licenses//4.0/deed.ko\" rel=\"license\" target=\"_blank\">\n",
      "<span class=\"bundle_ccl\">\n",
      "</span>\n",
      "</a>\n",
      "</div>\n",
      "<!--\n",
      "<rdf:RDF xmlns=\"http://web.resource.org/cc/\" xmlns:dc=\"http://purl.org/dc/elements/1.1/\" xmlns:rdf=\"http://www.w3.org/1999/02/22-rdf-syntax-ns#\">\n",
      "    <Work rdf:about=\"\">\n",
      "        <license rdf:resource=\"http://creativecommons.org/licenses/by-/2.0/kr/\" />\n",
      "    </Work>\n",
      "    <License rdf:about=\"http://creativecommons.org/licenses/by-/\">\n",
      "        <permits rdf:resource=\"http://web.resource.org/cc/Reproduction\"/>\n",
      "        <permits rdf:resource=\"http://web.resource.org/cc/Distribution\"/>\n",
      "        <requires rdf:resource=\"http://web.resource.org/cc/Notice\"/>\n",
      "        <requires rdf:resource=\"http://web.resource.org/cc/Attribution\"/>\n",
      "                    </License>\n",
      "</rdf:RDF>\n",
      "-->\n",
      "</div><div class=\"another_category another_category_color_gray\">\n",
      "<h4>'<a href=\"/category/크롤링\">크롤링</a>' 카테고리의 다른 글</h4>\n",
      "<table>\n",
      "<tr>\n",
      "<th>\n",
      "<a href=\"/2?category=836119\">크롤링 예제 페이지 - 02</a>  <span>(0)</span>\n",
      "</th>\n",
      "<td>\r\n",
      "2021.08.08</td>\n",
      "</tr>\n",
      "<tr>\n",
      "<th>\n",
      "<a class=\"current\" href=\"/1?category=836119\">크롤링의 세계에 오신 것을 환영합니다.</a>  <span>(0)</span>\n",
      "</th>\n",
      "<td>\r\n",
      "2021.01.21</td>\n",
      "</tr>\n",
      "</table></div></div>\n",
      "</div>\n",
      "<div class=\"related-articles\">\n",
      "<h2><strong>'크롤링'</strong> Related Articles</h2>\n",
      "<ul>\n",
      "<li>\n",
      "<a href=\"/2?category=836119\">\n",
      "<span class=\"thum\">\n",
      "</span>\n",
      "<span class=\"title\">크롤링 예제 페이지 - 02</span>\n",
      "</a>\n",
      "</li>\n",
      "</ul>\n",
      "</div>\n",
      "<div id=\"entry1Comment\">\n",
      "<div class=\"comments\">\n",
      "<form action=\"/comment/add/1\" method=\"post\" onsubmit=\"return false\" style=\"margin: 0\">\n",
      "<div class=\"comment-form\">\n",
      "<div class=\"field\">\n",
      "<input name=\"name\" placeholder=\"이름\" type=\"text\" value=\"\"/>\n",
      "<input name=\"password\" placeholder=\"암호\" type=\"password\" value=\"\"/>\n",
      "<div class=\"secret\">\n",
      "<input id=\"secret\" name=\"secret\" type=\"checkbox\"/>\n",
      "<label for=\"secret\" tabindex=\"0\">Secret</label>\n",
      "</div>\n",
      "</div>\n",
      "<textarea cols=\"\" name=\"comment\" placeholder=\"여러분의 소중한 댓글을 입력해주세요.\" rows=\"4\"></textarea>\n",
      "<div class=\"submit\">\n",
      "<button class=\"btn\" onclick=\"addComment(this, 1); return false;\" type=\"submit\">댓글달기</button>\n",
      "</div>\n",
      "</div>\n",
      "</form>\n",
      "</div>\n",
      "</div><script type=\"text/javascript\">loadedComments[1]=true;findFragmentAndHighlight(1)</script>\n",
      "</div>\n",
      "<div class=\"pagination\">\n",
      "<a class=\"prev\" href=\"/2\">이전</a>\n",
      "<a href=\"/2\"><span>1</span></a>\n",
      "<a><span class=\"selected\">2</span></a>\n",
      "<a class=\"next no-more-next\">다음</a>\n",
      "</div>\n",
      "</article>\n",
      "</section>\n",
      "<hr/>\n",
      "<footer id=\"footer\">\n",
      "<p class=\"copyright\">DESIGN BY <a href=\"#\">TISTORY</a> <a class=\"admin\" href=\"https://ai-dev.tistory.com/manage\">관리자</a></p>\n",
      "</footer>\n",
      "</div>\n",
      "<script src=\"https://tistory2.daumcdn.net/tistory/0/pg_Poster/images/script.js\"></script>\n",
      "<script src=\"//search1.daumcdn.net/search/statics/common/js/g/search_dragselection.min.js\"></script>\n",
      "<script>\n",
      "\t    lightbox.option({\n",
      "\t\t\t\"fadeDuration\": 200,\n",
      "\t\t    \"resizeDuration\": 200,\n",
      "\t\t    \"wrapAround\": false,\n",
      "\t\t\t\"albumLabel\": \"%1 / %2\",\n",
      "\t\t\t\"fitImagesInViewport\":true ,\n",
      "\t\t\t\"stopEvent\": false\n",
      "\t    })\n",
      "\t</script> <script src=\"//t1.daumcdn.net/tiara/js/v1/tiara.min.js\" type=\"text/javascript\"></script>\n",
      "<script type=\"text/javascript\">window.tiara = {\"svcDomain\":\"user.tistory.com\",\"section\":\"\\uae00\\ubdf0\",\"trackPage\":\"\\uae00\\ubdf0_\\ubcf4\\uae30\",\"page\":\"\\uae00\\ubdf0\",\"key\":\"4442027-1\",\"customProps\":{\"userId\":0,\"blogId\":\"4442027\",\"role\":\"guest\",\"filterTarget\":false,\"trackPage\":\"\\uae00\\ubdf0_\\ubcf4\\uae30\",\"entryId\":\"1\"},\"entry\":{\"entryId\":\"1\",\"categoryName\":\"\\ud06c\\ub864\\ub9c1\",\"categoryId\":\"836119\",\"author\":\"4727327\",\"authorId\":\"4727327\",\"image\":\"4727327\",\"plink\":\"\\/1\",\"tags\":[],\"key\":\"4442027-1\"},\"sentryDsn\":\"https:\\/\\/a53520229cd744e798d42900d76b0e2a@aem-collector.daumkakao.io\\/713\",\"kakaoAppKey\":\"b8aef3eeb03fa312b81795386484f051\",\"appUserId\":null};</script>\n",
      "<script defer=\"\" src=\"https://t1.daumcdn.net/tistory_admin/assets/blog/tistory-aeb0c47c1569c26b1cf1f1a17b335722b1e6836f/blogs/script/tiara/tiara.min.js?_version_=tistory-aeb0c47c1569c26b1cf1f1a17b335722b1e6836f\" type=\"text/javascript\"></script>\n",
      "<script type=\"text/javascript\">\n",
      "                window.roosevelt_params_queue = window.roosevelt_params_queue || [{channel_id: 'dk', channel_label: 'tistory'}];\n",
      "            </script>\n",
      "<script async=\"\" src=\"//t1.daumcdn.net/midas/rt/dk_bt/roosevelt_dk_bt.js\" type=\"text/javascript\"></script><script type=\"text/javascript\">if(window.console!=undefined){setTimeout(console.log.bind(console,\"%cTISTORY\",\"font:8em Arial;color:#EC6521;font-weight:bold\"),0);setTimeout(console.log.bind(console,\"%c  나를 표현하는 블로그\",\"font:2em sans-serif;color:#333;\"),0);}</script><iframe id=\"editEntry\" src=\"//ai-dev.tistory.com/api\" style=\"position:absolute;width:1px;height:1px;left:-100px;top:-100px\"></iframe><div class=\"layer_post\" id=\"tistoryEtcLayer\"></div><div class=\"layer_post\" id=\"tistorySnsLayer\"></div></body>\n",
      "</html>\n",
      "\n"
     ]
    }
   ],
   "source": [
    "from bs4 import BeautifulSoup\n",
    "from urllib.request import urlopen\n",
    "\n",
    "url = \"https://ai-dev.tistory.com/1\"\n",
    "html = urlopen(url)\n",
    "bs_obj = BeautifulSoup(html, \"html.parser\")\n",
    "print(bs_obj)"
   ]
  },
  {
   "cell_type": "code",
   "execution_count": 16,
   "id": "8a348ad6",
   "metadata": {},
   "outputs": [
    {
     "name": "stdout",
     "output_type": "stream",
     "text": [
      "[<h1><a href=\"/\">인공지능 개발의 모든 것</a></h1>, <h1>크롤링의 세계에 오신 것을 환영합니다. </h1>]\n"
     ]
    }
   ],
   "source": [
    "title = bs_obj.find_all(\"h1\")\n",
    "print(title)"
   ]
  },
  {
   "cell_type": "code",
   "execution_count": 17,
   "id": "7658093b",
   "metadata": {},
   "outputs": [
    {
     "name": "stdout",
     "output_type": "stream",
     "text": [
      "<h1>크롤링의 세계에 오신 것을 환영합니다. </h1>\n"
     ]
    }
   ],
   "source": [
    "print(title[1])"
   ]
  },
  {
   "cell_type": "code",
   "execution_count": 18,
   "id": "a5e0eebc",
   "metadata": {},
   "outputs": [
    {
     "name": "stdout",
     "output_type": "stream",
     "text": [
      "크롤링의 세계에 오신 것을 환영합니다. \n"
     ]
    }
   ],
   "source": [
    "# 내용만\n",
    "print(title[1].text)"
   ]
  },
  {
   "cell_type": "markdown",
   "id": "f2929be0",
   "metadata": {},
   "source": [
    "**본문 내용 크롤링**\n",
    "\n",
    "- p 태그에 걸림"
   ]
  },
  {
   "cell_type": "code",
   "execution_count": 19,
   "id": "f9f18728",
   "metadata": {},
   "outputs": [],
   "source": [
    "contents = bs_obj.find_all(\"p\")"
   ]
  },
  {
   "cell_type": "code",
   "execution_count": 20,
   "id": "4ccd1d54",
   "metadata": {},
   "outputs": [
    {
     "name": "stdout",
     "output_type": "stream",
     "text": [
      "[<p>POWERED BY TISTORY</p>, <p>Hello, world!</p>, <p class=\"copyright\">DESIGN BY <a href=\"#\">TISTORY</a> <a class=\"admin\" href=\"https://ai-dev.tistory.com/manage\">관리자</a></p>]\n"
     ]
    }
   ],
   "source": [
    "print(contents)"
   ]
  },
  {
   "cell_type": "code",
   "execution_count": 21,
   "id": "77377418",
   "metadata": {},
   "outputs": [
    {
     "name": "stdout",
     "output_type": "stream",
     "text": [
      "<p>Hello, world!</p>\n"
     ]
    }
   ],
   "source": [
    "print(contents[1])"
   ]
  },
  {
   "cell_type": "code",
   "execution_count": 22,
   "id": "5f079fcd",
   "metadata": {},
   "outputs": [
    {
     "name": "stdout",
     "output_type": "stream",
     "text": [
      "Hello, world!\n"
     ]
    }
   ],
   "source": [
    "print(contents[1].text)"
   ]
  },
  {
   "cell_type": "markdown",
   "id": "40041d9c",
   "metadata": {},
   "source": [
    "#실습2"
   ]
  },
  {
   "cell_type": "markdown",
   "id": "c02cb756",
   "metadata": {},
   "source": [
    "###테이블에서 텍스트만 추출"
   ]
  },
  {
   "cell_type": "code",
   "execution_count": 23,
   "id": "2d7d852a",
   "metadata": {},
   "outputs": [
    {
     "name": "stdout",
     "output_type": "stream",
     "text": [
      "<!DOCTYPE html>\n",
      "\n",
      "<html lang=\"ko\">\n",
      "<head>\n",
      "<link href=\"https://t1.daumcdn.net/tistory_admin/lib/lightbox/css/lightbox.min.css\" rel=\"stylesheet\" type=\"text/css\"/><link href=\"https://t1.daumcdn.net/tistory_admin/assets/blog/tistory-aeb0c47c1569c26b1cf1f1a17b335722b1e6836f/blogs/style/content/font.css?_version_=tistory-aeb0c47c1569c26b1cf1f1a17b335722b1e6836f\" rel=\"stylesheet\" type=\"text/css\"/><link href=\"https://t1.daumcdn.net/tistory_admin/assets/blog/tistory-aeb0c47c1569c26b1cf1f1a17b335722b1e6836f/blogs/style/content/content.css?_version_=tistory-aeb0c47c1569c26b1cf1f1a17b335722b1e6836f\" rel=\"stylesheet\" type=\"text/css\"/><!--[if lt IE 9]><script src=\"https://t1.daumcdn.net/tistory_admin/lib/jquery/jquery-1.12.4.min.js\"></script><![endif]--><!--[if gte IE 9]>\n",
      "<!--><script src=\"https://t1.daumcdn.net/tistory_admin/lib/jquery/jquery-3.2.1.min.js\"></script><!--<![endif]-->\n",
      "<script src=\"https://t1.daumcdn.net/tistory_admin/lib/lightbox/js/lightbox-plus-jquery.min.js\"></script>\n",
      "<script>\n",
      "lightbox.options.fadeDuration = 200;\n",
      "lightbox.options.resizeDuration = 200;\n",
      "lightbox.options.wrapAround = false;\n",
      "lightbox.options.albumLabel = \"%1 / %2\";\n",
      "</script>\n",
      "<script>var tjQuery = jQuery.noConflict(true);</script><style type=\"text/css\">.tt_article_useless_p_margin p {padding-top:0 !important;padding-bottom:0 !important;margin-top:0 !important;margin-bottom:0 !important;}</style><meta content=\"always\" name=\"referrer\"/><link href=\"//t1.daumcdn.net/tistory_admin/static/top/favicon_0630.ico\" rel=\"icon\"/><link href=\"//img1.daumcdn.net/thumb/C180x180/?fname=https%3A%2F%2Ft1.daumcdn.net%2Fcfile%2Ftistory%2F241F093D5701E73803\" rel=\"apple-touch-icon\"/>\n",
      "<link href=\"//img1.daumcdn.net/thumb/C76x76/?fname=https%3A%2F%2Ft1.daumcdn.net%2Fcfile%2Ftistory%2F241F093D5701E73803\" rel=\"apple-touch-icon\" sizes=\"76x76\"/>\n",
      "<link href=\"//img1.daumcdn.net/thumb/C120x120/?fname=https%3A%2F%2Ft1.daumcdn.net%2Fcfile%2Ftistory%2F241F093D5701E73803\" rel=\"apple-touch-icon\" sizes=\"120x120\"/>\n",
      "<link href=\"//img1.daumcdn.net/thumb/C152x152/?fname=https%3A%2F%2Ft1.daumcdn.net%2Fcfile%2Ftistory%2F241F093D5701E73803\" rel=\"apple-touch-icon\" sizes=\"152x152\"/>\n",
      "<meta content=\"ca-host-pub-9691043933427338\" name=\"google-adsense-platform-account\"/>\n",
      "<meta content=\"tistory.com\" name=\"google-adsense-platform-domain\"/>\n",
      "<meta content=\"본 페이지는 크롤링을 테스트 하기 위한 페이지 입니다. 다음 표에 속하는 텍스트를 크롤링 해봅시다. 상품 색상 가격 셔츠1 빨강 20000 셔츠2 파랑 19000 셔츠3 초록 18000 바지1 검정 50000 바지2 파랑 51000 이..\" name=\"description\"/>\n",
      "<!-- BEGIN OPENGRAPH -->\n",
      "<link href=\"https://ai-dev.tistory.com/2\" rel=\"canonical\"><meta content=\"article\" property=\"og:type\"/><meta content=\"https://ai-dev.tistory.com/2\" property=\"og:url\"/><meta content=\"로스카츠\" property=\"og:article:author\"/><meta content=\"인공지능 개발의 모든 것\" property=\"og:site_name\"/><meta content=\"크롤링 예제 페이지 - 02\" property=\"og:title\"/><meta content=\"로스카츠\" name=\"by\"/><meta content=\"본 페이지는 크롤링을 테스트 하기 위한 페이지 입니다. 다음 표에 속하는 텍스트를 크롤링 해봅시다. 상품 색상 가격 셔츠1 빨강 20000 셔츠2 파랑 19000 셔츠3 초록 18000 바지1 검정 50000 바지2 파랑 51000 이..\" property=\"og:description\"/><meta content=\"https://t1.daumcdn.net/tistory_admin/static/images/openGraph/opengraph.png\" property=\"og:image\"/>\n",
      "<!-- END OPENGRAPH -->\n",
      "<!-- BEGIN TWITTERCARD -->\n",
      "<meta content=\"summary_large_image\" name=\"twitter:card\"/><meta content=\"@TISTORY\" name=\"twitter:site\"/><meta content=\"크롤링 예제 페이지 - 02\" name=\"twitter:title\"/><meta content=\"본 페이지는 크롤링을 테스트 하기 위한 페이지 입니다. 다음 표에 속하는 텍스트를 크롤링 해봅시다. 상품 색상 가격 셔츠1 빨강 20000 셔츠2 파랑 19000 셔츠3 초록 18000 바지1 검정 50000 바지2 파랑 51000 이..\" name=\"twitter:description\"/><meta content=\"https://t1.daumcdn.net/tistory_admin/static/images/openGraph/opengraph.png\" property=\"twitter:image\"/>\n",
      "<!-- END TWITTERCARD -->\n",
      "<!-- BEGIN DAUMAPP -->\n",
      "<meta content=\"https://ai-dev.tistory.com/2\" property=\"dg:plink\"/><meta content=\"https://ai-dev.tistory.com/2\" name=\"plink\"/><meta content=\"크롤링 예제 페이지 - 02\" name=\"title\"/><meta content=\"인공지능 개발의 모든 것\" name=\"article:media_name\"/><meta content=\"https://ai-dev.tistory.com/m/2\" property=\"article:mobile_url\"/><meta content=\"https://ai-dev.tistory.com/2\" property=\"article:pc_url\"/><meta content=\"https://ai-dev.tistory.com/m/2\" property=\"article:mobile_view_url\"/><meta content=\"https://ai-dev.tistory.com/2\" property=\"article:pc_view_url\"/><meta content=\"https://ai-dev.tistory.com/m/2\" property=\"article:talk_channel_view_url\"/><meta content=\"https://www.tistory.com\" property=\"article:pc_service_home\"/><meta content=\"https://www.tistory.com/m\" property=\"article:mobile_service_home\"/><meta content=\"4442027_2\" property=\"article:txid\"><meta content=\"2021-08-08T00:12:35+09:00\" property=\"article:published_time\"/><meta content=\"20210808001235\" property=\"og:regDate\"/><meta content=\"2021-08-08T13:15:10+09:00\" property=\"article:modified_time\"/>\n",
      "<!-- END DAUMAPP -->\n",
      "<!-- BEGIN STRUCTURED_DATA -->\n",
      "<script type=\"application/ld+json\">{\"@context\":\"http:\\/\\/schema.org\",\"@type\":\"BlogPosting\",\"mainEntityOfPage\":{\"@id\":\"https:\\/\\/ai-dev.tistory.com\\/2\"},\"url\":\"https:\\/\\/ai-dev.tistory.com\\/2\",\"headline\":\"\\ud06c\\ub864\\ub9c1 \\uc608\\uc81c \\ud398\\uc774\\uc9c0 - 02\",\"description\":\"\\ubcf8 \\ud398\\uc774\\uc9c0\\ub294 \\ud06c\\ub864\\ub9c1\\uc744 \\ud14c\\uc2a4\\ud2b8 \\ud558\\uae30 \\uc704\\ud55c \\ud398\\uc774\\uc9c0 \\uc785\\ub2c8\\ub2e4. \\ub2e4\\uc74c \\ud45c\\uc5d0 \\uc18d\\ud558\\ub294 \\ud14d\\uc2a4\\ud2b8\\ub97c \\ud06c\\ub864\\ub9c1 \\ud574\\ubd05\\uc2dc\\ub2e4. \\uc0c1\\ud488 \\uc0c9\\uc0c1 \\uac00\\uaca9 \\uc154\\uce201 \\ube68\\uac15 20000 \\uc154\\uce202 \\ud30c\\ub791 19000 \\uc154\\uce203 \\ucd08\\ub85d 18000 \\ubc14\\uc9c01 \\uac80\\uc815 50000 \\ubc14\\uc9c02 \\ud30c\\ub791 51000 \\uc774..\",\"author\":{\"@type\":\"Person\",\"name\":\"\\ub85c\\uc2a4\\uce74\\uce20\"},\"image\":{\"@type\":\"ImageObject\",\"url\":\"https:\\/\\/t1.daumcdn.net\\/tistory_admin\\/static\\/images\\/openGraph\\/opengraph.png\",\"width\":\"800px\",\"height\":\"800px\"},\"datePublished\":\"20210808T00:12:35+09:00\",\"dateModified\":\"20210808T13:15:10+09:00\",\"publisher\":{\"@type\":\"Organization\",\"name\":\"TISTORY\",\"logo\":{\"@type\":\"ImageObject\",\"url\":\"https:\\/\\/t1.daumcdn.net\\/tistory_admin\\/static\\/images\\/openGraph\\/opengraph.png\",\"width\":\"800px\",\"height\":\"800px\"}}}</script><meta content=\"max-image-preview:large\" name=\"robots\"/>\n",
      "<!-- END STRUCTURED_DATA -->\n",
      "<meta charset=\"utf-8\"/>\n",
      "<meta content=\"user-scalable=no, initial-scale=1.0, maximum-scale=1.0, minimum-scale=1.0, width=device-width\" name=\"viewport\"/>\n",
      "<title>크롤링 예제 페이지 - 02</title>\n",
      "<link href=\"https://tistory2.daumcdn.net/tistory/0/pg_Poster/style.css\" rel=\"stylesheet\"/>\n",
      "<script src=\"//t1.daumcdn.net/tistory_admin/lib/jquery/jquery-1.12.4.min.js\"></script>\n",
      "<style type=\"text/css\">\n",
      "\t\t#daumSearchBox {\n",
      "\t\t\theight: 21px;\n",
      "\t\t\tbackground-image : url(//i1.daumcdn.net/imgsrc.search/search_all/show/tistory/plugin/bg_search2_2.gif);\n",
      "\t\t\tmargin: 5px auto ;\n",
      "\t\t\tpadding: 0;\n",
      "\t\t}\n",
      "\t\t#daumSearchBox input {\n",
      "\t\t\tbackground: none;\n",
      "\t\t\tmargin : 0;\n",
      "\t\t\tpadding : 0;\n",
      "\t\t\tborder : 0;\n",
      "\t\t}\n",
      "\t\t#daumSearchBox #daumLogo {\n",
      "\t\t\twidth: 34px;\n",
      "\t\t\theight: 21px;\n",
      "\t\t\tfloat: left;\n",
      "\t\t\tmargin-right: 5px;\n",
      "\t\t\tbackground-image : url(//i1.daumcdn.net/img-media/tistory/img/bg_search1_2_2010ci.gif);\n",
      "\t\t}\n",
      "\t\t#daumSearchBox #show_q {\n",
      "\t\t\tbackground-color: transparent;\n",
      "\t\t\tborder: none;\n",
      "\t\t\tfont: 12px Gulim, Sans-serif;\n",
      "\t\t\tcolor: #555;\n",
      "\t\t\tmargin-top: 4px;\n",
      "\t\t\tmargin-right: 15px;\n",
      "\t\t\tfloat: left;\n",
      "\t\t}\n",
      "\n",
      "\t\t#daumSearchBox #show_btn {\n",
      "\t\t\tbackground-image : url(//i1.daumcdn.net/imgsrc.search/search_all/show/tistory/plugin/bt_search_2.gif);\n",
      "\t\t\twidth: 37px;\n",
      "\t\t\theight: 21px;\n",
      "\t\t\tfloat: left;\n",
      "\t\t\tmargin:0;\n",
      "\t\t\tcursor:pointer;\n",
      "\t\t\ttext-indent:-1000em;\n",
      "\t\t}\n",
      "\t</style>\n",
      "<link href=\"https://t1.daumcdn.net/tistory_admin/assets/blog/tistory-aeb0c47c1569c26b1cf1f1a17b335722b1e6836f/blogs/plugins/TistoryProfileLayer/style.css?_version_=tistory-aeb0c47c1569c26b1cf1f1a17b335722b1e6836f\" rel=\"stylesheet\" type=\"text/css\">\n",
      "<script src=\"https://t1.daumcdn.net/tistory_admin/assets/blog/tistory-aeb0c47c1569c26b1cf1f1a17b335722b1e6836f/blogs/plugins/TistoryProfileLayer/profile.js?_version_=tistory-aeb0c47c1569c26b1cf1f1a17b335722b1e6836f\" type=\"text/javascript\"></script>\n",
      "<style type=\"text/css\">\n",
      "\t\t.another_category { border: 1px solid #E5E5E5; padding: 10px 10px 5px; margin:10px 0; clear: both; }\n",
      "\t\t.another_category h4 { font-size: 12px !important; margin: 0 !important; border-bottom: 1px solid #E5E5E5 !important; padding: 2px 0 6px !important; }\n",
      "\t\t.another_category h4 a { font-weight: bold !important; }\n",
      "\t\t.another_category table { table-layout: fixed; border-collapse: collapse; width: 100% !important; margin-top: 10px !important; }\n",
      "\t\t* html .another_category table { width: auto !important; }\n",
      "\t\t*:first-child+html .another_category table { width: auto !important; }\n",
      "\t\t.another_category th, .another_category td { padding: 0 0 4px !important; }\n",
      "\t\t.another_category th { text-align: left; font-size: 12px !important; font-weight: normal;  word-break: break-all; overflow: hidden; line-height: 1.5; }\n",
      "\t\t.another_category td { text-align: right; width: 80px; font-size: 11px; }\n",
      "\t\t.another_category th a { font-weight: normal; text-decoration: none; border: none !important; }\n",
      "\t\t.another_category th a.current{ font-weight: bold; text-decoration: none !important; border-bottom: 1px solid !important; }\n",
      "\t\t.another_category th span { font-weight: normal; text-decoration: none; font: 10px Tahoma, Sans-serif; border: none !important; }\n",
      "\n",
      "\t\t.another_category_color_gray, .another_category_color_gray h4 { border-color: #E5E5E5 !important; }\n",
      "\t\t.another_category_color_gray * { color: #909090 !important; }\n",
      "\t\t.another_category_color_gray th a.current{border-color:#909090 !important;}\n",
      "\t\t.another_category_color_gray h4, .another_category_color_gray h4 a { color: #737373 !important; }\n",
      "\n",
      "\n",
      "\t\t.another_category_color_red, .another_category_color_red h4 { border-color: #F6D4D3 !important;  }\n",
      "\t\t.another_category_color_red * { color: #E86869 !important; }\n",
      "\t\t.another_category_color_red th a.current{border-color:#E86869 !important;}\n",
      "\t\t.another_category_color_red h4, .another_category_color_red h4 a { color: #ED0908 !important; }\n",
      "\n",
      "\n",
      "\t\t.another_category_color_green, .another_category_color_green h4 { border-color: #CCE7C8 !important; }\n",
      "\t\t.another_category_color_green * { color: #64C05B !important; }\n",
      "\t\t.another_category_color_green th a.current{border-color:#64C05B !important;}\n",
      "\t\t.another_category_color_green h4, .another_category_color_green h4 a { color: #3EA731 !important; }\n",
      "\n",
      "\n",
      "\t\t.another_category_color_blue, .another_category_color_blue h4 { border-color: #C8DAF2 !important; }\n",
      "\t\t.another_category_color_blue * { color: #477FD6 !important; }\n",
      "\t\t.another_category_color_blue th a.current{border-color:#477FD6 !important;}\n",
      "\t\t.another_category_color_blue h4, .another_category_color_blue h4 a { color: #1960CA !important; }\n",
      "\n",
      "\n",
      "\t\t.another_category_color_violet, .another_category_color_violet h4 { border-color: #E1CEEC !important;  }\n",
      "\t\t.another_category_color_violet * { color:#9D64C5 !important; }\n",
      "\t\t.another_category_color_violet th a.current{border-color:#9D64C5 !important;}\n",
      "\t\t.another_category_color_violet h4, .another_category_color_violet h4 a { color: #7E2CB5 !important; }\n",
      "\t</style>\n",
      "<script type=\"text/javascript\">\n",
      "        \n",
      "        window.TistoryBlog = {\n",
      "            basePath: \"\",\n",
      "            url: \"https://ai-dev.tistory.com\",\n",
      "            tistoryUrl: \"https://ai-dev.tistory.com\",\n",
      "\t\t\tmanageUrl: 'https://ai-dev.tistory.com/manage',\n",
      "            token: 'pZHZxNPPDjVGNGS9TjkYTg=='\n",
      "        };\n",
      "        var servicePath = \"\";\n",
      "        var blogURL = \"\";\n",
      "    </script>\n",
      "<script> (function() { window.orgjQuery = window.jQuery; window.jQuery = tjQuery })()</script>\n",
      "<script defer=\"\" src=\"https://t1.daumcdn.net/tistory_admin/assets/blog/tistory-aeb0c47c1569c26b1cf1f1a17b335722b1e6836f/blogs/script/reaction/reaction-button-container.min.js?_version_=tistory-aeb0c47c1569c26b1cf1f1a17b335722b1e6836f\" type=\"text/javascript\"></script>\n",
      "<script> (function() { window.jQuery = window.orgjQuery; delete window.orgjQuery })()</script>\n",
      "<script src=\"https://t1.daumcdn.net/tistory_admin/assets/blog/tistory-aeb0c47c1569c26b1cf1f1a17b335722b1e6836f/blogs/script/_/base.js?_version_=tistory-aeb0c47c1569c26b1cf1f1a17b335722b1e6836f\" type=\"text/javascript\"></script>\n",
      "<link href=\"https://t1.daumcdn.net/tistory_admin/assets/blog/tistory-aeb0c47c1569c26b1cf1f1a17b335722b1e6836f/blogs/style/dialog.css?_version_=tistory-aeb0c47c1569c26b1cf1f1a17b335722b1e6836f\" rel=\"stylesheet\" type=\"text/css\">\n",
      "<link href=\"//t1.daumcdn.net/tistory_admin/www/style/top/font.css\" rel=\"stylesheet\" type=\"text/css\"/>\n",
      "<link href=\"https://t1.daumcdn.net/tistory_admin/assets/blog/tistory-aeb0c47c1569c26b1cf1f1a17b335722b1e6836f/blogs/style/postBtn.css?_version_=tistory-aeb0c47c1569c26b1cf1f1a17b335722b1e6836f\" rel=\"stylesheet\" type=\"text/css\">\n",
      "<link href=\"https://t1.daumcdn.net/tistory_admin/assets/blog/tistory-aeb0c47c1569c26b1cf1f1a17b335722b1e6836f/blogs/style/component/tistory.css?_version_=tistory-aeb0c47c1569c26b1cf1f1a17b335722b1e6836f\" rel=\"stylesheet\" type=\"text/css\">\n",
      "<script src=\"//developers.kakao.com/sdk/js/kakao.min.js\" type=\"text/javascript\"></script></link></link></link></link></meta></link></head>\n",
      "<body class=\"color-gray post-type-text paging-view-more\" id=\"tt-body-page\">\n",
      "<script type=\"text/javascript\">\n",
      "\t(function() {\n",
      "\t\tif (!window.T) {\n",
      "\t\t\twindow.T = {}\n",
      "\t\t}\n",
      "\t\twindow.T.config = {\"TOP_SSL_URL\":\"https:\\/\\/www.tistory.com\",\"PREVIEW\":false,\"ROLE\":\"guest\",\"PREV_PAGE\":\"\",\"NEXT_PAGE\":\"\\/1\",\"BLOG\":{\"isDormancy\":false,\"title\":\"\\uc778\\uacf5\\uc9c0\\ub2a5 \\uac1c\\ubc1c\\uc758 \\ubaa8\\ub4e0 \\uac83\"},\"NEED_COMMENT_LOGIN\":false,\"COMMENT_LOGIN_CONFIRM_MESSAGE\":\"\",\"LOGIN_URL\":\"https:\\/\\/www.tistory.com\\/auth\\/login\\/?redirectUrl=http%3A%2F%2Fai-dev.tistory.com%2F2\",\"DEFAULT_URL\":\"https:\\/\\/ai-dev.tistory.com\",\"USER\":{\"name\":null,\"homepage\":null},\"ROLE_GROUP\":\"visitor\",\"SUBSCRIPTION\":{\"status\":\"none\",\"isConnected\":false,\"isProcessing\":false,\"isPending\":false,\"isWait\":false,\"isNone\":true},\"IS_LOGIN\":false,\"HAS_BLOG\":false,\"TOP_URL\":\"https:\\/\\/www.tistory.com\",\"JOIN_URL\":\"https:\\/\\/www.tistory.com\\/member\\/join\"};\n",
      "\t\twindow.appInfo = {\"domain\":\"tistory.com\",\"topUrl\":\"https:\\/\\/www.tistory.com\",\"loginUrl\":\"https:\\/\\/www.tistory.com\\/auth\\/login\",\"logoutUrl\":\"https:\\/\\/www.tistory.com\\/auth\\/logout\"};\n",
      "\n",
      "        window.initData = {};\n",
      "        \n",
      "\t})();\n",
      "</script>\n",
      "<script src=\"https://t1.daumcdn.net/tistory_admin/assets/blog/tistory-aeb0c47c1569c26b1cf1f1a17b335722b1e6836f/blogs/script/blog/common.js?_version_=tistory-aeb0c47c1569c26b1cf1f1a17b335722b1e6836f\" type=\"text/javascript\"></script>\n",
      "<div style=\"margin:0; padding:0; border:none; background:none; float:none; clear:none; z-index:0\"></div>\n",
      "<div id=\"acc-nav\">\n",
      "<a href=\"#content\">본문 바로가기</a>\n",
      "</div>\n",
      "<div id=\"wrap\">\n",
      "<header id=\"header\">\n",
      "<h1><a href=\"/\">인공지능 개발의 모든 것</a></h1>\n",
      "<button class=\"mobile-menu\" type=\"button\"><span>메뉴</span></button>\n",
      "<div class=\"menu\">\n",
      "<nav id=\"gnb\">\n",
      "<ul class=\"tt_category\">\n",
      "<li class=\"\">\n",
      "<a class=\"link_tit\" href=\"/category\">\n",
      "\t\t\t분류 전체보기\t\t\t\t\t\t\t<span class=\"c_cnt\">(2)</span>\n",
      "</a>\n",
      "<ul class=\"category_list\">\n",
      "<li class=\"\">\n",
      "<a class=\"link_item\" href=\"/category/%ED%81%AC%EB%A1%A4%EB%A7%81\">\n",
      "\t\t\t\t\t\t크롤링\t\t\t\t\t\t\t\t\t\t\t\t\t<span class=\"c_cnt\">(2)</span>\n",
      "</a>\n",
      "</li>\n",
      "</ul>\n",
      "</li>\n",
      "</ul>\n",
      "</nav>\n",
      "<div class=\"social-link\">\n",
      "</div>\n",
      "<p>POWERED BY TISTORY</p>\n",
      "</div>\n",
      "<div class=\"search\">\n",
      "<input name=\"search\" onkeypress=\"if (event.keyCode == 13) { try{window.location.href='/search/'+looseURIEncode(document.getElementsByName('search')[0].value);document.getElementsByName('search')[0].value='';return false;}catch(e){} }\" placeholder=\"검색내용을 입력하세요.\" type=\"text\" value=\"\"/>\n",
      "<button onclick=\"try{window.location.href='/search/'+looseURIEncode(document.getElementsByName('search')[0].value);document.getElementsByName('search')[0].value='';return false;}catch(e){}\" type=\"submit\">검색</button>\n",
      "</div>\n",
      "</header>\n",
      "<hr/>\n",
      "<section class=\"container\">\n",
      "<article id=\"content\">\n",
      "<div class=\"inner\">\n",
      "<div class=\"hgroup\">\n",
      "<div class=\"category\">크롤링</div>\n",
      "<h1>크롤링 예제 페이지 - 02 </h1>\n",
      "<div class=\"post-meta\">\n",
      "<span class=\"author\">로스카츠</span>\n",
      "<span class=\"date\">2021. 8. 8. 00:12</span>\n",
      "</div>\n",
      "</div>\n",
      "<div class=\"entry-content\">\n",
      "<div class=\"tt_article_useless_p_margin contents_style\"><p data-ke-size=\"size16\">본 페이지는 크롤링을 테스트 하기 위한 페이지 입니다. </p>\n",
      "<p data-ke-size=\"size16\"> </p>\n",
      "<p data-ke-size=\"size16\"> </p>\n",
      "<p data-ke-size=\"size16\">다음 표에 속하는 텍스트를 크롤링 해봅시다.</p>\n",
      "<table border=\"1\" data-ke-align=\"alignLeft\" data-ke-style=\"style1\" style=\"border-collapse: collapse; width: 100%;\">\n",
      "<tbody>\n",
      "<tr>\n",
      "<td style=\"width: 33.3333%; text-align: center;\">상품</td>\n",
      "<td style=\"width: 33.3333%; text-align: center;\">색상</td>\n",
      "<td style=\"width: 33.3333%; text-align: center;\">가격</td>\n",
      "</tr>\n",
      "<tr>\n",
      "<td style=\"width: 33.3333%; text-align: center;\">셔츠1</td>\n",
      "<td style=\"width: 33.3333%; text-align: center;\">빨강</td>\n",
      "<td style=\"width: 33.3333%; text-align: center;\">20000</td>\n",
      "</tr>\n",
      "<tr>\n",
      "<td style=\"width: 33.3333%; text-align: center;\">셔츠2</td>\n",
      "<td style=\"width: 33.3333%; text-align: center;\">파랑</td>\n",
      "<td style=\"width: 33.3333%; text-align: center;\">19000</td>\n",
      "</tr>\n",
      "<tr>\n",
      "<td style=\"width: 33.3333%; text-align: center;\">셔츠3</td>\n",
      "<td style=\"width: 33.3333%; text-align: center;\">초록</td>\n",
      "<td style=\"width: 33.3333%; text-align: center;\">18000</td>\n",
      "</tr>\n",
      "<tr>\n",
      "<td style=\"width: 33.3333%; text-align: center;\">바지1</td>\n",
      "<td style=\"width: 33.3333%; text-align: center;\">검정</td>\n",
      "<td style=\"width: 33.3333%; text-align: center;\">50000</td>\n",
      "</tr>\n",
      "<tr>\n",
      "<td style=\"width: 33.3333%; text-align: center;\">바지2</td>\n",
      "<td style=\"width: 33.3333%; text-align: center;\">파랑</td>\n",
      "<td style=\"width: 33.3333%; text-align: center;\">51000</td>\n",
      "</tr>\n",
      "</tbody>\n",
      "</table>\n",
      "<p data-ke-size=\"size16\"> </p>\n",
      "<p data-ke-size=\"size16\">이번에는 리스트에 속하는 텍스트를 크롤링 해봅시다.</p>\n",
      "<p data-ke-size=\"size16\">다음은 컴퓨터 구성 요소를 나타내는 리스트 입니다.</p>\n",
      "<p data-ke-size=\"size16\"> </p>\n",
      "<ul data-ke-list-type=\"disc\" style=\"list-style-type: disc;\">\n",
      "<li>모니터</li>\n",
      "<li>CPU</li>\n",
      "<li>메모리</li>\n",
      "<li>그래픽카드</li>\n",
      "<li>하드디스크</li>\n",
      "<li>키보드</li>\n",
      "<li>마우스</li>\n",
      "</ul>\n",
      "<p data-ke-size=\"size16\"> </p>\n",
      "<p data-ke-size=\"size16\"> </p>\n",
      "<p data-ke-size=\"size16\"> </p><div class=\"container_postbtn #post_button_group\">\n",
      "<div class=\"postbtn_like\">\n",
      "<script>\n",
      "    window.ReactionButtonType = 'reaction';\n",
      "    window.ReactionApiUrl = '//ai-dev.tistory.com/reaction';\n",
      "    window.ReactionReqBody = {\n",
      "        entryId: 2    }\n",
      "</script>\n",
      "<div class=\"wrap_btn\" id=\"reaction-2\"></div>\n",
      "<script src=\"https://t1.daumcdn.net/tistory_admin/assets/blog/tistory-aeb0c47c1569c26b1cf1f1a17b335722b1e6836f/blogs/script/reaction/reaction-button-container.min.js?_version_=tistory-aeb0c47c1569c26b1cf1f1a17b335722b1e6836f\"></script>\n",
      "<div class=\"wrap_btn wrap_btn_share\">\n",
      "<button class=\"btn_post sns_btn btn_share\" data-blog-title=\"인공지능 개발의 모든 것\" data-description=\"본 페이지는 크롤링을 테스트 하기 위한 페이지 입니다. 다음 표에 속하는 텍스트를 크롤링 해봅시다. 상품 색상 가격 셔츠1 빨강 20000 셔츠2 파랑 19000 셔츠3 초록 18000 바지1 검정 50000 바지2 파랑 51000 이..\" data-pc-url=\"https://ai-dev.tistory.com/2\" data-profile-image=\"https://t1.daumcdn.net/tistory_admin/static/manage/images/r3/default_L.png\" data-profile-name=\"로스카츠\" data-relative-pc-url=\"/2\" data-thumbnail-url=\"https://t1.daumcdn.net/tistory_admin/static/images/openGraph/opengraph.png\" data-title=\"크롤링 예제 페이지 - 02\" type=\"button\">\n",
      "<span class=\"ico_postbtn ico_share\">공유하기</span>\n",
      "</button>\n",
      "</div>\n",
      "<div class=\"wrap_btn wrap_btn_etc\" data-category-visibility=\"public\" data-entry-id=\"2\" data-entry-visibility=\"public\">\n",
      "<button class=\"btn_post btn_etc2\" type=\"button\"><span class=\"ico_postbtn ico_etc\">글 요소</span></button>\n",
      "</div>\n",
      "</div>\n",
      "<button class=\"btn_menu_toolbar btn_subscription #subscribe\" data-blog-id=\"4442027\" data-device=\"web_pc\" data-url=\"https://ai-dev.tistory.com/2\" type=\"button\">\n",
      "<em class=\"txt_state\">구독하기</em>\n",
      "<strong class=\"txt_tool_id\">인공지능 개발의 모든 것</strong>\n",
      "<span class=\"img_common_tistory ico_check_type1\"></span>\n",
      "</button>\n",
      "<div class=\"postbtn_ccl\" data-ccl-type=\"\">\n",
      "<a class=\"link_ccl\" href=\"https://creativecommons.org/licenses//4.0/deed.ko\" rel=\"license\" target=\"_blank\">\n",
      "<span class=\"bundle_ccl\">\n",
      "</span>\n",
      "</a>\n",
      "</div>\n",
      "<!--\n",
      "<rdf:RDF xmlns=\"http://web.resource.org/cc/\" xmlns:dc=\"http://purl.org/dc/elements/1.1/\" xmlns:rdf=\"http://www.w3.org/1999/02/22-rdf-syntax-ns#\">\n",
      "    <Work rdf:about=\"\">\n",
      "        <license rdf:resource=\"http://creativecommons.org/licenses/by-/2.0/kr/\" />\n",
      "    </Work>\n",
      "    <License rdf:about=\"http://creativecommons.org/licenses/by-/\">\n",
      "        <permits rdf:resource=\"http://web.resource.org/cc/Reproduction\"/>\n",
      "        <permits rdf:resource=\"http://web.resource.org/cc/Distribution\"/>\n",
      "        <requires rdf:resource=\"http://web.resource.org/cc/Notice\"/>\n",
      "        <requires rdf:resource=\"http://web.resource.org/cc/Attribution\"/>\n",
      "                    </License>\n",
      "</rdf:RDF>\n",
      "-->\n",
      "</div><div class=\"another_category another_category_color_gray\">\n",
      "<h4>'<a href=\"/category/크롤링\">크롤링</a>' 카테고리의 다른 글</h4>\n",
      "<table>\n",
      "<tr>\n",
      "<th>\n",
      "<a class=\"current\" href=\"/2?category=836119\">크롤링 예제 페이지 - 02</a>  <span>(0)</span>\n",
      "</th>\n",
      "<td>\r\n",
      "2021.08.08</td>\n",
      "</tr>\n",
      "<tr>\n",
      "<th>\n",
      "<a href=\"/1?category=836119\">크롤링의 세계에 오신 것을 환영합니다.</a>  <span>(0)</span>\n",
      "</th>\n",
      "<td>\r\n",
      "2021.01.21</td>\n",
      "</tr>\n",
      "</table></div></div>\n",
      "</div>\n",
      "<div class=\"related-articles\">\n",
      "<h2><strong>'크롤링'</strong> Related Articles</h2>\n",
      "<ul>\n",
      "<li>\n",
      "<a href=\"/1?category=836119\">\n",
      "<span class=\"thum\">\n",
      "</span>\n",
      "<span class=\"title\">크롤링의 세계에 오신 것을 환영합니다.</span>\n",
      "</a>\n",
      "</li>\n",
      "</ul>\n",
      "</div>\n",
      "<div id=\"entry2Comment\">\n",
      "<div class=\"comments\">\n",
      "<form action=\"/comment/add/2\" method=\"post\" onsubmit=\"return false\" style=\"margin: 0\">\n",
      "<div class=\"comment-form\">\n",
      "<div class=\"field\">\n",
      "<input name=\"name\" placeholder=\"이름\" type=\"text\" value=\"\"/>\n",
      "<input name=\"password\" placeholder=\"암호\" type=\"password\" value=\"\"/>\n",
      "<div class=\"secret\">\n",
      "<input id=\"secret\" name=\"secret\" type=\"checkbox\"/>\n",
      "<label for=\"secret\" tabindex=\"0\">Secret</label>\n",
      "</div>\n",
      "</div>\n",
      "<textarea cols=\"\" name=\"comment\" placeholder=\"여러분의 소중한 댓글을 입력해주세요.\" rows=\"4\"></textarea>\n",
      "<div class=\"submit\">\n",
      "<button class=\"btn\" onclick=\"addComment(this, 2); return false;\" type=\"submit\">댓글달기</button>\n",
      "</div>\n",
      "</div>\n",
      "</form>\n",
      "</div>\n",
      "</div><script type=\"text/javascript\">loadedComments[2]=true;findFragmentAndHighlight(2)</script>\n",
      "</div>\n",
      "<div class=\"pagination\">\n",
      "<a class=\"prev no-more-prev\">이전</a>\n",
      "<a><span class=\"selected\">1</span></a>\n",
      "<a href=\"/1\"><span>2</span></a>\n",
      "<a class=\"next\" href=\"/1\">다음</a>\n",
      "</div>\n",
      "</article>\n",
      "</section>\n",
      "<hr/>\n",
      "<footer id=\"footer\">\n",
      "<p class=\"copyright\">DESIGN BY <a href=\"#\">TISTORY</a> <a class=\"admin\" href=\"https://ai-dev.tistory.com/manage\">관리자</a></p>\n",
      "</footer>\n",
      "</div>\n",
      "<script src=\"https://tistory2.daumcdn.net/tistory/0/pg_Poster/images/script.js\"></script>\n",
      "<script src=\"//search1.daumcdn.net/search/statics/common/js/g/search_dragselection.min.js\"></script>\n",
      "<script>\n",
      "\t    lightbox.option({\n",
      "\t\t\t\"fadeDuration\": 200,\n",
      "\t\t    \"resizeDuration\": 200,\n",
      "\t\t    \"wrapAround\": false,\n",
      "\t\t\t\"albumLabel\": \"%1 / %2\",\n",
      "\t\t\t\"fitImagesInViewport\":true ,\n",
      "\t\t\t\"stopEvent\": false\n",
      "\t    })\n",
      "\t</script> <script src=\"//t1.daumcdn.net/tiara/js/v1/tiara.min.js\" type=\"text/javascript\"></script>\n",
      "<script type=\"text/javascript\">window.tiara = {\"svcDomain\":\"user.tistory.com\",\"section\":\"\\uae00\\ubdf0\",\"trackPage\":\"\\uae00\\ubdf0_\\ubcf4\\uae30\",\"page\":\"\\uae00\\ubdf0\",\"key\":\"4442027-2\",\"customProps\":{\"userId\":0,\"blogId\":\"4442027\",\"role\":\"guest\",\"filterTarget\":false,\"trackPage\":\"\\uae00\\ubdf0_\\ubcf4\\uae30\",\"entryId\":\"2\"},\"entry\":{\"entryId\":\"2\",\"categoryName\":\"\\ud06c\\ub864\\ub9c1\",\"categoryId\":\"836119\",\"author\":\"4727327\",\"authorId\":\"4727327\",\"image\":\"4727327\",\"plink\":\"\\/2\",\"tags\":[],\"key\":\"4442027-2\"},\"sentryDsn\":\"https:\\/\\/a53520229cd744e798d42900d76b0e2a@aem-collector.daumkakao.io\\/713\",\"kakaoAppKey\":\"b8aef3eeb03fa312b81795386484f051\",\"appUserId\":null};</script>\n",
      "<script defer=\"\" src=\"https://t1.daumcdn.net/tistory_admin/assets/blog/tistory-aeb0c47c1569c26b1cf1f1a17b335722b1e6836f/blogs/script/tiara/tiara.min.js?_version_=tistory-aeb0c47c1569c26b1cf1f1a17b335722b1e6836f\" type=\"text/javascript\"></script>\n",
      "<script type=\"text/javascript\">\n",
      "                window.roosevelt_params_queue = window.roosevelt_params_queue || [{channel_id: 'dk', channel_label: 'tistory'}];\n",
      "            </script>\n",
      "<script async=\"\" src=\"//t1.daumcdn.net/midas/rt/dk_bt/roosevelt_dk_bt.js\" type=\"text/javascript\"></script><script type=\"text/javascript\">if(window.console!=undefined){setTimeout(console.log.bind(console,\"%cTISTORY\",\"font:8em Arial;color:#EC6521;font-weight:bold\"),0);setTimeout(console.log.bind(console,\"%c  나를 표현하는 블로그\",\"font:2em sans-serif;color:#333;\"),0);}</script><iframe id=\"editEntry\" src=\"//ai-dev.tistory.com/api\" style=\"position:absolute;width:1px;height:1px;left:-100px;top:-100px\"></iframe><div class=\"layer_post\" id=\"tistoryEtcLayer\"></div><div class=\"layer_post\" id=\"tistorySnsLayer\"></div></body>\n",
      "</html>\n",
      "\n"
     ]
    }
   ],
   "source": [
    "from bs4 import BeautifulSoup\n",
    "from urllib.request import urlopen\n",
    "\n",
    "url = \"https://ai-dev.tistory.com/2\"\n",
    "html = urlopen(url)\n",
    "bs_obj = BeautifulSoup(html, \"html.parser\")\n",
    "print(bs_obj)"
   ]
  },
  {
   "cell_type": "markdown",
   "id": "30209b02",
   "metadata": {},
   "source": [
    "**방법1**\n",
    "\n",
    "table 태그 이용"
   ]
  },
  {
   "cell_type": "code",
   "execution_count": 24,
   "id": "eec4d533",
   "metadata": {},
   "outputs": [
    {
     "name": "stdout",
     "output_type": "stream",
     "text": [
      "[<table border=\"1\" data-ke-align=\"alignLeft\" data-ke-style=\"style1\" style=\"border-collapse: collapse; width: 100%;\">\n",
      "<tbody>\n",
      "<tr>\n",
      "<td style=\"width: 33.3333%; text-align: center;\">상품</td>\n",
      "<td style=\"width: 33.3333%; text-align: center;\">색상</td>\n",
      "<td style=\"width: 33.3333%; text-align: center;\">가격</td>\n",
      "</tr>\n",
      "<tr>\n",
      "<td style=\"width: 33.3333%; text-align: center;\">셔츠1</td>\n",
      "<td style=\"width: 33.3333%; text-align: center;\">빨강</td>\n",
      "<td style=\"width: 33.3333%; text-align: center;\">20000</td>\n",
      "</tr>\n",
      "<tr>\n",
      "<td style=\"width: 33.3333%; text-align: center;\">셔츠2</td>\n",
      "<td style=\"width: 33.3333%; text-align: center;\">파랑</td>\n",
      "<td style=\"width: 33.3333%; text-align: center;\">19000</td>\n",
      "</tr>\n",
      "<tr>\n",
      "<td style=\"width: 33.3333%; text-align: center;\">셔츠3</td>\n",
      "<td style=\"width: 33.3333%; text-align: center;\">초록</td>\n",
      "<td style=\"width: 33.3333%; text-align: center;\">18000</td>\n",
      "</tr>\n",
      "<tr>\n",
      "<td style=\"width: 33.3333%; text-align: center;\">바지1</td>\n",
      "<td style=\"width: 33.3333%; text-align: center;\">검정</td>\n",
      "<td style=\"width: 33.3333%; text-align: center;\">50000</td>\n",
      "</tr>\n",
      "<tr>\n",
      "<td style=\"width: 33.3333%; text-align: center;\">바지2</td>\n",
      "<td style=\"width: 33.3333%; text-align: center;\">파랑</td>\n",
      "<td style=\"width: 33.3333%; text-align: center;\">51000</td>\n",
      "</tr>\n",
      "</tbody>\n",
      "</table>, <table>\n",
      "<tr>\n",
      "<th>\n",
      "<a class=\"current\" href=\"/2?category=836119\">크롤링 예제 페이지 - 02</a>  <span>(0)</span>\n",
      "</th>\n",
      "<td>\r\n",
      "2021.08.08</td>\n",
      "</tr>\n",
      "<tr>\n",
      "<th>\n",
      "<a href=\"/1?category=836119\">크롤링의 세계에 오신 것을 환영합니다.</a>  <span>(0)</span>\n",
      "</th>\n",
      "<td>\r\n",
      "2021.01.21</td>\n",
      "</tr>\n",
      "</table>]\n"
     ]
    }
   ],
   "source": [
    "table_tag = bs_obj.find_all(\"table\")\n",
    "print(table_tag)"
   ]
  },
  {
   "cell_type": "code",
   "execution_count": 25,
   "id": "6fc5354f",
   "metadata": {},
   "outputs": [
    {
     "data": {
      "text/plain": [
       "<table border=\"1\" data-ke-align=\"alignLeft\" data-ke-style=\"style1\" style=\"border-collapse: collapse; width: 100%;\">\n",
       "<tbody>\n",
       "<tr>\n",
       "<td style=\"width: 33.3333%; text-align: center;\">상품</td>\n",
       "<td style=\"width: 33.3333%; text-align: center;\">색상</td>\n",
       "<td style=\"width: 33.3333%; text-align: center;\">가격</td>\n",
       "</tr>\n",
       "<tr>\n",
       "<td style=\"width: 33.3333%; text-align: center;\">셔츠1</td>\n",
       "<td style=\"width: 33.3333%; text-align: center;\">빨강</td>\n",
       "<td style=\"width: 33.3333%; text-align: center;\">20000</td>\n",
       "</tr>\n",
       "<tr>\n",
       "<td style=\"width: 33.3333%; text-align: center;\">셔츠2</td>\n",
       "<td style=\"width: 33.3333%; text-align: center;\">파랑</td>\n",
       "<td style=\"width: 33.3333%; text-align: center;\">19000</td>\n",
       "</tr>\n",
       "<tr>\n",
       "<td style=\"width: 33.3333%; text-align: center;\">셔츠3</td>\n",
       "<td style=\"width: 33.3333%; text-align: center;\">초록</td>\n",
       "<td style=\"width: 33.3333%; text-align: center;\">18000</td>\n",
       "</tr>\n",
       "<tr>\n",
       "<td style=\"width: 33.3333%; text-align: center;\">바지1</td>\n",
       "<td style=\"width: 33.3333%; text-align: center;\">검정</td>\n",
       "<td style=\"width: 33.3333%; text-align: center;\">50000</td>\n",
       "</tr>\n",
       "<tr>\n",
       "<td style=\"width: 33.3333%; text-align: center;\">바지2</td>\n",
       "<td style=\"width: 33.3333%; text-align: center;\">파랑</td>\n",
       "<td style=\"width: 33.3333%; text-align: center;\">51000</td>\n",
       "</tr>\n",
       "</tbody>\n",
       "</table>"
      ]
     },
     "execution_count": 25,
     "metadata": {},
     "output_type": "execute_result"
    }
   ],
   "source": [
    "table_tag[0]"
   ]
  },
  {
   "cell_type": "code",
   "execution_count": 26,
   "id": "1db2a260",
   "metadata": {},
   "outputs": [
    {
     "name": "stdout",
     "output_type": "stream",
     "text": [
      "[<td style=\"width: 33.3333%; text-align: center;\">상품</td>, <td style=\"width: 33.3333%; text-align: center;\">색상</td>, <td style=\"width: 33.3333%; text-align: center;\">가격</td>, <td style=\"width: 33.3333%; text-align: center;\">셔츠1</td>, <td style=\"width: 33.3333%; text-align: center;\">빨강</td>, <td style=\"width: 33.3333%; text-align: center;\">20000</td>, <td style=\"width: 33.3333%; text-align: center;\">셔츠2</td>, <td style=\"width: 33.3333%; text-align: center;\">파랑</td>, <td style=\"width: 33.3333%; text-align: center;\">19000</td>, <td style=\"width: 33.3333%; text-align: center;\">셔츠3</td>, <td style=\"width: 33.3333%; text-align: center;\">초록</td>, <td style=\"width: 33.3333%; text-align: center;\">18000</td>, <td style=\"width: 33.3333%; text-align: center;\">바지1</td>, <td style=\"width: 33.3333%; text-align: center;\">검정</td>, <td style=\"width: 33.3333%; text-align: center;\">50000</td>, <td style=\"width: 33.3333%; text-align: center;\">바지2</td>, <td style=\"width: 33.3333%; text-align: center;\">파랑</td>, <td style=\"width: 33.3333%; text-align: center;\">51000</td>]\n"
     ]
    }
   ],
   "source": [
    "table_tag01 = table_tag[0].find_all(\"td\")\n",
    "print(table_tag01)"
   ]
  },
  {
   "cell_type": "code",
   "execution_count": 27,
   "id": "ffc77783",
   "metadata": {},
   "outputs": [
    {
     "name": "stdout",
     "output_type": "stream",
     "text": [
      "0 상품\n",
      "1 색상\n",
      "2 가격\n",
      "3 셔츠1\n",
      "4 빨강\n",
      "5 20000\n",
      "6 셔츠2\n",
      "7 파랑\n",
      "8 19000\n",
      "9 셔츠3\n",
      "10 초록\n",
      "11 18000\n",
      "12 바지1\n",
      "13 검정\n",
      "14 50000\n",
      "15 바지2\n",
      "16 파랑\n",
      "17 51000\n"
     ]
    }
   ],
   "source": [
    "for idx, element in enumerate(table_tag01):\n",
    "    print(idx, element.text)"
   ]
  },
  {
   "cell_type": "markdown",
   "id": "8721c532",
   "metadata": {},
   "source": [
    "**방법2**\n",
    "\n",
    "td 태그 이용"
   ]
  },
  {
   "cell_type": "code",
   "execution_count": 28,
   "id": "4f5e9b32",
   "metadata": {},
   "outputs": [
    {
     "name": "stdout",
     "output_type": "stream",
     "text": [
      "[<td style=\"width: 33.3333%; text-align: center;\">상품</td>, <td style=\"width: 33.3333%; text-align: center;\">색상</td>, <td style=\"width: 33.3333%; text-align: center;\">가격</td>, <td style=\"width: 33.3333%; text-align: center;\">셔츠1</td>, <td style=\"width: 33.3333%; text-align: center;\">빨강</td>, <td style=\"width: 33.3333%; text-align: center;\">20000</td>, <td style=\"width: 33.3333%; text-align: center;\">셔츠2</td>, <td style=\"width: 33.3333%; text-align: center;\">파랑</td>, <td style=\"width: 33.3333%; text-align: center;\">19000</td>, <td style=\"width: 33.3333%; text-align: center;\">셔츠3</td>, <td style=\"width: 33.3333%; text-align: center;\">초록</td>, <td style=\"width: 33.3333%; text-align: center;\">18000</td>, <td style=\"width: 33.3333%; text-align: center;\">바지1</td>, <td style=\"width: 33.3333%; text-align: center;\">검정</td>, <td style=\"width: 33.3333%; text-align: center;\">50000</td>, <td style=\"width: 33.3333%; text-align: center;\">바지2</td>, <td style=\"width: 33.3333%; text-align: center;\">파랑</td>, <td style=\"width: 33.3333%; text-align: center;\">51000</td>, <td>\r\n",
      "2021.08.08</td>, <td>\r\n",
      "2021.01.21</td>]\n"
     ]
    }
   ],
   "source": [
    "table01 = bs_obj.find_all(\"td\")\n",
    "print(table01)"
   ]
  },
  {
   "cell_type": "code",
   "execution_count": 29,
   "id": "c9b2d3e2",
   "metadata": {},
   "outputs": [
    {
     "name": "stdout",
     "output_type": "stream",
     "text": [
      "[<td style=\"width: 33.3333%; text-align: center;\">상품</td>, <td style=\"width: 33.3333%; text-align: center;\">색상</td>, <td style=\"width: 33.3333%; text-align: center;\">가격</td>, <td style=\"width: 33.3333%; text-align: center;\">셔츠1</td>, <td style=\"width: 33.3333%; text-align: center;\">빨강</td>, <td style=\"width: 33.3333%; text-align: center;\">20000</td>, <td style=\"width: 33.3333%; text-align: center;\">셔츠2</td>, <td style=\"width: 33.3333%; text-align: center;\">파랑</td>, <td style=\"width: 33.3333%; text-align: center;\">19000</td>, <td style=\"width: 33.3333%; text-align: center;\">셔츠3</td>, <td style=\"width: 33.3333%; text-align: center;\">초록</td>, <td style=\"width: 33.3333%; text-align: center;\">18000</td>, <td style=\"width: 33.3333%; text-align: center;\">바지1</td>, <td style=\"width: 33.3333%; text-align: center;\">검정</td>, <td style=\"width: 33.3333%; text-align: center;\">50000</td>, <td style=\"width: 33.3333%; text-align: center;\">바지2</td>, <td style=\"width: 33.3333%; text-align: center;\">파랑</td>, <td style=\"width: 33.3333%; text-align: center;\">51000</td>]\n"
     ]
    }
   ],
   "source": [
    "# 더 detail한 속성으로 찾기\n",
    "\n",
    "table = bs_obj.find_all(\"td\", {\"style\" : \"width: 33.3333%; text-align: center;\"})\n",
    "print(table)"
   ]
  },
  {
   "cell_type": "code",
   "execution_count": 30,
   "id": "58932e53",
   "metadata": {},
   "outputs": [
    {
     "name": "stdout",
     "output_type": "stream",
     "text": [
      "0 상품\n",
      "1 색상\n",
      "2 가격\n",
      "3 셔츠1\n",
      "4 빨강\n",
      "5 20000\n",
      "6 셔츠2\n",
      "7 파랑\n",
      "8 19000\n",
      "9 셔츠3\n",
      "10 초록\n",
      "11 18000\n",
      "12 바지1\n",
      "13 검정\n",
      "14 50000\n",
      "15 바지2\n",
      "16 파랑\n",
      "17 51000\n"
     ]
    }
   ],
   "source": [
    "for idx, element in enumerate(table):\n",
    "    print(idx, element.text)"
   ]
  },
  {
   "cell_type": "markdown",
   "id": "b27f06b4",
   "metadata": {},
   "source": [
    "###목록 정보 크롤링"
   ]
  },
  {
   "cell_type": "code",
   "execution_count": 31,
   "id": "8b464fa3",
   "metadata": {},
   "outputs": [
    {
     "name": "stdout",
     "output_type": "stream",
     "text": [
      "[<li class=\"\">\n",
      "<a class=\"link_tit\" href=\"/category\">\n",
      "\t\t\t분류 전체보기\t\t\t\t\t\t\t<span class=\"c_cnt\">(2)</span>\n",
      "</a>\n",
      "<ul class=\"category_list\">\n",
      "<li class=\"\">\n",
      "<a class=\"link_item\" href=\"/category/%ED%81%AC%EB%A1%A4%EB%A7%81\">\n",
      "\t\t\t\t\t\t크롤링\t\t\t\t\t\t\t\t\t\t\t\t\t<span class=\"c_cnt\">(2)</span>\n",
      "</a>\n",
      "</li>\n",
      "</ul>\n",
      "</li>, <li class=\"\">\n",
      "<a class=\"link_item\" href=\"/category/%ED%81%AC%EB%A1%A4%EB%A7%81\">\n",
      "\t\t\t\t\t\t크롤링\t\t\t\t\t\t\t\t\t\t\t\t\t<span class=\"c_cnt\">(2)</span>\n",
      "</a>\n",
      "</li>, <li>모니터</li>, <li>CPU</li>, <li>메모리</li>, <li>그래픽카드</li>, <li>하드디스크</li>, <li>키보드</li>, <li>마우스</li>, <li>\n",
      "<a href=\"/1?category=836119\">\n",
      "<span class=\"thum\">\n",
      "</span>\n",
      "<span class=\"title\">크롤링의 세계에 오신 것을 환영합니다.</span>\n",
      "</a>\n",
      "</li>]\n"
     ]
    }
   ],
   "source": [
    "com_list = bs_obj.find_all(\"li\")\n",
    "print(com_list)"
   ]
  },
  {
   "cell_type": "code",
   "execution_count": 32,
   "id": "840ebd76",
   "metadata": {},
   "outputs": [
    {
     "name": "stdout",
     "output_type": "stream",
     "text": [
      "[<ul data-ke-list-type=\"disc\" style=\"list-style-type: disc;\">\n",
      "<li>모니터</li>\n",
      "<li>CPU</li>\n",
      "<li>메모리</li>\n",
      "<li>그래픽카드</li>\n",
      "<li>하드디스크</li>\n",
      "<li>키보드</li>\n",
      "<li>마우스</li>\n",
      "</ul>]\n"
     ]
    }
   ],
   "source": [
    "com_list1 = bs_obj.find_all(\"ul\", {\"style\" : \"list-style-type: disc;\"})\n",
    "print(com_list1)"
   ]
  },
  {
   "cell_type": "code",
   "execution_count": 34,
   "id": "f11a9143",
   "metadata": {},
   "outputs": [],
   "source": [
    "com_list02 = com_list1[0].find_all(\"li\")"
   ]
  },
  {
   "cell_type": "code",
   "execution_count": 35,
   "id": "ee815e96",
   "metadata": {},
   "outputs": [
    {
     "name": "stdout",
     "output_type": "stream",
     "text": [
      "[<li>모니터</li>, <li>CPU</li>, <li>메모리</li>, <li>그래픽카드</li>, <li>하드디스크</li>, <li>키보드</li>, <li>마우스</li>]\n"
     ]
    }
   ],
   "source": [
    "print(com_list02)"
   ]
  },
  {
   "cell_type": "code",
   "execution_count": 36,
   "id": "fa322481",
   "metadata": {},
   "outputs": [
    {
     "name": "stdout",
     "output_type": "stream",
     "text": [
      "0 모니터\n",
      "1 CPU\n",
      "2 메모리\n",
      "3 그래픽카드\n",
      "4 하드디스크\n",
      "5 키보드\n",
      "6 마우스\n"
     ]
    }
   ],
   "source": [
    "for idx, element in enumerate(com_list02):\n",
    "    print(idx, element.text)"
   ]
  },
  {
   "cell_type": "markdown",
   "id": "bd044b4f",
   "metadata": {},
   "source": [
    "#웹 크롤링 허용 문제"
   ]
  },
  {
   "cell_type": "markdown",
   "id": "2a9c2430",
   "metadata": {},
   "source": [
    "- url 사이트 끝에 robots.txt를 붙히면 크롤링 권한에 관한 내용 확인 가능\n",
    "- Allow / Disallow\n",
    "- 확인 필수!!"
   ]
  }
 ],
 "metadata": {
  "kernelspec": {
   "display_name": "web_crawling",
   "language": "python",
   "name": "py3_8_5"
  },
  "language_info": {
   "codemirror_mode": {
    "name": "ipython",
    "version": 3
   },
   "file_extension": ".py",
   "mimetype": "text/x-python",
   "name": "python",
   "nbconvert_exporter": "python",
   "pygments_lexer": "ipython3",
   "version": "3.8.5"
  }
 },
 "nbformat": 4,
 "nbformat_minor": 5
}
