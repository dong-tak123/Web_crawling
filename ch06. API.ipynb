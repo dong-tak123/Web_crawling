{
 "cells": [
  {
   "cell_type": "markdown",
   "id": "3d3edce2",
   "metadata": {},
   "source": [
    "#오픈 API로 부동산 데이터 크롤링하기"
   ]
  },
  {
   "cell_type": "markdown",
   "id": "965b43d9",
   "metadata": {},
   "source": [
    "**과정**\n",
    "\n",
    "1. API 제공하는 웹 사이트에 접속\n",
    "2. 회원 가입 후 API 사용 권한 신청\n",
    "3. 승인되면 API를 이용해서 파이썬으로 부동산 데이터 요청 및 확인"
   ]
  },
  {
   "cell_type": "markdown",
   "id": "34a12014",
   "metadata": {},
   "source": [
    "**API란?**\n",
    "\n",
    "- 식당으로 비유\n",
    "- 사용자(손님) , API(종업원), 서버(주방장)\n",
    "- API를 통해서 데이터를 전달 받음"
   ]
  },
  {
   "cell_type": "markdown",
   "id": "80dcbed3",
   "metadata": {},
   "source": [
    "##API 사용하기"
   ]
  },
  {
   "cell_type": "code",
   "execution_count": 1,
   "id": "982e31db",
   "metadata": {},
   "outputs": [],
   "source": [
    "from bs4 import BeautifulSoup\n",
    "from urllib.request import urlopen\n",
    "\n",
    "# endpoint는 사용자가 최종적으로 도달한 웹의 경로\n",
    "endpoint = \"http://openapi.reb.or.kr/OpenAPI_ToolInstallPackage/service/rest/RealEstateTradingSvc/getRealEstateTradingCount\"\n",
    "\n",
    "# 인증키 변수\n",
    "serviceKey = \"zmekiZmDRmDEuqY1Q3HE%2B4csRhVzKSY7v9YTtoNvYIUND4d2LF84OaIhRLvCSWXqu3trUsgTP95BkgGX8wz2fg%3D%3D\"\n",
    "\n",
    "# API 요청변수\n",
    "startmonth = \"201301\"\n",
    "endmonth = \"201312\"\n",
    "region = \"11000\"\n",
    "tradingtype = \"01\""
   ]
  },
  {
   "cell_type": "code",
   "execution_count": 8,
   "id": "936ed947",
   "metadata": {},
   "outputs": [],
   "source": [
    "url = endpoint + \"?\" + \"serviceKey=\" + serviceKey + \"&\" + \"startmonth=\" + startmonth + \"&\" + \"endmonth=\" + endmonth + \"&\" + \"region=\" + region + \"&\" + \"tradingtype=\" + tradingtype "
   ]
  },
  {
   "cell_type": "code",
   "execution_count": 9,
   "id": "c37ea123",
   "metadata": {},
   "outputs": [
    {
     "name": "stdout",
     "output_type": "stream",
     "text": [
      "http://openapi.reb.or.kr/OpenAPI_ToolInstallPackage/service/rest/RealEstateTradingSvc/getRealEstateTradingCount?serviceKey=zmekiZmDRmDEuqY1Q3HE%2B4csRhVzKSY7v9YTtoNvYIUND4d2LF84OaIhRLvCSWXqu3trUsgTP95BkgGX8wz2fg%3D%3D&startmonth=201301&endmonth=201312&region=11000&tradingtype=01\n"
     ]
    }
   ],
   "source": [
    "print(url)"
   ]
  },
  {
   "cell_type": "code",
   "execution_count": 10,
   "id": "a242ecec",
   "metadata": {},
   "outputs": [],
   "source": [
    "html = urlopen(url)\n",
    "bs_obj = BeautifulSoup(html, \"html.parser\")"
   ]
  },
  {
   "cell_type": "code",
   "execution_count": 11,
   "id": "faa84797",
   "metadata": {},
   "outputs": [
    {
     "name": "stdout",
     "output_type": "stream",
     "text": [
      "<?xml version=\"1.0\" encoding=\"UTF-8\" standalone=\"yes\"?><response><header><resultcode>99</resultcode><resultmsg>SERVICE KEY IS NOT REGISTERED ERROR.</resultmsg></header></response>\n"
     ]
    }
   ],
   "source": [
    "print(bs_obj)"
   ]
  }
 ],
 "metadata": {
  "kernelspec": {
   "display_name": "web_crawling",
   "language": "python",
   "name": "py3_8_5"
  },
  "language_info": {
   "codemirror_mode": {
    "name": "ipython",
    "version": 3
   },
   "file_extension": ".py",
   "mimetype": "text/x-python",
   "name": "python",
   "nbconvert_exporter": "python",
   "pygments_lexer": "ipython3",
   "version": "3.8.5"
  }
 },
 "nbformat": 4,
 "nbformat_minor": 5
}
