{
 "cells": [
  {
   "cell_type": "markdown",
   "id": "3d3edce2",
   "metadata": {},
   "source": [
    "#오픈 API로 부동산 데이터 크롤링하기"
   ]
  },
  {
   "cell_type": "markdown",
   "id": "965b43d9",
   "metadata": {},
   "source": [
    "**과정**\n",
    "\n",
    "1. API 제공하는 웹 사이트에 접속\n",
    "2. 회원 가입 후 API 사용 권한 신청\n",
    "3. 승인되면 API를 이용해서 파이썬으로 부동산 데이터 요청 및 확인"
   ]
  },
  {
   "cell_type": "markdown",
   "id": "34a12014",
   "metadata": {},
   "source": [
    "**API란?**\n",
    "\n",
    "- 식당으로 비유\n",
    "- 사용자(손님) , API(종업원), 서버(주방장)\n",
    "- API를 통해서 데이터를 전달 받음"
   ]
  },
  {
   "cell_type": "markdown",
   "id": "80dcbed3",
   "metadata": {},
   "source": [
    "##API 사용하기"
   ]
  },
  {
   "cell_type": "code",
   "execution_count": 2,
   "id": "982e31db",
   "metadata": {},
   "outputs": [],
   "source": [
    "from bs4 import BeautifulSoup\n",
    "from urllib.request import urlopen\n",
    "\n",
    "# endpoint는 사용자가 최종적으로 도달한 웹의 경로\n",
    "endpoint = \"http://openapi.reb.or.kr/OpenAPI_ToolInstallPackage/service/rest/RealEstateTradingSvc/getRealEstateTradingCount\"\n",
    "\n",
    "# 인증키 변수\n",
    "serviceKey = \"0OhBU7ZCGIobDVKDeBJDpmDRqK3IRNF6jlf%2FJB2diFAf%2FfR2czYO9A4UTGcsOwppV6W2HVUeho%2FFPwXoL6DwqA%3D%3D\"\n",
    "# 실제 인증키 : zmekiZmDRmDEuqY1Q3HE%2B4csRhVzKSY7v9YTtoNvYIUND4d2LF84OaIhRLvCSWXqu3trUsgTP95BkgGX8wz2fg%3D%3D\n",
    "\n",
    "# API 요청변수\n",
    "startmonth = \"201301\"\n",
    "endmonth = \"201312\"\n",
    "region = \"11000\"\n",
    "tradingtype = \"01\""
   ]
  },
  {
   "cell_type": "code",
   "execution_count": 3,
   "id": "936ed947",
   "metadata": {},
   "outputs": [],
   "source": [
    "url = endpoint + \"?\" + \"serviceKey=\" + serviceKey + \"&\" + \"startmonth=\" + startmonth + \"&\" + \"endmonth=\" + endmonth + \"&\" + \"region=\" + region + \"&\" + \"tradingtype=\" + tradingtype "
   ]
  },
  {
   "cell_type": "code",
   "execution_count": 4,
   "id": "c37ea123",
   "metadata": {},
   "outputs": [
    {
     "name": "stdout",
     "output_type": "stream",
     "text": [
      "http://openapi.reb.or.kr/OpenAPI_ToolInstallPackage/service/rest/RealEstateTradingSvc/getRealEstateTradingCount?serviceKey=0OhBU7ZCGIobDVKDeBJDpmDRqK3IRNF6jlf%2FJB2diFAf%2FfR2czYO9A4UTGcsOwppV6W2HVUeho%2FFPwXoL6DwqA%3D%3D&startmonth=201301&endmonth=201312&region=11000&tradingtype=01\n"
     ]
    }
   ],
   "source": [
    "print(url)"
   ]
  },
  {
   "cell_type": "code",
   "execution_count": 5,
   "id": "a242ecec",
   "metadata": {},
   "outputs": [],
   "source": [
    "html = urlopen(url)\n",
    "bs_obj = BeautifulSoup(html, \"html.parser\")"
   ]
  },
  {
   "cell_type": "code",
   "execution_count": 6,
   "id": "faa84797",
   "metadata": {},
   "outputs": [
    {
     "name": "stdout",
     "output_type": "stream",
     "text": [
      "<?xml version=\"1.0\" encoding=\"UTF-8\" standalone=\"yes\"?><response><header><resultcode>00</resultcode><resultmsg>NORMAL SERVICE.</resultmsg></header><body><item><regioncd>11000</regioncd><regionnm>서울</regionnm><rsrow>201301,9917|201302,10028|201303,15322|201304,17911|201305,19902|201306,25636|201307,13051|201308,12902|201309,14378|201310,20262|201311,19293|201312,21605</rsrow></item></body></response>\n"
     ]
    }
   ],
   "source": [
    "print(bs_obj)"
   ]
  },
  {
   "cell_type": "markdown",
   "id": "56a21185",
   "metadata": {},
   "source": [
    "#pandas로 한눈에 알아보는 데이터 만들기"
   ]
  },
  {
   "cell_type": "markdown",
   "id": "82f66fba",
   "metadata": {},
   "source": [
    "**과정**\n",
    "\n",
    "1. API제공 웹 사이트 접속\n",
    "2. 제공받은 API를 이용해서 파이썬으로 데이터를 불러온다\n",
    "3. 불러온 데이터에서 원하는 데이터 추출\n",
    "4. 데이터프레임 형태로 저장\n",
    "5. 데이터 시각화"
   ]
  },
  {
   "cell_type": "code",
   "execution_count": 7,
   "id": "65452749",
   "metadata": {},
   "outputs": [],
   "source": [
    "from bs4 import BeautifulSoup\n",
    "from urllib.request import urlopen\n",
    "\n",
    "# endpoint는 사용자가 최종적으로 도달한 웹의 경로\n",
    "endpoint = \"http://openapi.reb.or.kr/OpenAPI_ToolInstallPackage/service/rest/RealEstateTradingSvc/getRealEstateTradingCount\"\n",
    "\n",
    "# 인증키 변수\n",
    "serviceKey = \"0OhBU7ZCGIobDVKDeBJDpmDRqK3IRNF6jlf%2FJB2diFAf%2FfR2czYO9A4UTGcsOwppV6W2HVUeho%2FFPwXoL6DwqA%3D%3D\"\n",
    "# 실제 인증키 : zmekiZmDRmDEuqY1Q3HE%2B4csRhVzKSY7v9YTtoNvYIUND4d2LF84OaIhRLvCSWXqu3trUsgTP95BkgGX8wz2fg%3D%3D\n",
    "\n",
    "# API 요청변수\n",
    "startmonth = \"201901\"    # 원하는 날짜\n",
    "endmonth = \"202012\"\n",
    "region = \"11110\"    # '종로구'에 대한 지역코드 (참조 문서에 지역코드 있음)\n",
    "tradingtype = \"05\"    # 거래유형 코드"
   ]
  },
  {
   "cell_type": "code",
   "execution_count": 8,
   "id": "8aa9a78c",
   "metadata": {},
   "outputs": [],
   "source": [
    "url = endpoint + \"?\" + \"serviceKey=\" + serviceKey + \"&\" + \"startmonth=\" + startmonth + \"&\" + \"endmonth=\" + endmonth + \"&\" + \"region=\" + region + \"&\" + \"tradingtype=\" + tradingtype\n",
    "\n",
    "html = urlopen(url)\n",
    "bs_obj = BeautifulSoup(html, \"html.parser\")"
   ]
  },
  {
   "cell_type": "code",
   "execution_count": 9,
   "id": "6dcb5195",
   "metadata": {},
   "outputs": [
    {
     "name": "stdout",
     "output_type": "stream",
     "text": [
      "<?xml version=\"1.0\" encoding=\"UTF-8\" standalone=\"yes\"?><response><header><resultcode>00</resultcode><resultmsg>NORMAL SERVICE.</resultmsg></header><body><item><regioncd>11110</regioncd><regionnm>종로구</regionnm><rsrow>201901,51|201902,56|201903,78|201904,64|201905,43|201906,55|201907,75|201908,83|201909,63|201910,79|201911,115|201912,204|202001,194|202002,91|202003,104|202004,55|202005,68|202006,106|202007,173|202008,80|202009,57|202010,51|202011,100|202012,102</rsrow></item></body></response>\n"
     ]
    }
   ],
   "source": [
    "# 지금은 그냥 데이터들의 모음이고, 한 눈에 들어오지는 않는다.\n",
    "\n",
    "print(bs_obj)"
   ]
  },
  {
   "cell_type": "markdown",
   "id": "04544905",
   "metadata": {},
   "source": [
    "###크롤링 데이터를 데이터 프레임으로\n",
    "\n",
    "보기 쉽도록!!"
   ]
  },
  {
   "cell_type": "markdown",
   "id": "7e5bebe7",
   "metadata": {},
   "source": [
    "데이터를 리스트로 만들기"
   ]
  },
  {
   "cell_type": "code",
   "execution_count": 11,
   "id": "0ac29970",
   "metadata": {},
   "outputs": [
    {
     "name": "stdout",
     "output_type": "stream",
     "text": [
      "종로구\n"
     ]
    }
   ],
   "source": [
    "# regionnm태그에 있는 지역정보 추출하기\n",
    "\n",
    "regi = bs_obj.find(\"regionnm\").text\n",
    "print(regi)"
   ]
  },
  {
   "cell_type": "code",
   "execution_count": 13,
   "id": "f3c0e938",
   "metadata": {},
   "outputs": [
    {
     "name": "stdout",
     "output_type": "stream",
     "text": [
      "201901,51|201902,56|201903,78|201904,64|201905,43|201906,55|201907,75|201908,83|201909,63|201910,79|201911,115|201912,204|202001,194|202002,91|202003,104|202004,55|202005,68|202006,106|202007,173|202008,80|202009,57|202010,51|202011,100|202012,102\n"
     ]
    }
   ],
   "source": [
    "# rsrow 태그에 있는 기간 및 건수 데이터 추출\n",
    "# | 로 나누어져 있는 형태  ->  기간 , 건수 | 기간, 건수 | ...\n",
    "\n",
    "trade = bs_obj.find(\"rsrow\").text\n",
    "print(trade)"
   ]
  },
  {
   "cell_type": "code",
   "execution_count": 14,
   "id": "104efec8",
   "metadata": {},
   "outputs": [
    {
     "name": "stdout",
     "output_type": "stream",
     "text": [
      "['201901,51', '201902,56', '201903,78', '201904,64', '201905,43', '201906,55', '201907,75', '201908,83', '201909,63', '201910,79', '201911,115', '201912,204', '202001,194', '202002,91', '202003,104', '202004,55', '202005,68', '202006,106', '202007,173', '202008,80', '202009,57', '202010,51', '202011,100', '202012,102']\n"
     ]
    }
   ],
   "source": [
    "# | 기준 분해\n",
    "\n",
    "data = trade.split('|')\n",
    "print(data)"
   ]
  },
  {
   "cell_type": "code",
   "execution_count": 15,
   "id": "e682018c",
   "metadata": {},
   "outputs": [
    {
     "name": "stdout",
     "output_type": "stream",
     "text": [
      "['201901', '51']\n"
     ]
    }
   ],
   "source": [
    "# , 기준 분해\n",
    "\n",
    "value = data[0].split(\",\")\n",
    "print(value)"
   ]
  },
  {
   "cell_type": "markdown",
   "id": "0ce34e28",
   "metadata": {},
   "source": [
    "리스트 데이터를 데이터 프레임으로"
   ]
  },
  {
   "cell_type": "code",
   "execution_count": 56,
   "id": "c1796b70",
   "metadata": {},
   "outputs": [],
   "source": [
    "import pandas as pd\n",
    "\n",
    "col = ['지역', '날짜', '거래 건수']\n",
    "\n",
    "df = pd.DataFrame(columns=col)"
   ]
  },
  {
   "cell_type": "code",
   "execution_count": 57,
   "id": "c2e23690",
   "metadata": {},
   "outputs": [
    {
     "name": "stdout",
     "output_type": "stream",
     "text": [
      "Empty DataFrame\n",
      "Columns: [지역, 날짜, 거래 건수]\n",
      "Index: []\n"
     ]
    }
   ],
   "source": [
    "print(df)"
   ]
  },
  {
   "cell_type": "code",
   "execution_count": 59,
   "id": "533a5bcc",
   "metadata": {},
   "outputs": [
    {
     "name": "stderr",
     "output_type": "stream",
     "text": [
      "C:\\Users\\liver\\AppData\\Local\\Temp\\ipykernel_25944\\3342791734.py:8: FutureWarning: The frame.append method is deprecated and will be removed from pandas in a future version. Use pandas.concat instead.\n",
      "  df = df.append(df_row, ignore_index=True)    # append함수는 곧 없어진다..\n",
      "C:\\Users\\liver\\AppData\\Local\\Temp\\ipykernel_25944\\3342791734.py:8: FutureWarning: The frame.append method is deprecated and will be removed from pandas in a future version. Use pandas.concat instead.\n",
      "  df = df.append(df_row, ignore_index=True)    # append함수는 곧 없어진다..\n",
      "C:\\Users\\liver\\AppData\\Local\\Temp\\ipykernel_25944\\3342791734.py:8: FutureWarning: The frame.append method is deprecated and will be removed from pandas in a future version. Use pandas.concat instead.\n",
      "  df = df.append(df_row, ignore_index=True)    # append함수는 곧 없어진다..\n",
      "C:\\Users\\liver\\AppData\\Local\\Temp\\ipykernel_25944\\3342791734.py:8: FutureWarning: The frame.append method is deprecated and will be removed from pandas in a future version. Use pandas.concat instead.\n",
      "  df = df.append(df_row, ignore_index=True)    # append함수는 곧 없어진다..\n",
      "C:\\Users\\liver\\AppData\\Local\\Temp\\ipykernel_25944\\3342791734.py:8: FutureWarning: The frame.append method is deprecated and will be removed from pandas in a future version. Use pandas.concat instead.\n",
      "  df = df.append(df_row, ignore_index=True)    # append함수는 곧 없어진다..\n",
      "C:\\Users\\liver\\AppData\\Local\\Temp\\ipykernel_25944\\3342791734.py:8: FutureWarning: The frame.append method is deprecated and will be removed from pandas in a future version. Use pandas.concat instead.\n",
      "  df = df.append(df_row, ignore_index=True)    # append함수는 곧 없어진다..\n",
      "C:\\Users\\liver\\AppData\\Local\\Temp\\ipykernel_25944\\3342791734.py:8: FutureWarning: The frame.append method is deprecated and will be removed from pandas in a future version. Use pandas.concat instead.\n",
      "  df = df.append(df_row, ignore_index=True)    # append함수는 곧 없어진다..\n",
      "C:\\Users\\liver\\AppData\\Local\\Temp\\ipykernel_25944\\3342791734.py:8: FutureWarning: The frame.append method is deprecated and will be removed from pandas in a future version. Use pandas.concat instead.\n",
      "  df = df.append(df_row, ignore_index=True)    # append함수는 곧 없어진다..\n",
      "C:\\Users\\liver\\AppData\\Local\\Temp\\ipykernel_25944\\3342791734.py:8: FutureWarning: The frame.append method is deprecated and will be removed from pandas in a future version. Use pandas.concat instead.\n",
      "  df = df.append(df_row, ignore_index=True)    # append함수는 곧 없어진다..\n",
      "C:\\Users\\liver\\AppData\\Local\\Temp\\ipykernel_25944\\3342791734.py:8: FutureWarning: The frame.append method is deprecated and will be removed from pandas in a future version. Use pandas.concat instead.\n",
      "  df = df.append(df_row, ignore_index=True)    # append함수는 곧 없어진다..\n",
      "C:\\Users\\liver\\AppData\\Local\\Temp\\ipykernel_25944\\3342791734.py:8: FutureWarning: The frame.append method is deprecated and will be removed from pandas in a future version. Use pandas.concat instead.\n",
      "  df = df.append(df_row, ignore_index=True)    # append함수는 곧 없어진다..\n",
      "C:\\Users\\liver\\AppData\\Local\\Temp\\ipykernel_25944\\3342791734.py:8: FutureWarning: The frame.append method is deprecated and will be removed from pandas in a future version. Use pandas.concat instead.\n",
      "  df = df.append(df_row, ignore_index=True)    # append함수는 곧 없어진다..\n",
      "C:\\Users\\liver\\AppData\\Local\\Temp\\ipykernel_25944\\3342791734.py:8: FutureWarning: The frame.append method is deprecated and will be removed from pandas in a future version. Use pandas.concat instead.\n",
      "  df = df.append(df_row, ignore_index=True)    # append함수는 곧 없어진다..\n",
      "C:\\Users\\liver\\AppData\\Local\\Temp\\ipykernel_25944\\3342791734.py:8: FutureWarning: The frame.append method is deprecated and will be removed from pandas in a future version. Use pandas.concat instead.\n",
      "  df = df.append(df_row, ignore_index=True)    # append함수는 곧 없어진다..\n",
      "C:\\Users\\liver\\AppData\\Local\\Temp\\ipykernel_25944\\3342791734.py:8: FutureWarning: The frame.append method is deprecated and will be removed from pandas in a future version. Use pandas.concat instead.\n",
      "  df = df.append(df_row, ignore_index=True)    # append함수는 곧 없어진다..\n",
      "C:\\Users\\liver\\AppData\\Local\\Temp\\ipykernel_25944\\3342791734.py:8: FutureWarning: The frame.append method is deprecated and will be removed from pandas in a future version. Use pandas.concat instead.\n",
      "  df = df.append(df_row, ignore_index=True)    # append함수는 곧 없어진다..\n",
      "C:\\Users\\liver\\AppData\\Local\\Temp\\ipykernel_25944\\3342791734.py:8: FutureWarning: The frame.append method is deprecated and will be removed from pandas in a future version. Use pandas.concat instead.\n",
      "  df = df.append(df_row, ignore_index=True)    # append함수는 곧 없어진다..\n",
      "C:\\Users\\liver\\AppData\\Local\\Temp\\ipykernel_25944\\3342791734.py:8: FutureWarning: The frame.append method is deprecated and will be removed from pandas in a future version. Use pandas.concat instead.\n",
      "  df = df.append(df_row, ignore_index=True)    # append함수는 곧 없어진다..\n",
      "C:\\Users\\liver\\AppData\\Local\\Temp\\ipykernel_25944\\3342791734.py:8: FutureWarning: The frame.append method is deprecated and will be removed from pandas in a future version. Use pandas.concat instead.\n",
      "  df = df.append(df_row, ignore_index=True)    # append함수는 곧 없어진다..\n",
      "C:\\Users\\liver\\AppData\\Local\\Temp\\ipykernel_25944\\3342791734.py:8: FutureWarning: The frame.append method is deprecated and will be removed from pandas in a future version. Use pandas.concat instead.\n",
      "  df = df.append(df_row, ignore_index=True)    # append함수는 곧 없어진다..\n",
      "C:\\Users\\liver\\AppData\\Local\\Temp\\ipykernel_25944\\3342791734.py:8: FutureWarning: The frame.append method is deprecated and will be removed from pandas in a future version. Use pandas.concat instead.\n",
      "  df = df.append(df_row, ignore_index=True)    # append함수는 곧 없어진다..\n",
      "C:\\Users\\liver\\AppData\\Local\\Temp\\ipykernel_25944\\3342791734.py:8: FutureWarning: The frame.append method is deprecated and will be removed from pandas in a future version. Use pandas.concat instead.\n",
      "  df = df.append(df_row, ignore_index=True)    # append함수는 곧 없어진다..\n"
     ]
    },
    {
     "name": "stdout",
     "output_type": "stream",
     "text": [
      "     지역      날짜 거래 건수\n",
      "0   종로구  201901    51\n",
      "1   종로구  201902    56\n",
      "2   종로구  201903    78\n",
      "3   종로구  201904    64\n",
      "4   종로구  201905    43\n",
      "5   종로구  201906    55\n",
      "6   종로구  201907    75\n",
      "7   종로구  201908    83\n",
      "8   종로구  201909    63\n",
      "9   종로구  201910    79\n",
      "10  종로구  201911   115\n",
      "11  종로구  201912   204\n",
      "12  종로구  202001   194\n",
      "13  종로구  202002    91\n",
      "14  종로구  202003   104\n",
      "15  종로구  202004    55\n",
      "16  종로구  202005    68\n",
      "17  종로구  202006   106\n",
      "18  종로구  202007   173\n",
      "19  종로구  202008    80\n",
      "20  종로구  202009    57\n",
      "21  종로구  202010    51\n",
      "22  종로구  202011   100\n",
      "23  종로구  202012   102\n"
     ]
    },
    {
     "name": "stderr",
     "output_type": "stream",
     "text": [
      "C:\\Users\\liver\\AppData\\Local\\Temp\\ipykernel_25944\\3342791734.py:8: FutureWarning: The frame.append method is deprecated and will be removed from pandas in a future version. Use pandas.concat instead.\n",
      "  df = df.append(df_row, ignore_index=True)    # append함수는 곧 없어진다..\n",
      "C:\\Users\\liver\\AppData\\Local\\Temp\\ipykernel_25944\\3342791734.py:8: FutureWarning: The frame.append method is deprecated and will be removed from pandas in a future version. Use pandas.concat instead.\n",
      "  df = df.append(df_row, ignore_index=True)    # append함수는 곧 없어진다..\n"
     ]
    }
   ],
   "source": [
    "# 반복문으로 df에 추가\n",
    "# concat을 사용해서 다시 해보자..\n",
    "\n",
    "n = len(data)\n",
    "for i in range(n):\n",
    "    value = data[i].split(',')\n",
    "    row = [regi, value[0], int(value[1])]\n",
    "    df_row = pd.Series(row, index=col)    # 각 row를 Series 객체로 만들고\n",
    "    df = df.append(df_row, ignore_index=True)    # append함수는 곧 없어진다..\n",
    "\n",
    "print(df)"
   ]
  },
  {
   "cell_type": "markdown",
   "id": "20262e74",
   "metadata": {},
   "source": [
    "#matplotlib으로 데이터 시각화"
   ]
  },
  {
   "cell_type": "code",
   "execution_count": 60,
   "id": "a2c78a1c",
   "metadata": {},
   "outputs": [
    {
     "data": {
      "image/png": "[encoded data removed]",
      "text/plain": [
       "<Figure size 1440x720 with 1 Axes>"
      ]
     },
     "metadata": {
      "needs_background": "light"
     },
     "output_type": "display_data"
    }
   ],
   "source": [
    "import matplotlib.pyplot as plt\n",
    "\n",
    "plt.figure(figsize=(20, 10))   #fig 객체 생성\n",
    "plt.plot(df['날짜'], df['거래 건수'], color='b', marker='o')\n",
    "plt.show()"
   ]
  },
  {
   "cell_type": "markdown",
   "id": "e0a87d6d",
   "metadata": {},
   "source": [
    "#pandas와 matplotlib을 활용한 심화 실습"
   ]
  },
  {
   "cell_type": "code",
   "execution_count": 61,
   "id": "3e0bc3a9",
   "metadata": {},
   "outputs": [],
   "source": [
    "from bs4 import BeautifulSoup\n",
    "from urllib.request import urlopen\n",
    "import pandas as pd\n",
    "import matplotlib.pyplot as plt"
   ]
  },
  {
   "cell_type": "code",
   "execution_count": 62,
   "id": "bd61905e",
   "metadata": {},
   "outputs": [],
   "source": [
    "# endpoint는 사용자가 최종적으로 도달한 웹의 경로\n",
    "endpoint = \"http://openapi.reb.or.kr/OpenAPI_ToolInstallPackage/service/rest/RealEstateTradingSvc/getRealEstateTradingCount\"\n",
    "\n",
    "# 인증키 변수\n",
    "serviceKey = \"0OhBU7ZCGIobDVKDeBJDpmDRqK3IRNF6jlf%2FJB2diFAf%2FfR2czYO9A4UTGcsOwppV6W2HVUeho%2FFPwXoL6DwqA%3D%3D\"\n",
    "# 실제 인증키 : zmekiZmDRmDEuqY1Q3HE%2B4csRhVzKSY7v9YTtoNvYIUND4d2LF84OaIhRLvCSWXqu3trUsgTP95BkgGX8wz2fg%3D%3D\n",
    "\n",
    "# API 요청변수\n",
    "startmonth = \"201901\"    # 원하는 날짜\n",
    "endmonth = \"202012\"\n",
    "region = [\"11110\", \"11215\", \"11620\"]    # 종로, 광진, 관악구의 지역코드\n",
    "tradingtype = \"05\"    # 거래유형 코드"
   ]
  },
  {
   "cell_type": "code",
   "execution_count": 63,
   "id": "060c6867",
   "metadata": {},
   "outputs": [],
   "source": [
    "m = len(region)\n",
    "df = pd.DataFrame(columns = col)"
   ]
  },
  {
   "cell_type": "code",
   "execution_count": 64,
   "id": "91f9e683",
   "metadata": {},
   "outputs": [
    {
     "name": "stderr",
     "output_type": "stream",
     "text": [
      "C:\\Users\\liver\\AppData\\Local\\Temp\\ipykernel_25944\\217307003.py:17: FutureWarning: The frame.append method is deprecated and will be removed from pandas in a future version. Use pandas.concat instead.\n",
      "  df = df.append(df_row, ignore_index=True)    # append함수는 곧 없어진다..\n",
      "C:\\Users\\liver\\AppData\\Local\\Temp\\ipykernel_25944\\217307003.py:17: FutureWarning: The frame.append method is deprecated and will be removed from pandas in a future version. Use pandas.concat instead.\n",
      "  df = df.append(df_row, ignore_index=True)    # append함수는 곧 없어진다..\n",
      "C:\\Users\\liver\\AppData\\Local\\Temp\\ipykernel_25944\\217307003.py:17: FutureWarning: The frame.append method is deprecated and will be removed from pandas in a future version. Use pandas.concat instead.\n",
      "  df = df.append(df_row, ignore_index=True)    # append함수는 곧 없어진다..\n",
      "C:\\Users\\liver\\AppData\\Local\\Temp\\ipykernel_25944\\217307003.py:17: FutureWarning: The frame.append method is deprecated and will be removed from pandas in a future version. Use pandas.concat instead.\n",
      "  df = df.append(df_row, ignore_index=True)    # append함수는 곧 없어진다..\n",
      "C:\\Users\\liver\\AppData\\Local\\Temp\\ipykernel_25944\\217307003.py:17: FutureWarning: The frame.append method is deprecated and will be removed from pandas in a future version. Use pandas.concat instead.\n",
      "  df = df.append(df_row, ignore_index=True)    # append함수는 곧 없어진다..\n",
      "C:\\Users\\liver\\AppData\\Local\\Temp\\ipykernel_25944\\217307003.py:17: FutureWarning: The frame.append method is deprecated and will be removed from pandas in a future version. Use pandas.concat instead.\n",
      "  df = df.append(df_row, ignore_index=True)    # append함수는 곧 없어진다..\n",
      "C:\\Users\\liver\\AppData\\Local\\Temp\\ipykernel_25944\\217307003.py:17: FutureWarning: The frame.append method is deprecated and will be removed from pandas in a future version. Use pandas.concat instead.\n",
      "  df = df.append(df_row, ignore_index=True)    # append함수는 곧 없어진다..\n",
      "C:\\Users\\liver\\AppData\\Local\\Temp\\ipykernel_25944\\217307003.py:17: FutureWarning: The frame.append method is deprecated and will be removed from pandas in a future version. Use pandas.concat instead.\n",
      "  df = df.append(df_row, ignore_index=True)    # append함수는 곧 없어진다..\n",
      "C:\\Users\\liver\\AppData\\Local\\Temp\\ipykernel_25944\\217307003.py:17: FutureWarning: The frame.append method is deprecated and will be removed from pandas in a future version. Use pandas.concat instead.\n",
      "  df = df.append(df_row, ignore_index=True)    # append함수는 곧 없어진다..\n",
      "C:\\Users\\liver\\AppData\\Local\\Temp\\ipykernel_25944\\217307003.py:17: FutureWarning: The frame.append method is deprecated and will be removed from pandas in a future version. Use pandas.concat instead.\n",
      "  df = df.append(df_row, ignore_index=True)    # append함수는 곧 없어진다..\n",
      "C:\\Users\\liver\\AppData\\Local\\Temp\\ipykernel_25944\\217307003.py:17: FutureWarning: The frame.append method is deprecated and will be removed from pandas in a future version. Use pandas.concat instead.\n",
      "  df = df.append(df_row, ignore_index=True)    # append함수는 곧 없어진다..\n",
      "C:\\Users\\liver\\AppData\\Local\\Temp\\ipykernel_25944\\217307003.py:17: FutureWarning: The frame.append method is deprecated and will be removed from pandas in a future version. Use pandas.concat instead.\n",
      "  df = df.append(df_row, ignore_index=True)    # append함수는 곧 없어진다..\n",
      "C:\\Users\\liver\\AppData\\Local\\Temp\\ipykernel_25944\\217307003.py:17: FutureWarning: The frame.append method is deprecated and will be removed from pandas in a future version. Use pandas.concat instead.\n",
      "  df = df.append(df_row, ignore_index=True)    # append함수는 곧 없어진다..\n",
      "C:\\Users\\liver\\AppData\\Local\\Temp\\ipykernel_25944\\217307003.py:17: FutureWarning: The frame.append method is deprecated and will be removed from pandas in a future version. Use pandas.concat instead.\n",
      "  df = df.append(df_row, ignore_index=True)    # append함수는 곧 없어진다..\n",
      "C:\\Users\\liver\\AppData\\Local\\Temp\\ipykernel_25944\\217307003.py:17: FutureWarning: The frame.append method is deprecated and will be removed from pandas in a future version. Use pandas.concat instead.\n",
      "  df = df.append(df_row, ignore_index=True)    # append함수는 곧 없어진다..\n",
      "C:\\Users\\liver\\AppData\\Local\\Temp\\ipykernel_25944\\217307003.py:17: FutureWarning: The frame.append method is deprecated and will be removed from pandas in a future version. Use pandas.concat instead.\n",
      "  df = df.append(df_row, ignore_index=True)    # append함수는 곧 없어진다..\n",
      "C:\\Users\\liver\\AppData\\Local\\Temp\\ipykernel_25944\\217307003.py:17: FutureWarning: The frame.append method is deprecated and will be removed from pandas in a future version. Use pandas.concat instead.\n",
      "  df = df.append(df_row, ignore_index=True)    # append함수는 곧 없어진다..\n",
      "C:\\Users\\liver\\AppData\\Local\\Temp\\ipykernel_25944\\217307003.py:17: FutureWarning: The frame.append method is deprecated and will be removed from pandas in a future version. Use pandas.concat instead.\n",
      "  df = df.append(df_row, ignore_index=True)    # append함수는 곧 없어진다..\n",
      "C:\\Users\\liver\\AppData\\Local\\Temp\\ipykernel_25944\\217307003.py:17: FutureWarning: The frame.append method is deprecated and will be removed from pandas in a future version. Use pandas.concat instead.\n",
      "  df = df.append(df_row, ignore_index=True)    # append함수는 곧 없어진다..\n",
      "C:\\Users\\liver\\AppData\\Local\\Temp\\ipykernel_25944\\217307003.py:17: FutureWarning: The frame.append method is deprecated and will be removed from pandas in a future version. Use pandas.concat instead.\n",
      "  df = df.append(df_row, ignore_index=True)    # append함수는 곧 없어진다..\n",
      "C:\\Users\\liver\\AppData\\Local\\Temp\\ipykernel_25944\\217307003.py:17: FutureWarning: The frame.append method is deprecated and will be removed from pandas in a future version. Use pandas.concat instead.\n",
      "  df = df.append(df_row, ignore_index=True)    # append함수는 곧 없어진다..\n",
      "C:\\Users\\liver\\AppData\\Local\\Temp\\ipykernel_25944\\217307003.py:17: FutureWarning: The frame.append method is deprecated and will be removed from pandas in a future version. Use pandas.concat instead.\n",
      "  df = df.append(df_row, ignore_index=True)    # append함수는 곧 없어진다..\n",
      "C:\\Users\\liver\\AppData\\Local\\Temp\\ipykernel_25944\\217307003.py:17: FutureWarning: The frame.append method is deprecated and will be removed from pandas in a future version. Use pandas.concat instead.\n",
      "  df = df.append(df_row, ignore_index=True)    # append함수는 곧 없어진다..\n",
      "C:\\Users\\liver\\AppData\\Local\\Temp\\ipykernel_25944\\217307003.py:17: FutureWarning: The frame.append method is deprecated and will be removed from pandas in a future version. Use pandas.concat instead.\n",
      "  df = df.append(df_row, ignore_index=True)    # append함수는 곧 없어진다..\n",
      "C:\\Users\\liver\\AppData\\Local\\Temp\\ipykernel_25944\\217307003.py:17: FutureWarning: The frame.append method is deprecated and will be removed from pandas in a future version. Use pandas.concat instead.\n",
      "  df = df.append(df_row, ignore_index=True)    # append함수는 곧 없어진다..\n",
      "C:\\Users\\liver\\AppData\\Local\\Temp\\ipykernel_25944\\217307003.py:17: FutureWarning: The frame.append method is deprecated and will be removed from pandas in a future version. Use pandas.concat instead.\n",
      "  df = df.append(df_row, ignore_index=True)    # append함수는 곧 없어진다..\n",
      "C:\\Users\\liver\\AppData\\Local\\Temp\\ipykernel_25944\\217307003.py:17: FutureWarning: The frame.append method is deprecated and will be removed from pandas in a future version. Use pandas.concat instead.\n",
      "  df = df.append(df_row, ignore_index=True)    # append함수는 곧 없어진다..\n",
      "C:\\Users\\liver\\AppData\\Local\\Temp\\ipykernel_25944\\217307003.py:17: FutureWarning: The frame.append method is deprecated and will be removed from pandas in a future version. Use pandas.concat instead.\n",
      "  df = df.append(df_row, ignore_index=True)    # append함수는 곧 없어진다..\n",
      "C:\\Users\\liver\\AppData\\Local\\Temp\\ipykernel_25944\\217307003.py:17: FutureWarning: The frame.append method is deprecated and will be removed from pandas in a future version. Use pandas.concat instead.\n",
      "  df = df.append(df_row, ignore_index=True)    # append함수는 곧 없어진다..\n",
      "C:\\Users\\liver\\AppData\\Local\\Temp\\ipykernel_25944\\217307003.py:17: FutureWarning: The frame.append method is deprecated and will be removed from pandas in a future version. Use pandas.concat instead.\n",
      "  df = df.append(df_row, ignore_index=True)    # append함수는 곧 없어진다..\n",
      "C:\\Users\\liver\\AppData\\Local\\Temp\\ipykernel_25944\\217307003.py:17: FutureWarning: The frame.append method is deprecated and will be removed from pandas in a future version. Use pandas.concat instead.\n",
      "  df = df.append(df_row, ignore_index=True)    # append함수는 곧 없어진다..\n",
      "C:\\Users\\liver\\AppData\\Local\\Temp\\ipykernel_25944\\217307003.py:17: FutureWarning: The frame.append method is deprecated and will be removed from pandas in a future version. Use pandas.concat instead.\n",
      "  df = df.append(df_row, ignore_index=True)    # append함수는 곧 없어진다..\n",
      "C:\\Users\\liver\\AppData\\Local\\Temp\\ipykernel_25944\\217307003.py:17: FutureWarning: The frame.append method is deprecated and will be removed from pandas in a future version. Use pandas.concat instead.\n",
      "  df = df.append(df_row, ignore_index=True)    # append함수는 곧 없어진다..\n",
      "C:\\Users\\liver\\AppData\\Local\\Temp\\ipykernel_25944\\217307003.py:17: FutureWarning: The frame.append method is deprecated and will be removed from pandas in a future version. Use pandas.concat instead.\n",
      "  df = df.append(df_row, ignore_index=True)    # append함수는 곧 없어진다..\n",
      "C:\\Users\\liver\\AppData\\Local\\Temp\\ipykernel_25944\\217307003.py:17: FutureWarning: The frame.append method is deprecated and will be removed from pandas in a future version. Use pandas.concat instead.\n",
      "  df = df.append(df_row, ignore_index=True)    # append함수는 곧 없어진다..\n",
      "C:\\Users\\liver\\AppData\\Local\\Temp\\ipykernel_25944\\217307003.py:17: FutureWarning: The frame.append method is deprecated and will be removed from pandas in a future version. Use pandas.concat instead.\n",
      "  df = df.append(df_row, ignore_index=True)    # append함수는 곧 없어진다..\n",
      "C:\\Users\\liver\\AppData\\Local\\Temp\\ipykernel_25944\\217307003.py:17: FutureWarning: The frame.append method is deprecated and will be removed from pandas in a future version. Use pandas.concat instead.\n",
      "  df = df.append(df_row, ignore_index=True)    # append함수는 곧 없어진다..\n"
     ]
    },
    {
     "name": "stderr",
     "output_type": "stream",
     "text": [
      "C:\\Users\\liver\\AppData\\Local\\Temp\\ipykernel_25944\\217307003.py:17: FutureWarning: The frame.append method is deprecated and will be removed from pandas in a future version. Use pandas.concat instead.\n",
      "  df = df.append(df_row, ignore_index=True)    # append함수는 곧 없어진다..\n",
      "C:\\Users\\liver\\AppData\\Local\\Temp\\ipykernel_25944\\217307003.py:17: FutureWarning: The frame.append method is deprecated and will be removed from pandas in a future version. Use pandas.concat instead.\n",
      "  df = df.append(df_row, ignore_index=True)    # append함수는 곧 없어진다..\n",
      "C:\\Users\\liver\\AppData\\Local\\Temp\\ipykernel_25944\\217307003.py:17: FutureWarning: The frame.append method is deprecated and will be removed from pandas in a future version. Use pandas.concat instead.\n",
      "  df = df.append(df_row, ignore_index=True)    # append함수는 곧 없어진다..\n",
      "C:\\Users\\liver\\AppData\\Local\\Temp\\ipykernel_25944\\217307003.py:17: FutureWarning: The frame.append method is deprecated and will be removed from pandas in a future version. Use pandas.concat instead.\n",
      "  df = df.append(df_row, ignore_index=True)    # append함수는 곧 없어진다..\n",
      "C:\\Users\\liver\\AppData\\Local\\Temp\\ipykernel_25944\\217307003.py:17: FutureWarning: The frame.append method is deprecated and will be removed from pandas in a future version. Use pandas.concat instead.\n",
      "  df = df.append(df_row, ignore_index=True)    # append함수는 곧 없어진다..\n",
      "C:\\Users\\liver\\AppData\\Local\\Temp\\ipykernel_25944\\217307003.py:17: FutureWarning: The frame.append method is deprecated and will be removed from pandas in a future version. Use pandas.concat instead.\n",
      "  df = df.append(df_row, ignore_index=True)    # append함수는 곧 없어진다..\n",
      "C:\\Users\\liver\\AppData\\Local\\Temp\\ipykernel_25944\\217307003.py:17: FutureWarning: The frame.append method is deprecated and will be removed from pandas in a future version. Use pandas.concat instead.\n",
      "  df = df.append(df_row, ignore_index=True)    # append함수는 곧 없어진다..\n",
      "C:\\Users\\liver\\AppData\\Local\\Temp\\ipykernel_25944\\217307003.py:17: FutureWarning: The frame.append method is deprecated and will be removed from pandas in a future version. Use pandas.concat instead.\n",
      "  df = df.append(df_row, ignore_index=True)    # append함수는 곧 없어진다..\n",
      "C:\\Users\\liver\\AppData\\Local\\Temp\\ipykernel_25944\\217307003.py:17: FutureWarning: The frame.append method is deprecated and will be removed from pandas in a future version. Use pandas.concat instead.\n",
      "  df = df.append(df_row, ignore_index=True)    # append함수는 곧 없어진다..\n",
      "C:\\Users\\liver\\AppData\\Local\\Temp\\ipykernel_25944\\217307003.py:17: FutureWarning: The frame.append method is deprecated and will be removed from pandas in a future version. Use pandas.concat instead.\n",
      "  df = df.append(df_row, ignore_index=True)    # append함수는 곧 없어진다..\n",
      "C:\\Users\\liver\\AppData\\Local\\Temp\\ipykernel_25944\\217307003.py:17: FutureWarning: The frame.append method is deprecated and will be removed from pandas in a future version. Use pandas.concat instead.\n",
      "  df = df.append(df_row, ignore_index=True)    # append함수는 곧 없어진다..\n",
      "C:\\Users\\liver\\AppData\\Local\\Temp\\ipykernel_25944\\217307003.py:17: FutureWarning: The frame.append method is deprecated and will be removed from pandas in a future version. Use pandas.concat instead.\n",
      "  df = df.append(df_row, ignore_index=True)    # append함수는 곧 없어진다..\n",
      "C:\\Users\\liver\\AppData\\Local\\Temp\\ipykernel_25944\\217307003.py:17: FutureWarning: The frame.append method is deprecated and will be removed from pandas in a future version. Use pandas.concat instead.\n",
      "  df = df.append(df_row, ignore_index=True)    # append함수는 곧 없어진다..\n",
      "C:\\Users\\liver\\AppData\\Local\\Temp\\ipykernel_25944\\217307003.py:17: FutureWarning: The frame.append method is deprecated and will be removed from pandas in a future version. Use pandas.concat instead.\n",
      "  df = df.append(df_row, ignore_index=True)    # append함수는 곧 없어진다..\n",
      "C:\\Users\\liver\\AppData\\Local\\Temp\\ipykernel_25944\\217307003.py:17: FutureWarning: The frame.append method is deprecated and will be removed from pandas in a future version. Use pandas.concat instead.\n",
      "  df = df.append(df_row, ignore_index=True)    # append함수는 곧 없어진다..\n",
      "C:\\Users\\liver\\AppData\\Local\\Temp\\ipykernel_25944\\217307003.py:17: FutureWarning: The frame.append method is deprecated and will be removed from pandas in a future version. Use pandas.concat instead.\n",
      "  df = df.append(df_row, ignore_index=True)    # append함수는 곧 없어진다..\n",
      "C:\\Users\\liver\\AppData\\Local\\Temp\\ipykernel_25944\\217307003.py:17: FutureWarning: The frame.append method is deprecated and will be removed from pandas in a future version. Use pandas.concat instead.\n",
      "  df = df.append(df_row, ignore_index=True)    # append함수는 곧 없어진다..\n",
      "C:\\Users\\liver\\AppData\\Local\\Temp\\ipykernel_25944\\217307003.py:17: FutureWarning: The frame.append method is deprecated and will be removed from pandas in a future version. Use pandas.concat instead.\n",
      "  df = df.append(df_row, ignore_index=True)    # append함수는 곧 없어진다..\n",
      "C:\\Users\\liver\\AppData\\Local\\Temp\\ipykernel_25944\\217307003.py:17: FutureWarning: The frame.append method is deprecated and will be removed from pandas in a future version. Use pandas.concat instead.\n",
      "  df = df.append(df_row, ignore_index=True)    # append함수는 곧 없어진다..\n",
      "C:\\Users\\liver\\AppData\\Local\\Temp\\ipykernel_25944\\217307003.py:17: FutureWarning: The frame.append method is deprecated and will be removed from pandas in a future version. Use pandas.concat instead.\n",
      "  df = df.append(df_row, ignore_index=True)    # append함수는 곧 없어진다..\n",
      "C:\\Users\\liver\\AppData\\Local\\Temp\\ipykernel_25944\\217307003.py:17: FutureWarning: The frame.append method is deprecated and will be removed from pandas in a future version. Use pandas.concat instead.\n",
      "  df = df.append(df_row, ignore_index=True)    # append함수는 곧 없어진다..\n",
      "C:\\Users\\liver\\AppData\\Local\\Temp\\ipykernel_25944\\217307003.py:17: FutureWarning: The frame.append method is deprecated and will be removed from pandas in a future version. Use pandas.concat instead.\n",
      "  df = df.append(df_row, ignore_index=True)    # append함수는 곧 없어진다..\n",
      "C:\\Users\\liver\\AppData\\Local\\Temp\\ipykernel_25944\\217307003.py:17: FutureWarning: The frame.append method is deprecated and will be removed from pandas in a future version. Use pandas.concat instead.\n",
      "  df = df.append(df_row, ignore_index=True)    # append함수는 곧 없어진다..\n",
      "C:\\Users\\liver\\AppData\\Local\\Temp\\ipykernel_25944\\217307003.py:17: FutureWarning: The frame.append method is deprecated and will be removed from pandas in a future version. Use pandas.concat instead.\n",
      "  df = df.append(df_row, ignore_index=True)    # append함수는 곧 없어진다..\n",
      "C:\\Users\\liver\\AppData\\Local\\Temp\\ipykernel_25944\\217307003.py:17: FutureWarning: The frame.append method is deprecated and will be removed from pandas in a future version. Use pandas.concat instead.\n",
      "  df = df.append(df_row, ignore_index=True)    # append함수는 곧 없어진다..\n",
      "C:\\Users\\liver\\AppData\\Local\\Temp\\ipykernel_25944\\217307003.py:17: FutureWarning: The frame.append method is deprecated and will be removed from pandas in a future version. Use pandas.concat instead.\n",
      "  df = df.append(df_row, ignore_index=True)    # append함수는 곧 없어진다..\n",
      "C:\\Users\\liver\\AppData\\Local\\Temp\\ipykernel_25944\\217307003.py:17: FutureWarning: The frame.append method is deprecated and will be removed from pandas in a future version. Use pandas.concat instead.\n",
      "  df = df.append(df_row, ignore_index=True)    # append함수는 곧 없어진다..\n",
      "C:\\Users\\liver\\AppData\\Local\\Temp\\ipykernel_25944\\217307003.py:17: FutureWarning: The frame.append method is deprecated and will be removed from pandas in a future version. Use pandas.concat instead.\n",
      "  df = df.append(df_row, ignore_index=True)    # append함수는 곧 없어진다..\n",
      "C:\\Users\\liver\\AppData\\Local\\Temp\\ipykernel_25944\\217307003.py:17: FutureWarning: The frame.append method is deprecated and will be removed from pandas in a future version. Use pandas.concat instead.\n",
      "  df = df.append(df_row, ignore_index=True)    # append함수는 곧 없어진다..\n",
      "C:\\Users\\liver\\AppData\\Local\\Temp\\ipykernel_25944\\217307003.py:17: FutureWarning: The frame.append method is deprecated and will be removed from pandas in a future version. Use pandas.concat instead.\n",
      "  df = df.append(df_row, ignore_index=True)    # append함수는 곧 없어진다..\n",
      "C:\\Users\\liver\\AppData\\Local\\Temp\\ipykernel_25944\\217307003.py:17: FutureWarning: The frame.append method is deprecated and will be removed from pandas in a future version. Use pandas.concat instead.\n",
      "  df = df.append(df_row, ignore_index=True)    # append함수는 곧 없어진다..\n",
      "C:\\Users\\liver\\AppData\\Local\\Temp\\ipykernel_25944\\217307003.py:17: FutureWarning: The frame.append method is deprecated and will be removed from pandas in a future version. Use pandas.concat instead.\n",
      "  df = df.append(df_row, ignore_index=True)    # append함수는 곧 없어진다..\n",
      "C:\\Users\\liver\\AppData\\Local\\Temp\\ipykernel_25944\\217307003.py:17: FutureWarning: The frame.append method is deprecated and will be removed from pandas in a future version. Use pandas.concat instead.\n",
      "  df = df.append(df_row, ignore_index=True)    # append함수는 곧 없어진다..\n",
      "C:\\Users\\liver\\AppData\\Local\\Temp\\ipykernel_25944\\217307003.py:17: FutureWarning: The frame.append method is deprecated and will be removed from pandas in a future version. Use pandas.concat instead.\n",
      "  df = df.append(df_row, ignore_index=True)    # append함수는 곧 없어진다..\n"
     ]
    },
    {
     "name": "stdout",
     "output_type": "stream",
     "text": [
      "     지역      날짜 거래 건수\n",
      "0   종로구  201901    51\n",
      "1   종로구  201902    56\n",
      "2   종로구  201903    78\n",
      "3   종로구  201904    64\n",
      "4   종로구  201905    43\n",
      "..  ...     ...   ...\n",
      "67  관악구  202008   275\n",
      "68  관악구  202009   404\n",
      "69  관악구  202010   227\n",
      "70  관악구  202011   195\n",
      "71  관악구  202012   368\n",
      "\n",
      "[72 rows x 3 columns]\n"
     ]
    },
    {
     "name": "stderr",
     "output_type": "stream",
     "text": [
      "C:\\Users\\liver\\AppData\\Local\\Temp\\ipykernel_25944\\217307003.py:17: FutureWarning: The frame.append method is deprecated and will be removed from pandas in a future version. Use pandas.concat instead.\n",
      "  df = df.append(df_row, ignore_index=True)    # append함수는 곧 없어진다..\n"
     ]
    }
   ],
   "source": [
    "for j in range(m):\n",
    "    url = endpoint + \"?\" +\"serviceKey=\" + serviceKey + \"&\" + \"startmonth=\" + startmonth + \"&\" +\\\n",
    "    \"endmonth=\" + endmonth + \"&\" + \"region=\" + region[j] + \"&\" + \"tradingtype=\" + tradingtype\n",
    "\n",
    "    html = urlopen(url)\n",
    "    bs_obj = BeautifulSoup(html, \"html.parser\")\n",
    "\n",
    "    regi = bs_obj.find(\"regionnm\").text\n",
    "    trade = bs_obj.find(\"rsrow\").text\n",
    "    data = trade.split('|')\n",
    "    \n",
    "    n = len(data)\n",
    "    for i in range(n):\n",
    "        value = data[i].split(',')\n",
    "        row = [regi, value[0], int(value[1])]\n",
    "        df_row = pd.Series(row, index=col)    # 각 row를 Series 객체로 만들고\n",
    "        df = df.append(df_row, ignore_index=True)    # append함수는 곧 없어진다..\n",
    "\n",
    "print(df)"
   ]
  },
  {
   "cell_type": "code",
   "execution_count": 67,
   "id": "1b20a1fe",
   "metadata": {},
   "outputs": [
    {
     "data": {
      "image/png": "[encoded data removed]",
      "text/plain": [
       "<Figure size 1440x720 with 1 Axes>"
      ]
     },
     "metadata": {
      "needs_background": "light"
     },
     "output_type": "display_data"
    }
   ],
   "source": [
    "# 지역별 따로 시각화\n",
    "\n",
    "df1 = df[df['지역'] == '종로구']\n",
    "df2 = df[df['지역'] == '광진구']\n",
    "df3 = df[df['지역'] == '관악구']\n",
    "\n",
    "plt.figure(figsize=(20, 10))   #fig 객체 생성\n",
    "plt.plot(df1['날짜'], df1['거래 건수'], color='b', marker='o', linestyle='-', label='Jongro')\n",
    "plt.plot(df2['날짜'], df2['거래 건수'], color='r', marker='^', linestyle='--', label='Gwangjin')\n",
    "plt.plot(df3['날짜'], df3['거래 건수'], color='g', marker='s', linestyle='-.', label='gwanak')\n",
    "plt.legend(fontsize=20)\n",
    "plt.show()"
   ]
  },
  {
   "cell_type": "markdown",
   "id": "9a3285f1",
   "metadata": {},
   "source": [
    "#파이썬으로 CSV 파일 다루기"
   ]
  },
  {
   "cell_type": "code",
   "execution_count": 68,
   "id": "72ef7801",
   "metadata": {},
   "outputs": [
    {
     "name": "stdout",
     "output_type": "stream",
     "text": [
      "     지역      날짜 거래 건수\n",
      "0   종로구  201901    51\n",
      "1   종로구  201902    56\n",
      "2   종로구  201903    78\n",
      "3   종로구  201904    64\n",
      "4   종로구  201905    43\n",
      "..  ...     ...   ...\n",
      "67  관악구  202008   275\n",
      "68  관악구  202009   404\n",
      "69  관악구  202010   227\n",
      "70  관악구  202011   195\n",
      "71  관악구  202012   368\n",
      "\n",
      "[72 rows x 3 columns]\n"
     ]
    }
   ],
   "source": [
    "# df를 csv파일로 바꾸기\n",
    "\n",
    "print(df)"
   ]
  },
  {
   "cell_type": "code",
   "execution_count": 70,
   "id": "a9a14b4c",
   "metadata": {},
   "outputs": [],
   "source": [
    "# 책에서는 인코딩 문제로 한글이 안된다고 나옴\n",
    "# 하지만 되긴 했음..\n",
    "\n",
    "df.to_csv(\"./trade01.csv\", index=False)\n",
    "#df.to_csv(\"./trade02.csv\", encoding='CP949')  -> 인코딩 문제 해결"
   ]
  },
  {
   "cell_type": "code",
   "execution_count": 71,
   "id": "24bd4a8b",
   "metadata": {},
   "outputs": [],
   "source": [
    "# 다시 불러오기..\n",
    "\n",
    "data = pd.read_csv(\"./trade01.csv\")"
   ]
  },
  {
   "cell_type": "code",
   "execution_count": 72,
   "id": "6c5c3d60",
   "metadata": {},
   "outputs": [
    {
     "name": "stdout",
     "output_type": "stream",
     "text": [
      "     지역      날짜  거래 건수\n",
      "0   종로구  201901     51\n",
      "1   종로구  201902     56\n",
      "2   종로구  201903     78\n",
      "3   종로구  201904     64\n",
      "4   종로구  201905     43\n",
      "..  ...     ...    ...\n",
      "67  관악구  202008    275\n",
      "68  관악구  202009    404\n",
      "69  관악구  202010    227\n",
      "70  관악구  202011    195\n",
      "71  관악구  202012    368\n",
      "\n",
      "[72 rows x 3 columns]\n"
     ]
    }
   ],
   "source": [
    "print(data)"
   ]
  },
  {
   "cell_type": "markdown",
   "id": "fa3434e0",
   "metadata": {},
   "source": [
    "#파이썬으로 엑셀 파일 다루기"
   ]
  },
  {
   "cell_type": "code",
   "execution_count": 73,
   "id": "690ac0b5",
   "metadata": {},
   "outputs": [],
   "source": [
    "# 이것도 한글 인코딩 문제없이 잘 됨\n",
    "\n",
    "df.to_excel(\"./trade02.xlsx\", index=False)"
   ]
  },
  {
   "cell_type": "code",
   "execution_count": 75,
   "id": "24b867a6",
   "metadata": {},
   "outputs": [
    {
     "name": "stdout",
     "output_type": "stream",
     "text": [
      "     지역      날짜  거래 건수\n",
      "0   종로구  201901     51\n",
      "1   종로구  201902     56\n",
      "2   종로구  201903     78\n",
      "3   종로구  201904     64\n",
      "4   종로구  201905     43\n",
      "..  ...     ...    ...\n",
      "67  관악구  202008    275\n",
      "68  관악구  202009    404\n",
      "69  관악구  202010    227\n",
      "70  관악구  202011    195\n",
      "71  관악구  202012    368\n",
      "\n",
      "[72 rows x 3 columns]\n"
     ]
    }
   ],
   "source": [
    "# 다시 불러오기\n",
    "\n",
    "# 엔진 설정해줘야한다고 하는데 안해도 되긴하네..\n",
    "data = pd.read_excel(\"./trade02.xlsx\",)# engine='openpyxl')\n",
    "print(data)"
   ]
  }
 ],
 "metadata": {
  "kernelspec": {
   "display_name": "web_crawling",
   "language": "python",
   "name": "py3_8_5"
  },
  "language_info": {
   "codemirror_mode": {
    "name": "ipython",
    "version": 3
   },
   "file_extension": ".py",
   "mimetype": "text/x-python",
   "name": "python",
   "nbconvert_exporter": "python",
   "pygments_lexer": "ipython3",
   "version": "3.8.5"
  }
 },
 "nbformat": 4,
 "nbformat_minor": 5
}
